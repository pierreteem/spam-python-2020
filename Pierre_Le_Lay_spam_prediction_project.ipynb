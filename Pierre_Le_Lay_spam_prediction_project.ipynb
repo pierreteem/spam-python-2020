{
 "cells": [
  {
   "cell_type": "markdown",
   "metadata": {},
   "source": [
    "# Python for data analysis project: detection of spam emails\n",
    "### Pierre Le Lay, DIA2 "
   ]
  },
  {
   "cell_type": "code",
   "execution_count": 1,
   "metadata": {},
   "outputs": [],
   "source": [
    "import pandas as pd\n",
    "import matplotlib.pyplot as plt \n",
    "import seaborn as sns\n",
    "import numpy as np"
   ]
  },
  {
   "cell_type": "code",
   "execution_count": 2,
   "metadata": {},
   "outputs": [
    {
     "data": {
      "application/javascript": [
       "IPython.notebook.set_autosave_interval(60000)"
      ]
     },
     "metadata": {},
     "output_type": "display_data"
    },
    {
     "name": "stdout",
     "output_type": "stream",
     "text": [
      "Autosaving every 60 seconds\n"
     ]
    }
   ],
   "source": [
    "%autosave 60"
   ]
  },
  {
   "cell_type": "markdown",
   "metadata": {},
   "source": [
    "## Import spam data\n",
    "\n",
    "We import the data (spambase.data file) by setting the header to None as the file doesn't contain a first row with names of the attributes. "
   ]
  },
  {
   "cell_type": "code",
   "execution_count": 3,
   "metadata": {},
   "outputs": [
    {
     "data": {
      "text/html": [
       "<div>\n",
       "<style scoped>\n",
       "    .dataframe tbody tr th:only-of-type {\n",
       "        vertical-align: middle;\n",
       "    }\n",
       "\n",
       "    .dataframe tbody tr th {\n",
       "        vertical-align: top;\n",
       "    }\n",
       "\n",
       "    .dataframe thead th {\n",
       "        text-align: right;\n",
       "    }\n",
       "</style>\n",
       "<table border=\"1\" class=\"dataframe\">\n",
       "  <thead>\n",
       "    <tr style=\"text-align: right;\">\n",
       "      <th></th>\n",
       "      <th>0</th>\n",
       "      <th>1</th>\n",
       "      <th>2</th>\n",
       "      <th>3</th>\n",
       "      <th>4</th>\n",
       "      <th>5</th>\n",
       "      <th>6</th>\n",
       "      <th>7</th>\n",
       "      <th>8</th>\n",
       "      <th>9</th>\n",
       "      <th>...</th>\n",
       "      <th>48</th>\n",
       "      <th>49</th>\n",
       "      <th>50</th>\n",
       "      <th>51</th>\n",
       "      <th>52</th>\n",
       "      <th>53</th>\n",
       "      <th>54</th>\n",
       "      <th>55</th>\n",
       "      <th>56</th>\n",
       "      <th>57</th>\n",
       "    </tr>\n",
       "  </thead>\n",
       "  <tbody>\n",
       "    <tr>\n",
       "      <th>0</th>\n",
       "      <td>0.00</td>\n",
       "      <td>0.64</td>\n",
       "      <td>0.64</td>\n",
       "      <td>0.0</td>\n",
       "      <td>0.32</td>\n",
       "      <td>0.00</td>\n",
       "      <td>0.00</td>\n",
       "      <td>0.00</td>\n",
       "      <td>0.00</td>\n",
       "      <td>0.00</td>\n",
       "      <td>...</td>\n",
       "      <td>0.000</td>\n",
       "      <td>0.000</td>\n",
       "      <td>0.0</td>\n",
       "      <td>0.778</td>\n",
       "      <td>0.000</td>\n",
       "      <td>0.000</td>\n",
       "      <td>3.756</td>\n",
       "      <td>61</td>\n",
       "      <td>278</td>\n",
       "      <td>1</td>\n",
       "    </tr>\n",
       "    <tr>\n",
       "      <th>1</th>\n",
       "      <td>0.21</td>\n",
       "      <td>0.28</td>\n",
       "      <td>0.50</td>\n",
       "      <td>0.0</td>\n",
       "      <td>0.14</td>\n",
       "      <td>0.28</td>\n",
       "      <td>0.21</td>\n",
       "      <td>0.07</td>\n",
       "      <td>0.00</td>\n",
       "      <td>0.94</td>\n",
       "      <td>...</td>\n",
       "      <td>0.000</td>\n",
       "      <td>0.132</td>\n",
       "      <td>0.0</td>\n",
       "      <td>0.372</td>\n",
       "      <td>0.180</td>\n",
       "      <td>0.048</td>\n",
       "      <td>5.114</td>\n",
       "      <td>101</td>\n",
       "      <td>1028</td>\n",
       "      <td>1</td>\n",
       "    </tr>\n",
       "    <tr>\n",
       "      <th>2</th>\n",
       "      <td>0.06</td>\n",
       "      <td>0.00</td>\n",
       "      <td>0.71</td>\n",
       "      <td>0.0</td>\n",
       "      <td>1.23</td>\n",
       "      <td>0.19</td>\n",
       "      <td>0.19</td>\n",
       "      <td>0.12</td>\n",
       "      <td>0.64</td>\n",
       "      <td>0.25</td>\n",
       "      <td>...</td>\n",
       "      <td>0.010</td>\n",
       "      <td>0.143</td>\n",
       "      <td>0.0</td>\n",
       "      <td>0.276</td>\n",
       "      <td>0.184</td>\n",
       "      <td>0.010</td>\n",
       "      <td>9.821</td>\n",
       "      <td>485</td>\n",
       "      <td>2259</td>\n",
       "      <td>1</td>\n",
       "    </tr>\n",
       "    <tr>\n",
       "      <th>3</th>\n",
       "      <td>0.00</td>\n",
       "      <td>0.00</td>\n",
       "      <td>0.00</td>\n",
       "      <td>0.0</td>\n",
       "      <td>0.63</td>\n",
       "      <td>0.00</td>\n",
       "      <td>0.31</td>\n",
       "      <td>0.63</td>\n",
       "      <td>0.31</td>\n",
       "      <td>0.63</td>\n",
       "      <td>...</td>\n",
       "      <td>0.000</td>\n",
       "      <td>0.137</td>\n",
       "      <td>0.0</td>\n",
       "      <td>0.137</td>\n",
       "      <td>0.000</td>\n",
       "      <td>0.000</td>\n",
       "      <td>3.537</td>\n",
       "      <td>40</td>\n",
       "      <td>191</td>\n",
       "      <td>1</td>\n",
       "    </tr>\n",
       "    <tr>\n",
       "      <th>4</th>\n",
       "      <td>0.00</td>\n",
       "      <td>0.00</td>\n",
       "      <td>0.00</td>\n",
       "      <td>0.0</td>\n",
       "      <td>0.63</td>\n",
       "      <td>0.00</td>\n",
       "      <td>0.31</td>\n",
       "      <td>0.63</td>\n",
       "      <td>0.31</td>\n",
       "      <td>0.63</td>\n",
       "      <td>...</td>\n",
       "      <td>0.000</td>\n",
       "      <td>0.135</td>\n",
       "      <td>0.0</td>\n",
       "      <td>0.135</td>\n",
       "      <td>0.000</td>\n",
       "      <td>0.000</td>\n",
       "      <td>3.537</td>\n",
       "      <td>40</td>\n",
       "      <td>191</td>\n",
       "      <td>1</td>\n",
       "    </tr>\n",
       "    <tr>\n",
       "      <th>...</th>\n",
       "      <td>...</td>\n",
       "      <td>...</td>\n",
       "      <td>...</td>\n",
       "      <td>...</td>\n",
       "      <td>...</td>\n",
       "      <td>...</td>\n",
       "      <td>...</td>\n",
       "      <td>...</td>\n",
       "      <td>...</td>\n",
       "      <td>...</td>\n",
       "      <td>...</td>\n",
       "      <td>...</td>\n",
       "      <td>...</td>\n",
       "      <td>...</td>\n",
       "      <td>...</td>\n",
       "      <td>...</td>\n",
       "      <td>...</td>\n",
       "      <td>...</td>\n",
       "      <td>...</td>\n",
       "      <td>...</td>\n",
       "      <td>...</td>\n",
       "    </tr>\n",
       "    <tr>\n",
       "      <th>4596</th>\n",
       "      <td>0.31</td>\n",
       "      <td>0.00</td>\n",
       "      <td>0.62</td>\n",
       "      <td>0.0</td>\n",
       "      <td>0.00</td>\n",
       "      <td>0.31</td>\n",
       "      <td>0.00</td>\n",
       "      <td>0.00</td>\n",
       "      <td>0.00</td>\n",
       "      <td>0.00</td>\n",
       "      <td>...</td>\n",
       "      <td>0.000</td>\n",
       "      <td>0.232</td>\n",
       "      <td>0.0</td>\n",
       "      <td>0.000</td>\n",
       "      <td>0.000</td>\n",
       "      <td>0.000</td>\n",
       "      <td>1.142</td>\n",
       "      <td>3</td>\n",
       "      <td>88</td>\n",
       "      <td>0</td>\n",
       "    </tr>\n",
       "    <tr>\n",
       "      <th>4597</th>\n",
       "      <td>0.00</td>\n",
       "      <td>0.00</td>\n",
       "      <td>0.00</td>\n",
       "      <td>0.0</td>\n",
       "      <td>0.00</td>\n",
       "      <td>0.00</td>\n",
       "      <td>0.00</td>\n",
       "      <td>0.00</td>\n",
       "      <td>0.00</td>\n",
       "      <td>0.00</td>\n",
       "      <td>...</td>\n",
       "      <td>0.000</td>\n",
       "      <td>0.000</td>\n",
       "      <td>0.0</td>\n",
       "      <td>0.353</td>\n",
       "      <td>0.000</td>\n",
       "      <td>0.000</td>\n",
       "      <td>1.555</td>\n",
       "      <td>4</td>\n",
       "      <td>14</td>\n",
       "      <td>0</td>\n",
       "    </tr>\n",
       "    <tr>\n",
       "      <th>4598</th>\n",
       "      <td>0.30</td>\n",
       "      <td>0.00</td>\n",
       "      <td>0.30</td>\n",
       "      <td>0.0</td>\n",
       "      <td>0.00</td>\n",
       "      <td>0.00</td>\n",
       "      <td>0.00</td>\n",
       "      <td>0.00</td>\n",
       "      <td>0.00</td>\n",
       "      <td>0.00</td>\n",
       "      <td>...</td>\n",
       "      <td>0.102</td>\n",
       "      <td>0.718</td>\n",
       "      <td>0.0</td>\n",
       "      <td>0.000</td>\n",
       "      <td>0.000</td>\n",
       "      <td>0.000</td>\n",
       "      <td>1.404</td>\n",
       "      <td>6</td>\n",
       "      <td>118</td>\n",
       "      <td>0</td>\n",
       "    </tr>\n",
       "    <tr>\n",
       "      <th>4599</th>\n",
       "      <td>0.96</td>\n",
       "      <td>0.00</td>\n",
       "      <td>0.00</td>\n",
       "      <td>0.0</td>\n",
       "      <td>0.32</td>\n",
       "      <td>0.00</td>\n",
       "      <td>0.00</td>\n",
       "      <td>0.00</td>\n",
       "      <td>0.00</td>\n",
       "      <td>0.00</td>\n",
       "      <td>...</td>\n",
       "      <td>0.000</td>\n",
       "      <td>0.057</td>\n",
       "      <td>0.0</td>\n",
       "      <td>0.000</td>\n",
       "      <td>0.000</td>\n",
       "      <td>0.000</td>\n",
       "      <td>1.147</td>\n",
       "      <td>5</td>\n",
       "      <td>78</td>\n",
       "      <td>0</td>\n",
       "    </tr>\n",
       "    <tr>\n",
       "      <th>4600</th>\n",
       "      <td>0.00</td>\n",
       "      <td>0.00</td>\n",
       "      <td>0.65</td>\n",
       "      <td>0.0</td>\n",
       "      <td>0.00</td>\n",
       "      <td>0.00</td>\n",
       "      <td>0.00</td>\n",
       "      <td>0.00</td>\n",
       "      <td>0.00</td>\n",
       "      <td>0.00</td>\n",
       "      <td>...</td>\n",
       "      <td>0.000</td>\n",
       "      <td>0.000</td>\n",
       "      <td>0.0</td>\n",
       "      <td>0.125</td>\n",
       "      <td>0.000</td>\n",
       "      <td>0.000</td>\n",
       "      <td>1.250</td>\n",
       "      <td>5</td>\n",
       "      <td>40</td>\n",
       "      <td>0</td>\n",
       "    </tr>\n",
       "  </tbody>\n",
       "</table>\n",
       "<p>4601 rows × 58 columns</p>\n",
       "</div>"
      ],
      "text/plain": [
       "        0     1     2    3     4     5     6     7     8     9   ...     48  \\\n",
       "0     0.00  0.64  0.64  0.0  0.32  0.00  0.00  0.00  0.00  0.00  ...  0.000   \n",
       "1     0.21  0.28  0.50  0.0  0.14  0.28  0.21  0.07  0.00  0.94  ...  0.000   \n",
       "2     0.06  0.00  0.71  0.0  1.23  0.19  0.19  0.12  0.64  0.25  ...  0.010   \n",
       "3     0.00  0.00  0.00  0.0  0.63  0.00  0.31  0.63  0.31  0.63  ...  0.000   \n",
       "4     0.00  0.00  0.00  0.0  0.63  0.00  0.31  0.63  0.31  0.63  ...  0.000   \n",
       "...    ...   ...   ...  ...   ...   ...   ...   ...   ...   ...  ...    ...   \n",
       "4596  0.31  0.00  0.62  0.0  0.00  0.31  0.00  0.00  0.00  0.00  ...  0.000   \n",
       "4597  0.00  0.00  0.00  0.0  0.00  0.00  0.00  0.00  0.00  0.00  ...  0.000   \n",
       "4598  0.30  0.00  0.30  0.0  0.00  0.00  0.00  0.00  0.00  0.00  ...  0.102   \n",
       "4599  0.96  0.00  0.00  0.0  0.32  0.00  0.00  0.00  0.00  0.00  ...  0.000   \n",
       "4600  0.00  0.00  0.65  0.0  0.00  0.00  0.00  0.00  0.00  0.00  ...  0.000   \n",
       "\n",
       "         49   50     51     52     53     54   55    56  57  \n",
       "0     0.000  0.0  0.778  0.000  0.000  3.756   61   278   1  \n",
       "1     0.132  0.0  0.372  0.180  0.048  5.114  101  1028   1  \n",
       "2     0.143  0.0  0.276  0.184  0.010  9.821  485  2259   1  \n",
       "3     0.137  0.0  0.137  0.000  0.000  3.537   40   191   1  \n",
       "4     0.135  0.0  0.135  0.000  0.000  3.537   40   191   1  \n",
       "...     ...  ...    ...    ...    ...    ...  ...   ...  ..  \n",
       "4596  0.232  0.0  0.000  0.000  0.000  1.142    3    88   0  \n",
       "4597  0.000  0.0  0.353  0.000  0.000  1.555    4    14   0  \n",
       "4598  0.718  0.0  0.000  0.000  0.000  1.404    6   118   0  \n",
       "4599  0.057  0.0  0.000  0.000  0.000  1.147    5    78   0  \n",
       "4600  0.000  0.0  0.125  0.000  0.000  1.250    5    40   0  \n",
       "\n",
       "[4601 rows x 58 columns]"
      ]
     },
     "execution_count": 3,
     "metadata": {},
     "output_type": "execute_result"
    }
   ],
   "source": [
    "spambase = pd.read_table(\"spambase.data\",sep=',', header=None)\n",
    "spambase"
   ]
  },
  {
   "cell_type": "markdown",
   "metadata": {},
   "source": [
    "The data has been imported but the features are not named. Let's remedy that by adding them from the 'spambase.names' file provided by the researchers behind the dataset. \n",
    "\n",
    "First, here is the 'spambase.names' file to better understand the code below. "
   ]
  },
  {
   "cell_type": "code",
   "execution_count": 4,
   "metadata": {
    "scrolled": true
   },
   "outputs": [
    {
     "name": "stdout",
     "output_type": "stream",
     "text": [
      "| SPAM E-MAIL DATABASE ATTRIBUTES (in .names format)\n",
      "|\n",
      "| 48 continuous real [0,100] attributes of type word_freq_WORD \n",
      "| = percentage of words in the e-mail that match WORD,\n",
      "| i.e. 100 * (number of times the WORD appears in the e-mail) / \n",
      "| total number of words in e-mail.  A \"word\" in this case is any \n",
      "| string of alphanumeric characters bounded by non-alphanumeric \n",
      "| characters or end-of-string.\n",
      "|\n",
      "| 6 continuous real [0,100] attributes of type char_freq_CHAR\n",
      "| = percentage of characters in the e-mail that match CHAR,\n",
      "| i.e. 100 * (number of CHAR occurences) / total characters in e-mail\n",
      "|\n",
      "| 1 continuous real [1,...] attribute of type capital_run_length_average\n",
      "| = average length of uninterrupted sequences of capital letters\n",
      "|\n",
      "| 1 continuous integer [1,...] attribute of type capital_run_length_longest\n",
      "| = length of longest uninterrupted sequence of capital letters\n",
      "|\n",
      "| 1 continuous integer [1,...] attribute of type capital_run_length_total\n",
      "| = sum of length of uninterrupted sequences of capital letters\n",
      "| = total number of capital letters in the e-mail\n",
      "|\n",
      "| 1 nominal {0,1} class attribute of type spam\n",
      "| = denotes whether the e-mail was considered spam (1) or not (0), \n",
      "| i.e. unsolicited commercial e-mail.  \n",
      "|\n",
      "| For more information, see file 'spambase.DOCUMENTATION' at the\n",
      "| UCI Machine Learning Repository: http://www.ics.uci.edu/~mlearn/MLRepository.html\n",
      "\n",
      "\n",
      "1, 0.    | spam, non-spam classes\n",
      "\n",
      "word_freq_make:         continuous.\n",
      "word_freq_address:      continuous.\n",
      "word_freq_all:          continuous.\n",
      "word_freq_3d:           continuous.\n",
      "word_freq_our:          continuous.\n",
      "word_freq_over:         continuous.\n",
      "word_freq_remove:       continuous.\n",
      "word_freq_internet:     continuous.\n",
      "word_freq_order:        continuous.\n",
      "word_freq_mail:         continuous.\n",
      "word_freq_receive:      continuous.\n",
      "word_freq_will:         continuous.\n",
      "word_freq_people:       continuous.\n",
      "word_freq_report:       continuous.\n",
      "word_freq_addresses:    continuous.\n",
      "word_freq_free:         continuous.\n",
      "word_freq_business:     continuous.\n",
      "word_freq_email:        continuous.\n",
      "word_freq_you:          continuous.\n",
      "word_freq_credit:       continuous.\n",
      "word_freq_your:         continuous.\n",
      "word_freq_font:         continuous.\n",
      "word_freq_000:          continuous.\n",
      "word_freq_money:        continuous.\n",
      "word_freq_hp:           continuous.\n",
      "word_freq_hpl:          continuous.\n",
      "word_freq_george:       continuous.\n",
      "word_freq_650:          continuous.\n",
      "word_freq_lab:          continuous.\n",
      "word_freq_labs:         continuous.\n",
      "word_freq_telnet:       continuous.\n",
      "word_freq_857:          continuous.\n",
      "word_freq_data:         continuous.\n",
      "word_freq_415:          continuous.\n",
      "word_freq_85:           continuous.\n",
      "word_freq_technology:   continuous.\n",
      "word_freq_1999:         continuous.\n",
      "word_freq_parts:        continuous.\n",
      "word_freq_pm:           continuous.\n",
      "word_freq_direct:       continuous.\n",
      "word_freq_cs:           continuous.\n",
      "word_freq_meeting:      continuous.\n",
      "word_freq_original:     continuous.\n",
      "word_freq_project:      continuous.\n",
      "word_freq_re:           continuous.\n",
      "word_freq_edu:          continuous.\n",
      "word_freq_table:        continuous.\n",
      "word_freq_conference:   continuous.\n",
      "char_freq_;:            continuous.\n",
      "char_freq_(:            continuous.\n",
      "char_freq_[:            continuous.\n",
      "char_freq_!:            continuous.\n",
      "char_freq_$:            continuous.\n",
      "char_freq_#:            continuous.\n",
      "capital_run_length_average: continuous.\n",
      "capital_run_length_longest: continuous.\n",
      "capital_run_length_total:   continuous.\n",
      "\n"
     ]
    }
   ],
   "source": [
    "doc_names = open(\"spambase.names\")\n",
    "content = doc_names.read()\n",
    "print(content)\n",
    "doc_names.close()"
   ]
  },
  {
   "cell_type": "code",
   "execution_count": 5,
   "metadata": {},
   "outputs": [],
   "source": [
    "# function to get the feature names from the spambase.names file\n",
    "def get_names():\n",
    "    names = open(\"spambase.names\")\n",
    "    feature_names=[]\n",
    "    line = names.readline()\n",
    "    while \"classes\" not in line:\n",
    "    # in spambase.names the line with 'classes' is the last before the feature names\n",
    "        line = names. readline()\n",
    "    line=names.readline()  # for the blank line before the feature names\n",
    "    while(line): \n",
    "        # until end of file collect the feature names\n",
    "        line=names.readline()\n",
    "        feature_names.append(line.split(':')[0])\n",
    "    feature_names[len(feature_names)-1] = \"spam\"  \n",
    "    # to replace the last empty line of spambase.names captured as '' in feature_names \n",
    "    # by the class attribute 'spam' (1 or 0)\n",
    "    names.close()\n",
    "    return feature_names"
   ]
  },
  {
   "cell_type": "code",
   "execution_count": 6,
   "metadata": {
    "scrolled": true
   },
   "outputs": [
    {
     "data": {
      "text/plain": [
       "['word_freq_make',\n",
       " 'word_freq_address',\n",
       " 'word_freq_all',\n",
       " 'word_freq_3d',\n",
       " 'word_freq_our',\n",
       " 'word_freq_over',\n",
       " 'word_freq_remove',\n",
       " 'word_freq_internet',\n",
       " 'word_freq_order',\n",
       " 'word_freq_mail',\n",
       " 'word_freq_receive',\n",
       " 'word_freq_will',\n",
       " 'word_freq_people',\n",
       " 'word_freq_report',\n",
       " 'word_freq_addresses',\n",
       " 'word_freq_free',\n",
       " 'word_freq_business',\n",
       " 'word_freq_email',\n",
       " 'word_freq_you',\n",
       " 'word_freq_credit',\n",
       " 'word_freq_your',\n",
       " 'word_freq_font',\n",
       " 'word_freq_000',\n",
       " 'word_freq_money',\n",
       " 'word_freq_hp',\n",
       " 'word_freq_hpl',\n",
       " 'word_freq_george',\n",
       " 'word_freq_650',\n",
       " 'word_freq_lab',\n",
       " 'word_freq_labs',\n",
       " 'word_freq_telnet',\n",
       " 'word_freq_857',\n",
       " 'word_freq_data',\n",
       " 'word_freq_415',\n",
       " 'word_freq_85',\n",
       " 'word_freq_technology',\n",
       " 'word_freq_1999',\n",
       " 'word_freq_parts',\n",
       " 'word_freq_pm',\n",
       " 'word_freq_direct',\n",
       " 'word_freq_cs',\n",
       " 'word_freq_meeting',\n",
       " 'word_freq_original',\n",
       " 'word_freq_project',\n",
       " 'word_freq_re',\n",
       " 'word_freq_edu',\n",
       " 'word_freq_table',\n",
       " 'word_freq_conference',\n",
       " 'char_freq_;',\n",
       " 'char_freq_(',\n",
       " 'char_freq_[',\n",
       " 'char_freq_!',\n",
       " 'char_freq_$',\n",
       " 'char_freq_#',\n",
       " 'capital_run_length_average',\n",
       " 'capital_run_length_longest',\n",
       " 'capital_run_length_total',\n",
       " 'spam']"
      ]
     },
     "execution_count": 6,
     "metadata": {},
     "output_type": "execute_result"
    }
   ],
   "source": [
    "feature_names = get_names()\n",
    "feature_names"
   ]
  },
  {
   "cell_type": "code",
   "execution_count": 7,
   "metadata": {},
   "outputs": [
    {
     "data": {
      "text/plain": [
       "58"
      ]
     },
     "execution_count": 7,
     "metadata": {},
     "output_type": "execute_result"
    }
   ],
   "source": [
    "len(feature_names)\n",
    "# we have the correct number of variables : 58 (predictors + target)"
   ]
  },
  {
   "cell_type": "markdown",
   "metadata": {},
   "source": [
    "We now add the feature names to the dataframe."
   ]
  },
  {
   "cell_type": "code",
   "execution_count": 8,
   "metadata": {},
   "outputs": [
    {
     "data": {
      "text/html": [
       "<div>\n",
       "<style scoped>\n",
       "    .dataframe tbody tr th:only-of-type {\n",
       "        vertical-align: middle;\n",
       "    }\n",
       "\n",
       "    .dataframe tbody tr th {\n",
       "        vertical-align: top;\n",
       "    }\n",
       "\n",
       "    .dataframe thead th {\n",
       "        text-align: right;\n",
       "    }\n",
       "</style>\n",
       "<table border=\"1\" class=\"dataframe\">\n",
       "  <thead>\n",
       "    <tr style=\"text-align: right;\">\n",
       "      <th></th>\n",
       "      <th>word_freq_make</th>\n",
       "      <th>word_freq_address</th>\n",
       "      <th>word_freq_all</th>\n",
       "      <th>word_freq_3d</th>\n",
       "      <th>word_freq_our</th>\n",
       "      <th>word_freq_over</th>\n",
       "      <th>word_freq_remove</th>\n",
       "      <th>word_freq_internet</th>\n",
       "      <th>word_freq_order</th>\n",
       "      <th>word_freq_mail</th>\n",
       "      <th>...</th>\n",
       "      <th>char_freq_;</th>\n",
       "      <th>char_freq_(</th>\n",
       "      <th>char_freq_[</th>\n",
       "      <th>char_freq_!</th>\n",
       "      <th>char_freq_$</th>\n",
       "      <th>char_freq_#</th>\n",
       "      <th>capital_run_length_average</th>\n",
       "      <th>capital_run_length_longest</th>\n",
       "      <th>capital_run_length_total</th>\n",
       "      <th>spam</th>\n",
       "    </tr>\n",
       "  </thead>\n",
       "  <tbody>\n",
       "    <tr>\n",
       "      <th>0</th>\n",
       "      <td>0.00</td>\n",
       "      <td>0.64</td>\n",
       "      <td>0.64</td>\n",
       "      <td>0.0</td>\n",
       "      <td>0.32</td>\n",
       "      <td>0.00</td>\n",
       "      <td>0.00</td>\n",
       "      <td>0.00</td>\n",
       "      <td>0.00</td>\n",
       "      <td>0.00</td>\n",
       "      <td>...</td>\n",
       "      <td>0.000</td>\n",
       "      <td>0.000</td>\n",
       "      <td>0.0</td>\n",
       "      <td>0.778</td>\n",
       "      <td>0.000</td>\n",
       "      <td>0.000</td>\n",
       "      <td>3.756</td>\n",
       "      <td>61</td>\n",
       "      <td>278</td>\n",
       "      <td>1</td>\n",
       "    </tr>\n",
       "    <tr>\n",
       "      <th>1</th>\n",
       "      <td>0.21</td>\n",
       "      <td>0.28</td>\n",
       "      <td>0.50</td>\n",
       "      <td>0.0</td>\n",
       "      <td>0.14</td>\n",
       "      <td>0.28</td>\n",
       "      <td>0.21</td>\n",
       "      <td>0.07</td>\n",
       "      <td>0.00</td>\n",
       "      <td>0.94</td>\n",
       "      <td>...</td>\n",
       "      <td>0.000</td>\n",
       "      <td>0.132</td>\n",
       "      <td>0.0</td>\n",
       "      <td>0.372</td>\n",
       "      <td>0.180</td>\n",
       "      <td>0.048</td>\n",
       "      <td>5.114</td>\n",
       "      <td>101</td>\n",
       "      <td>1028</td>\n",
       "      <td>1</td>\n",
       "    </tr>\n",
       "    <tr>\n",
       "      <th>2</th>\n",
       "      <td>0.06</td>\n",
       "      <td>0.00</td>\n",
       "      <td>0.71</td>\n",
       "      <td>0.0</td>\n",
       "      <td>1.23</td>\n",
       "      <td>0.19</td>\n",
       "      <td>0.19</td>\n",
       "      <td>0.12</td>\n",
       "      <td>0.64</td>\n",
       "      <td>0.25</td>\n",
       "      <td>...</td>\n",
       "      <td>0.010</td>\n",
       "      <td>0.143</td>\n",
       "      <td>0.0</td>\n",
       "      <td>0.276</td>\n",
       "      <td>0.184</td>\n",
       "      <td>0.010</td>\n",
       "      <td>9.821</td>\n",
       "      <td>485</td>\n",
       "      <td>2259</td>\n",
       "      <td>1</td>\n",
       "    </tr>\n",
       "    <tr>\n",
       "      <th>3</th>\n",
       "      <td>0.00</td>\n",
       "      <td>0.00</td>\n",
       "      <td>0.00</td>\n",
       "      <td>0.0</td>\n",
       "      <td>0.63</td>\n",
       "      <td>0.00</td>\n",
       "      <td>0.31</td>\n",
       "      <td>0.63</td>\n",
       "      <td>0.31</td>\n",
       "      <td>0.63</td>\n",
       "      <td>...</td>\n",
       "      <td>0.000</td>\n",
       "      <td>0.137</td>\n",
       "      <td>0.0</td>\n",
       "      <td>0.137</td>\n",
       "      <td>0.000</td>\n",
       "      <td>0.000</td>\n",
       "      <td>3.537</td>\n",
       "      <td>40</td>\n",
       "      <td>191</td>\n",
       "      <td>1</td>\n",
       "    </tr>\n",
       "    <tr>\n",
       "      <th>4</th>\n",
       "      <td>0.00</td>\n",
       "      <td>0.00</td>\n",
       "      <td>0.00</td>\n",
       "      <td>0.0</td>\n",
       "      <td>0.63</td>\n",
       "      <td>0.00</td>\n",
       "      <td>0.31</td>\n",
       "      <td>0.63</td>\n",
       "      <td>0.31</td>\n",
       "      <td>0.63</td>\n",
       "      <td>...</td>\n",
       "      <td>0.000</td>\n",
       "      <td>0.135</td>\n",
       "      <td>0.0</td>\n",
       "      <td>0.135</td>\n",
       "      <td>0.000</td>\n",
       "      <td>0.000</td>\n",
       "      <td>3.537</td>\n",
       "      <td>40</td>\n",
       "      <td>191</td>\n",
       "      <td>1</td>\n",
       "    </tr>\n",
       "    <tr>\n",
       "      <th>...</th>\n",
       "      <td>...</td>\n",
       "      <td>...</td>\n",
       "      <td>...</td>\n",
       "      <td>...</td>\n",
       "      <td>...</td>\n",
       "      <td>...</td>\n",
       "      <td>...</td>\n",
       "      <td>...</td>\n",
       "      <td>...</td>\n",
       "      <td>...</td>\n",
       "      <td>...</td>\n",
       "      <td>...</td>\n",
       "      <td>...</td>\n",
       "      <td>...</td>\n",
       "      <td>...</td>\n",
       "      <td>...</td>\n",
       "      <td>...</td>\n",
       "      <td>...</td>\n",
       "      <td>...</td>\n",
       "      <td>...</td>\n",
       "      <td>...</td>\n",
       "    </tr>\n",
       "    <tr>\n",
       "      <th>4596</th>\n",
       "      <td>0.31</td>\n",
       "      <td>0.00</td>\n",
       "      <td>0.62</td>\n",
       "      <td>0.0</td>\n",
       "      <td>0.00</td>\n",
       "      <td>0.31</td>\n",
       "      <td>0.00</td>\n",
       "      <td>0.00</td>\n",
       "      <td>0.00</td>\n",
       "      <td>0.00</td>\n",
       "      <td>...</td>\n",
       "      <td>0.000</td>\n",
       "      <td>0.232</td>\n",
       "      <td>0.0</td>\n",
       "      <td>0.000</td>\n",
       "      <td>0.000</td>\n",
       "      <td>0.000</td>\n",
       "      <td>1.142</td>\n",
       "      <td>3</td>\n",
       "      <td>88</td>\n",
       "      <td>0</td>\n",
       "    </tr>\n",
       "    <tr>\n",
       "      <th>4597</th>\n",
       "      <td>0.00</td>\n",
       "      <td>0.00</td>\n",
       "      <td>0.00</td>\n",
       "      <td>0.0</td>\n",
       "      <td>0.00</td>\n",
       "      <td>0.00</td>\n",
       "      <td>0.00</td>\n",
       "      <td>0.00</td>\n",
       "      <td>0.00</td>\n",
       "      <td>0.00</td>\n",
       "      <td>...</td>\n",
       "      <td>0.000</td>\n",
       "      <td>0.000</td>\n",
       "      <td>0.0</td>\n",
       "      <td>0.353</td>\n",
       "      <td>0.000</td>\n",
       "      <td>0.000</td>\n",
       "      <td>1.555</td>\n",
       "      <td>4</td>\n",
       "      <td>14</td>\n",
       "      <td>0</td>\n",
       "    </tr>\n",
       "    <tr>\n",
       "      <th>4598</th>\n",
       "      <td>0.30</td>\n",
       "      <td>0.00</td>\n",
       "      <td>0.30</td>\n",
       "      <td>0.0</td>\n",
       "      <td>0.00</td>\n",
       "      <td>0.00</td>\n",
       "      <td>0.00</td>\n",
       "      <td>0.00</td>\n",
       "      <td>0.00</td>\n",
       "      <td>0.00</td>\n",
       "      <td>...</td>\n",
       "      <td>0.102</td>\n",
       "      <td>0.718</td>\n",
       "      <td>0.0</td>\n",
       "      <td>0.000</td>\n",
       "      <td>0.000</td>\n",
       "      <td>0.000</td>\n",
       "      <td>1.404</td>\n",
       "      <td>6</td>\n",
       "      <td>118</td>\n",
       "      <td>0</td>\n",
       "    </tr>\n",
       "    <tr>\n",
       "      <th>4599</th>\n",
       "      <td>0.96</td>\n",
       "      <td>0.00</td>\n",
       "      <td>0.00</td>\n",
       "      <td>0.0</td>\n",
       "      <td>0.32</td>\n",
       "      <td>0.00</td>\n",
       "      <td>0.00</td>\n",
       "      <td>0.00</td>\n",
       "      <td>0.00</td>\n",
       "      <td>0.00</td>\n",
       "      <td>...</td>\n",
       "      <td>0.000</td>\n",
       "      <td>0.057</td>\n",
       "      <td>0.0</td>\n",
       "      <td>0.000</td>\n",
       "      <td>0.000</td>\n",
       "      <td>0.000</td>\n",
       "      <td>1.147</td>\n",
       "      <td>5</td>\n",
       "      <td>78</td>\n",
       "      <td>0</td>\n",
       "    </tr>\n",
       "    <tr>\n",
       "      <th>4600</th>\n",
       "      <td>0.00</td>\n",
       "      <td>0.00</td>\n",
       "      <td>0.65</td>\n",
       "      <td>0.0</td>\n",
       "      <td>0.00</td>\n",
       "      <td>0.00</td>\n",
       "      <td>0.00</td>\n",
       "      <td>0.00</td>\n",
       "      <td>0.00</td>\n",
       "      <td>0.00</td>\n",
       "      <td>...</td>\n",
       "      <td>0.000</td>\n",
       "      <td>0.000</td>\n",
       "      <td>0.0</td>\n",
       "      <td>0.125</td>\n",
       "      <td>0.000</td>\n",
       "      <td>0.000</td>\n",
       "      <td>1.250</td>\n",
       "      <td>5</td>\n",
       "      <td>40</td>\n",
       "      <td>0</td>\n",
       "    </tr>\n",
       "  </tbody>\n",
       "</table>\n",
       "<p>4601 rows × 58 columns</p>\n",
       "</div>"
      ],
      "text/plain": [
       "      word_freq_make  word_freq_address  word_freq_all  word_freq_3d  \\\n",
       "0               0.00               0.64           0.64           0.0   \n",
       "1               0.21               0.28           0.50           0.0   \n",
       "2               0.06               0.00           0.71           0.0   \n",
       "3               0.00               0.00           0.00           0.0   \n",
       "4               0.00               0.00           0.00           0.0   \n",
       "...              ...                ...            ...           ...   \n",
       "4596            0.31               0.00           0.62           0.0   \n",
       "4597            0.00               0.00           0.00           0.0   \n",
       "4598            0.30               0.00           0.30           0.0   \n",
       "4599            0.96               0.00           0.00           0.0   \n",
       "4600            0.00               0.00           0.65           0.0   \n",
       "\n",
       "      word_freq_our  word_freq_over  word_freq_remove  word_freq_internet  \\\n",
       "0              0.32            0.00              0.00                0.00   \n",
       "1              0.14            0.28              0.21                0.07   \n",
       "2              1.23            0.19              0.19                0.12   \n",
       "3              0.63            0.00              0.31                0.63   \n",
       "4              0.63            0.00              0.31                0.63   \n",
       "...             ...             ...               ...                 ...   \n",
       "4596           0.00            0.31              0.00                0.00   \n",
       "4597           0.00            0.00              0.00                0.00   \n",
       "4598           0.00            0.00              0.00                0.00   \n",
       "4599           0.32            0.00              0.00                0.00   \n",
       "4600           0.00            0.00              0.00                0.00   \n",
       "\n",
       "      word_freq_order  word_freq_mail  ...  char_freq_;  char_freq_(  \\\n",
       "0                0.00            0.00  ...        0.000        0.000   \n",
       "1                0.00            0.94  ...        0.000        0.132   \n",
       "2                0.64            0.25  ...        0.010        0.143   \n",
       "3                0.31            0.63  ...        0.000        0.137   \n",
       "4                0.31            0.63  ...        0.000        0.135   \n",
       "...               ...             ...  ...          ...          ...   \n",
       "4596             0.00            0.00  ...        0.000        0.232   \n",
       "4597             0.00            0.00  ...        0.000        0.000   \n",
       "4598             0.00            0.00  ...        0.102        0.718   \n",
       "4599             0.00            0.00  ...        0.000        0.057   \n",
       "4600             0.00            0.00  ...        0.000        0.000   \n",
       "\n",
       "      char_freq_[  char_freq_!  char_freq_$  char_freq_#  \\\n",
       "0             0.0        0.778        0.000        0.000   \n",
       "1             0.0        0.372        0.180        0.048   \n",
       "2             0.0        0.276        0.184        0.010   \n",
       "3             0.0        0.137        0.000        0.000   \n",
       "4             0.0        0.135        0.000        0.000   \n",
       "...           ...          ...          ...          ...   \n",
       "4596          0.0        0.000        0.000        0.000   \n",
       "4597          0.0        0.353        0.000        0.000   \n",
       "4598          0.0        0.000        0.000        0.000   \n",
       "4599          0.0        0.000        0.000        0.000   \n",
       "4600          0.0        0.125        0.000        0.000   \n",
       "\n",
       "      capital_run_length_average  capital_run_length_longest  \\\n",
       "0                          3.756                          61   \n",
       "1                          5.114                         101   \n",
       "2                          9.821                         485   \n",
       "3                          3.537                          40   \n",
       "4                          3.537                          40   \n",
       "...                          ...                         ...   \n",
       "4596                       1.142                           3   \n",
       "4597                       1.555                           4   \n",
       "4598                       1.404                           6   \n",
       "4599                       1.147                           5   \n",
       "4600                       1.250                           5   \n",
       "\n",
       "      capital_run_length_total  spam  \n",
       "0                          278     1  \n",
       "1                         1028     1  \n",
       "2                         2259     1  \n",
       "3                          191     1  \n",
       "4                          191     1  \n",
       "...                        ...   ...  \n",
       "4596                        88     0  \n",
       "4597                        14     0  \n",
       "4598                       118     0  \n",
       "4599                        78     0  \n",
       "4600                        40     0  \n",
       "\n",
       "[4601 rows x 58 columns]"
      ]
     },
     "execution_count": 8,
     "metadata": {},
     "output_type": "execute_result"
    }
   ],
   "source": [
    "spambase.columns = feature_names\n",
    "spambase"
   ]
  },
  {
   "cell_type": "code",
   "execution_count": 9,
   "metadata": {},
   "outputs": [
    {
     "data": {
      "text/plain": [
       "(4601, 58)"
      ]
     },
     "execution_count": 9,
     "metadata": {},
     "output_type": "execute_result"
    }
   ],
   "source": [
    "spambase.shape"
   ]
  },
  {
   "cell_type": "markdown",
   "metadata": {},
   "source": [
    "Our dataframe contains 58 variables and 4601 individuals which is consistent with the documentation provided. It seems we have correctly imported our data. "
   ]
  },
  {
   "cell_type": "markdown",
   "metadata": {},
   "source": [
    "## Spam data analysis \n",
    "Now that we have the dataset correctly imported, let's explore and get to know it. "
   ]
  },
  {
   "cell_type": "markdown",
   "metadata": {},
   "source": [
    "### Missing values"
   ]
  },
  {
   "cell_type": "code",
   "execution_count": 10,
   "metadata": {
    "scrolled": true
   },
   "outputs": [
    {
     "name": "stdout",
     "output_type": "stream",
     "text": [
      "<class 'pandas.core.frame.DataFrame'>\n",
      "RangeIndex: 4601 entries, 0 to 4600\n",
      "Data columns (total 58 columns):\n",
      " #   Column                      Non-Null Count  Dtype  \n",
      "---  ------                      --------------  -----  \n",
      " 0   word_freq_make              4601 non-null   float64\n",
      " 1   word_freq_address           4601 non-null   float64\n",
      " 2   word_freq_all               4601 non-null   float64\n",
      " 3   word_freq_3d                4601 non-null   float64\n",
      " 4   word_freq_our               4601 non-null   float64\n",
      " 5   word_freq_over              4601 non-null   float64\n",
      " 6   word_freq_remove            4601 non-null   float64\n",
      " 7   word_freq_internet          4601 non-null   float64\n",
      " 8   word_freq_order             4601 non-null   float64\n",
      " 9   word_freq_mail              4601 non-null   float64\n",
      " 10  word_freq_receive           4601 non-null   float64\n",
      " 11  word_freq_will              4601 non-null   float64\n",
      " 12  word_freq_people            4601 non-null   float64\n",
      " 13  word_freq_report            4601 non-null   float64\n",
      " 14  word_freq_addresses         4601 non-null   float64\n",
      " 15  word_freq_free              4601 non-null   float64\n",
      " 16  word_freq_business          4601 non-null   float64\n",
      " 17  word_freq_email             4601 non-null   float64\n",
      " 18  word_freq_you               4601 non-null   float64\n",
      " 19  word_freq_credit            4601 non-null   float64\n",
      " 20  word_freq_your              4601 non-null   float64\n",
      " 21  word_freq_font              4601 non-null   float64\n",
      " 22  word_freq_000               4601 non-null   float64\n",
      " 23  word_freq_money             4601 non-null   float64\n",
      " 24  word_freq_hp                4601 non-null   float64\n",
      " 25  word_freq_hpl               4601 non-null   float64\n",
      " 26  word_freq_george            4601 non-null   float64\n",
      " 27  word_freq_650               4601 non-null   float64\n",
      " 28  word_freq_lab               4601 non-null   float64\n",
      " 29  word_freq_labs              4601 non-null   float64\n",
      " 30  word_freq_telnet            4601 non-null   float64\n",
      " 31  word_freq_857               4601 non-null   float64\n",
      " 32  word_freq_data              4601 non-null   float64\n",
      " 33  word_freq_415               4601 non-null   float64\n",
      " 34  word_freq_85                4601 non-null   float64\n",
      " 35  word_freq_technology        4601 non-null   float64\n",
      " 36  word_freq_1999              4601 non-null   float64\n",
      " 37  word_freq_parts             4601 non-null   float64\n",
      " 38  word_freq_pm                4601 non-null   float64\n",
      " 39  word_freq_direct            4601 non-null   float64\n",
      " 40  word_freq_cs                4601 non-null   float64\n",
      " 41  word_freq_meeting           4601 non-null   float64\n",
      " 42  word_freq_original          4601 non-null   float64\n",
      " 43  word_freq_project           4601 non-null   float64\n",
      " 44  word_freq_re                4601 non-null   float64\n",
      " 45  word_freq_edu               4601 non-null   float64\n",
      " 46  word_freq_table             4601 non-null   float64\n",
      " 47  word_freq_conference        4601 non-null   float64\n",
      " 48  char_freq_;                 4601 non-null   float64\n",
      " 49  char_freq_(                 4601 non-null   float64\n",
      " 50  char_freq_[                 4601 non-null   float64\n",
      " 51  char_freq_!                 4601 non-null   float64\n",
      " 52  char_freq_$                 4601 non-null   float64\n",
      " 53  char_freq_#                 4601 non-null   float64\n",
      " 54  capital_run_length_average  4601 non-null   float64\n",
      " 55  capital_run_length_longest  4601 non-null   int64  \n",
      " 56  capital_run_length_total    4601 non-null   int64  \n",
      " 57  spam                        4601 non-null   int64  \n",
      "dtypes: float64(55), int64(3)\n",
      "memory usage: 2.0 MB\n"
     ]
    }
   ],
   "source": [
    "spambase.info()"
   ]
  },
  {
   "cell_type": "code",
   "execution_count": 11,
   "metadata": {},
   "outputs": [
    {
     "data": {
      "text/html": [
       "<div>\n",
       "<style scoped>\n",
       "    .dataframe tbody tr th:only-of-type {\n",
       "        vertical-align: middle;\n",
       "    }\n",
       "\n",
       "    .dataframe tbody tr th {\n",
       "        vertical-align: top;\n",
       "    }\n",
       "\n",
       "    .dataframe thead th {\n",
       "        text-align: right;\n",
       "    }\n",
       "</style>\n",
       "<table border=\"1\" class=\"dataframe\">\n",
       "  <thead>\n",
       "    <tr style=\"text-align: right;\">\n",
       "      <th></th>\n",
       "      <th>word_freq_make</th>\n",
       "      <th>word_freq_address</th>\n",
       "      <th>word_freq_all</th>\n",
       "      <th>word_freq_3d</th>\n",
       "      <th>word_freq_our</th>\n",
       "      <th>word_freq_over</th>\n",
       "      <th>word_freq_remove</th>\n",
       "      <th>word_freq_internet</th>\n",
       "      <th>word_freq_order</th>\n",
       "      <th>word_freq_mail</th>\n",
       "      <th>...</th>\n",
       "      <th>char_freq_;</th>\n",
       "      <th>char_freq_(</th>\n",
       "      <th>char_freq_[</th>\n",
       "      <th>char_freq_!</th>\n",
       "      <th>char_freq_$</th>\n",
       "      <th>char_freq_#</th>\n",
       "      <th>capital_run_length_average</th>\n",
       "      <th>capital_run_length_longest</th>\n",
       "      <th>capital_run_length_total</th>\n",
       "      <th>spam</th>\n",
       "    </tr>\n",
       "  </thead>\n",
       "  <tbody>\n",
       "    <tr>\n",
       "      <th>0</th>\n",
       "      <td>0.00</td>\n",
       "      <td>0.64</td>\n",
       "      <td>0.64</td>\n",
       "      <td>0.0</td>\n",
       "      <td>0.32</td>\n",
       "      <td>0.00</td>\n",
       "      <td>0.00</td>\n",
       "      <td>0.00</td>\n",
       "      <td>0.00</td>\n",
       "      <td>0.00</td>\n",
       "      <td>...</td>\n",
       "      <td>0.00</td>\n",
       "      <td>0.000</td>\n",
       "      <td>0.0</td>\n",
       "      <td>0.778</td>\n",
       "      <td>0.000</td>\n",
       "      <td>0.000</td>\n",
       "      <td>3.756</td>\n",
       "      <td>61</td>\n",
       "      <td>278</td>\n",
       "      <td>1</td>\n",
       "    </tr>\n",
       "    <tr>\n",
       "      <th>1</th>\n",
       "      <td>0.21</td>\n",
       "      <td>0.28</td>\n",
       "      <td>0.50</td>\n",
       "      <td>0.0</td>\n",
       "      <td>0.14</td>\n",
       "      <td>0.28</td>\n",
       "      <td>0.21</td>\n",
       "      <td>0.07</td>\n",
       "      <td>0.00</td>\n",
       "      <td>0.94</td>\n",
       "      <td>...</td>\n",
       "      <td>0.00</td>\n",
       "      <td>0.132</td>\n",
       "      <td>0.0</td>\n",
       "      <td>0.372</td>\n",
       "      <td>0.180</td>\n",
       "      <td>0.048</td>\n",
       "      <td>5.114</td>\n",
       "      <td>101</td>\n",
       "      <td>1028</td>\n",
       "      <td>1</td>\n",
       "    </tr>\n",
       "    <tr>\n",
       "      <th>2</th>\n",
       "      <td>0.06</td>\n",
       "      <td>0.00</td>\n",
       "      <td>0.71</td>\n",
       "      <td>0.0</td>\n",
       "      <td>1.23</td>\n",
       "      <td>0.19</td>\n",
       "      <td>0.19</td>\n",
       "      <td>0.12</td>\n",
       "      <td>0.64</td>\n",
       "      <td>0.25</td>\n",
       "      <td>...</td>\n",
       "      <td>0.01</td>\n",
       "      <td>0.143</td>\n",
       "      <td>0.0</td>\n",
       "      <td>0.276</td>\n",
       "      <td>0.184</td>\n",
       "      <td>0.010</td>\n",
       "      <td>9.821</td>\n",
       "      <td>485</td>\n",
       "      <td>2259</td>\n",
       "      <td>1</td>\n",
       "    </tr>\n",
       "    <tr>\n",
       "      <th>3</th>\n",
       "      <td>0.00</td>\n",
       "      <td>0.00</td>\n",
       "      <td>0.00</td>\n",
       "      <td>0.0</td>\n",
       "      <td>0.63</td>\n",
       "      <td>0.00</td>\n",
       "      <td>0.31</td>\n",
       "      <td>0.63</td>\n",
       "      <td>0.31</td>\n",
       "      <td>0.63</td>\n",
       "      <td>...</td>\n",
       "      <td>0.00</td>\n",
       "      <td>0.137</td>\n",
       "      <td>0.0</td>\n",
       "      <td>0.137</td>\n",
       "      <td>0.000</td>\n",
       "      <td>0.000</td>\n",
       "      <td>3.537</td>\n",
       "      <td>40</td>\n",
       "      <td>191</td>\n",
       "      <td>1</td>\n",
       "    </tr>\n",
       "    <tr>\n",
       "      <th>4</th>\n",
       "      <td>0.00</td>\n",
       "      <td>0.00</td>\n",
       "      <td>0.00</td>\n",
       "      <td>0.0</td>\n",
       "      <td>0.63</td>\n",
       "      <td>0.00</td>\n",
       "      <td>0.31</td>\n",
       "      <td>0.63</td>\n",
       "      <td>0.31</td>\n",
       "      <td>0.63</td>\n",
       "      <td>...</td>\n",
       "      <td>0.00</td>\n",
       "      <td>0.135</td>\n",
       "      <td>0.0</td>\n",
       "      <td>0.135</td>\n",
       "      <td>0.000</td>\n",
       "      <td>0.000</td>\n",
       "      <td>3.537</td>\n",
       "      <td>40</td>\n",
       "      <td>191</td>\n",
       "      <td>1</td>\n",
       "    </tr>\n",
       "  </tbody>\n",
       "</table>\n",
       "<p>5 rows × 58 columns</p>\n",
       "</div>"
      ],
      "text/plain": [
       "   word_freq_make  word_freq_address  word_freq_all  word_freq_3d  \\\n",
       "0            0.00               0.64           0.64           0.0   \n",
       "1            0.21               0.28           0.50           0.0   \n",
       "2            0.06               0.00           0.71           0.0   \n",
       "3            0.00               0.00           0.00           0.0   \n",
       "4            0.00               0.00           0.00           0.0   \n",
       "\n",
       "   word_freq_our  word_freq_over  word_freq_remove  word_freq_internet  \\\n",
       "0           0.32            0.00              0.00                0.00   \n",
       "1           0.14            0.28              0.21                0.07   \n",
       "2           1.23            0.19              0.19                0.12   \n",
       "3           0.63            0.00              0.31                0.63   \n",
       "4           0.63            0.00              0.31                0.63   \n",
       "\n",
       "   word_freq_order  word_freq_mail  ...  char_freq_;  char_freq_(  \\\n",
       "0             0.00            0.00  ...         0.00        0.000   \n",
       "1             0.00            0.94  ...         0.00        0.132   \n",
       "2             0.64            0.25  ...         0.01        0.143   \n",
       "3             0.31            0.63  ...         0.00        0.137   \n",
       "4             0.31            0.63  ...         0.00        0.135   \n",
       "\n",
       "   char_freq_[  char_freq_!  char_freq_$  char_freq_#  \\\n",
       "0          0.0        0.778        0.000        0.000   \n",
       "1          0.0        0.372        0.180        0.048   \n",
       "2          0.0        0.276        0.184        0.010   \n",
       "3          0.0        0.137        0.000        0.000   \n",
       "4          0.0        0.135        0.000        0.000   \n",
       "\n",
       "   capital_run_length_average  capital_run_length_longest  \\\n",
       "0                       3.756                          61   \n",
       "1                       5.114                         101   \n",
       "2                       9.821                         485   \n",
       "3                       3.537                          40   \n",
       "4                       3.537                          40   \n",
       "\n",
       "   capital_run_length_total  spam  \n",
       "0                       278     1  \n",
       "1                      1028     1  \n",
       "2                      2259     1  \n",
       "3                       191     1  \n",
       "4                       191     1  \n",
       "\n",
       "[5 rows x 58 columns]"
      ]
     },
     "execution_count": 11,
     "metadata": {},
     "output_type": "execute_result"
    }
   ],
   "source": [
    "spambase.head()"
   ]
  },
  {
   "cell_type": "markdown",
   "metadata": {},
   "source": [
    "From the previsous commands on spambase we know that no value is null in our dataset. And all but three variables are of type float, the last remaining being of type int, including the target variable. "
   ]
  },
  {
   "cell_type": "code",
   "execution_count": 12,
   "metadata": {
    "scrolled": true
   },
   "outputs": [
    {
     "data": {
      "text/plain": [
       "word_freq_make                False\n",
       "word_freq_address             False\n",
       "word_freq_all                 False\n",
       "word_freq_3d                  False\n",
       "word_freq_our                 False\n",
       "word_freq_over                False\n",
       "word_freq_remove              False\n",
       "word_freq_internet            False\n",
       "word_freq_order               False\n",
       "word_freq_mail                False\n",
       "word_freq_receive             False\n",
       "word_freq_will                False\n",
       "word_freq_people              False\n",
       "word_freq_report              False\n",
       "word_freq_addresses           False\n",
       "word_freq_free                False\n",
       "word_freq_business            False\n",
       "word_freq_email               False\n",
       "word_freq_you                 False\n",
       "word_freq_credit              False\n",
       "word_freq_your                False\n",
       "word_freq_font                False\n",
       "word_freq_000                 False\n",
       "word_freq_money               False\n",
       "word_freq_hp                  False\n",
       "word_freq_hpl                 False\n",
       "word_freq_george              False\n",
       "word_freq_650                 False\n",
       "word_freq_lab                 False\n",
       "word_freq_labs                False\n",
       "word_freq_telnet              False\n",
       "word_freq_857                 False\n",
       "word_freq_data                False\n",
       "word_freq_415                 False\n",
       "word_freq_85                  False\n",
       "word_freq_technology          False\n",
       "word_freq_1999                False\n",
       "word_freq_parts               False\n",
       "word_freq_pm                  False\n",
       "word_freq_direct              False\n",
       "word_freq_cs                  False\n",
       "word_freq_meeting             False\n",
       "word_freq_original            False\n",
       "word_freq_project             False\n",
       "word_freq_re                  False\n",
       "word_freq_edu                 False\n",
       "word_freq_table               False\n",
       "word_freq_conference          False\n",
       "char_freq_;                   False\n",
       "char_freq_(                   False\n",
       "char_freq_[                   False\n",
       "char_freq_!                   False\n",
       "char_freq_$                   False\n",
       "char_freq_#                   False\n",
       "capital_run_length_average    False\n",
       "capital_run_length_longest    False\n",
       "capital_run_length_total      False\n",
       "spam                          False\n",
       "dtype: bool"
      ]
     },
     "execution_count": 12,
     "metadata": {},
     "output_type": "execute_result"
    }
   ],
   "source": [
    "# We can still verify by ourselves if there are missing values detected by pandas. \n",
    "spambase.isnull().any()\n",
    "# and we can see that there are none."
   ]
  },
  {
   "cell_type": "code",
   "execution_count": 13,
   "metadata": {},
   "outputs": [
    {
     "data": {
      "text/plain": [
       "0"
      ]
     },
     "execution_count": 13,
     "metadata": {},
     "output_type": "execute_result"
    }
   ],
   "source": [
    "# or in a visually simpler way:\n",
    "spambase.isnull().any().sum()"
   ]
  },
  {
   "cell_type": "markdown",
   "metadata": {},
   "source": [
    "### We can go a step further to check for missing values and look for the ones pandas might not be able to detect. "
   ]
  },
  {
   "cell_type": "code",
   "execution_count": 14,
   "metadata": {},
   "outputs": [],
   "source": [
    "missing_values = [\"na\",\"n/a\",\"NA\",\"nan\",\"NaN\",\"\",\" \"]"
   ]
  },
  {
   "cell_type": "code",
   "execution_count": 15,
   "metadata": {
    "scrolled": true
   },
   "outputs": [
    {
     "data": {
      "text/html": [
       "<div>\n",
       "<style scoped>\n",
       "    .dataframe tbody tr th:only-of-type {\n",
       "        vertical-align: middle;\n",
       "    }\n",
       "\n",
       "    .dataframe tbody tr th {\n",
       "        vertical-align: top;\n",
       "    }\n",
       "\n",
       "    .dataframe thead th {\n",
       "        text-align: right;\n",
       "    }\n",
       "</style>\n",
       "<table border=\"1\" class=\"dataframe\">\n",
       "  <thead>\n",
       "    <tr style=\"text-align: right;\">\n",
       "      <th></th>\n",
       "      <th>0</th>\n",
       "      <th>1</th>\n",
       "      <th>2</th>\n",
       "      <th>3</th>\n",
       "      <th>4</th>\n",
       "      <th>5</th>\n",
       "      <th>6</th>\n",
       "      <th>7</th>\n",
       "      <th>8</th>\n",
       "      <th>9</th>\n",
       "      <th>...</th>\n",
       "      <th>48</th>\n",
       "      <th>49</th>\n",
       "      <th>50</th>\n",
       "      <th>51</th>\n",
       "      <th>52</th>\n",
       "      <th>53</th>\n",
       "      <th>54</th>\n",
       "      <th>55</th>\n",
       "      <th>56</th>\n",
       "      <th>57</th>\n",
       "    </tr>\n",
       "  </thead>\n",
       "  <tbody>\n",
       "    <tr>\n",
       "      <th>0</th>\n",
       "      <td>0.00</td>\n",
       "      <td>0.64</td>\n",
       "      <td>0.64</td>\n",
       "      <td>0.0</td>\n",
       "      <td>0.32</td>\n",
       "      <td>0.00</td>\n",
       "      <td>0.00</td>\n",
       "      <td>0.00</td>\n",
       "      <td>0.00</td>\n",
       "      <td>0.00</td>\n",
       "      <td>...</td>\n",
       "      <td>0.000</td>\n",
       "      <td>0.000</td>\n",
       "      <td>0.0</td>\n",
       "      <td>0.778</td>\n",
       "      <td>0.000</td>\n",
       "      <td>0.000</td>\n",
       "      <td>3.756</td>\n",
       "      <td>61</td>\n",
       "      <td>278</td>\n",
       "      <td>1</td>\n",
       "    </tr>\n",
       "    <tr>\n",
       "      <th>1</th>\n",
       "      <td>0.21</td>\n",
       "      <td>0.28</td>\n",
       "      <td>0.50</td>\n",
       "      <td>0.0</td>\n",
       "      <td>0.14</td>\n",
       "      <td>0.28</td>\n",
       "      <td>0.21</td>\n",
       "      <td>0.07</td>\n",
       "      <td>0.00</td>\n",
       "      <td>0.94</td>\n",
       "      <td>...</td>\n",
       "      <td>0.000</td>\n",
       "      <td>0.132</td>\n",
       "      <td>0.0</td>\n",
       "      <td>0.372</td>\n",
       "      <td>0.180</td>\n",
       "      <td>0.048</td>\n",
       "      <td>5.114</td>\n",
       "      <td>101</td>\n",
       "      <td>1028</td>\n",
       "      <td>1</td>\n",
       "    </tr>\n",
       "    <tr>\n",
       "      <th>2</th>\n",
       "      <td>0.06</td>\n",
       "      <td>0.00</td>\n",
       "      <td>0.71</td>\n",
       "      <td>0.0</td>\n",
       "      <td>1.23</td>\n",
       "      <td>0.19</td>\n",
       "      <td>0.19</td>\n",
       "      <td>0.12</td>\n",
       "      <td>0.64</td>\n",
       "      <td>0.25</td>\n",
       "      <td>...</td>\n",
       "      <td>0.010</td>\n",
       "      <td>0.143</td>\n",
       "      <td>0.0</td>\n",
       "      <td>0.276</td>\n",
       "      <td>0.184</td>\n",
       "      <td>0.010</td>\n",
       "      <td>9.821</td>\n",
       "      <td>485</td>\n",
       "      <td>2259</td>\n",
       "      <td>1</td>\n",
       "    </tr>\n",
       "    <tr>\n",
       "      <th>3</th>\n",
       "      <td>0.00</td>\n",
       "      <td>0.00</td>\n",
       "      <td>0.00</td>\n",
       "      <td>0.0</td>\n",
       "      <td>0.63</td>\n",
       "      <td>0.00</td>\n",
       "      <td>0.31</td>\n",
       "      <td>0.63</td>\n",
       "      <td>0.31</td>\n",
       "      <td>0.63</td>\n",
       "      <td>...</td>\n",
       "      <td>0.000</td>\n",
       "      <td>0.137</td>\n",
       "      <td>0.0</td>\n",
       "      <td>0.137</td>\n",
       "      <td>0.000</td>\n",
       "      <td>0.000</td>\n",
       "      <td>3.537</td>\n",
       "      <td>40</td>\n",
       "      <td>191</td>\n",
       "      <td>1</td>\n",
       "    </tr>\n",
       "    <tr>\n",
       "      <th>4</th>\n",
       "      <td>0.00</td>\n",
       "      <td>0.00</td>\n",
       "      <td>0.00</td>\n",
       "      <td>0.0</td>\n",
       "      <td>0.63</td>\n",
       "      <td>0.00</td>\n",
       "      <td>0.31</td>\n",
       "      <td>0.63</td>\n",
       "      <td>0.31</td>\n",
       "      <td>0.63</td>\n",
       "      <td>...</td>\n",
       "      <td>0.000</td>\n",
       "      <td>0.135</td>\n",
       "      <td>0.0</td>\n",
       "      <td>0.135</td>\n",
       "      <td>0.000</td>\n",
       "      <td>0.000</td>\n",
       "      <td>3.537</td>\n",
       "      <td>40</td>\n",
       "      <td>191</td>\n",
       "      <td>1</td>\n",
       "    </tr>\n",
       "    <tr>\n",
       "      <th>...</th>\n",
       "      <td>...</td>\n",
       "      <td>...</td>\n",
       "      <td>...</td>\n",
       "      <td>...</td>\n",
       "      <td>...</td>\n",
       "      <td>...</td>\n",
       "      <td>...</td>\n",
       "      <td>...</td>\n",
       "      <td>...</td>\n",
       "      <td>...</td>\n",
       "      <td>...</td>\n",
       "      <td>...</td>\n",
       "      <td>...</td>\n",
       "      <td>...</td>\n",
       "      <td>...</td>\n",
       "      <td>...</td>\n",
       "      <td>...</td>\n",
       "      <td>...</td>\n",
       "      <td>...</td>\n",
       "      <td>...</td>\n",
       "      <td>...</td>\n",
       "    </tr>\n",
       "    <tr>\n",
       "      <th>4596</th>\n",
       "      <td>0.31</td>\n",
       "      <td>0.00</td>\n",
       "      <td>0.62</td>\n",
       "      <td>0.0</td>\n",
       "      <td>0.00</td>\n",
       "      <td>0.31</td>\n",
       "      <td>0.00</td>\n",
       "      <td>0.00</td>\n",
       "      <td>0.00</td>\n",
       "      <td>0.00</td>\n",
       "      <td>...</td>\n",
       "      <td>0.000</td>\n",
       "      <td>0.232</td>\n",
       "      <td>0.0</td>\n",
       "      <td>0.000</td>\n",
       "      <td>0.000</td>\n",
       "      <td>0.000</td>\n",
       "      <td>1.142</td>\n",
       "      <td>3</td>\n",
       "      <td>88</td>\n",
       "      <td>0</td>\n",
       "    </tr>\n",
       "    <tr>\n",
       "      <th>4597</th>\n",
       "      <td>0.00</td>\n",
       "      <td>0.00</td>\n",
       "      <td>0.00</td>\n",
       "      <td>0.0</td>\n",
       "      <td>0.00</td>\n",
       "      <td>0.00</td>\n",
       "      <td>0.00</td>\n",
       "      <td>0.00</td>\n",
       "      <td>0.00</td>\n",
       "      <td>0.00</td>\n",
       "      <td>...</td>\n",
       "      <td>0.000</td>\n",
       "      <td>0.000</td>\n",
       "      <td>0.0</td>\n",
       "      <td>0.353</td>\n",
       "      <td>0.000</td>\n",
       "      <td>0.000</td>\n",
       "      <td>1.555</td>\n",
       "      <td>4</td>\n",
       "      <td>14</td>\n",
       "      <td>0</td>\n",
       "    </tr>\n",
       "    <tr>\n",
       "      <th>4598</th>\n",
       "      <td>0.30</td>\n",
       "      <td>0.00</td>\n",
       "      <td>0.30</td>\n",
       "      <td>0.0</td>\n",
       "      <td>0.00</td>\n",
       "      <td>0.00</td>\n",
       "      <td>0.00</td>\n",
       "      <td>0.00</td>\n",
       "      <td>0.00</td>\n",
       "      <td>0.00</td>\n",
       "      <td>...</td>\n",
       "      <td>0.102</td>\n",
       "      <td>0.718</td>\n",
       "      <td>0.0</td>\n",
       "      <td>0.000</td>\n",
       "      <td>0.000</td>\n",
       "      <td>0.000</td>\n",
       "      <td>1.404</td>\n",
       "      <td>6</td>\n",
       "      <td>118</td>\n",
       "      <td>0</td>\n",
       "    </tr>\n",
       "    <tr>\n",
       "      <th>4599</th>\n",
       "      <td>0.96</td>\n",
       "      <td>0.00</td>\n",
       "      <td>0.00</td>\n",
       "      <td>0.0</td>\n",
       "      <td>0.32</td>\n",
       "      <td>0.00</td>\n",
       "      <td>0.00</td>\n",
       "      <td>0.00</td>\n",
       "      <td>0.00</td>\n",
       "      <td>0.00</td>\n",
       "      <td>...</td>\n",
       "      <td>0.000</td>\n",
       "      <td>0.057</td>\n",
       "      <td>0.0</td>\n",
       "      <td>0.000</td>\n",
       "      <td>0.000</td>\n",
       "      <td>0.000</td>\n",
       "      <td>1.147</td>\n",
       "      <td>5</td>\n",
       "      <td>78</td>\n",
       "      <td>0</td>\n",
       "    </tr>\n",
       "    <tr>\n",
       "      <th>4600</th>\n",
       "      <td>0.00</td>\n",
       "      <td>0.00</td>\n",
       "      <td>0.65</td>\n",
       "      <td>0.0</td>\n",
       "      <td>0.00</td>\n",
       "      <td>0.00</td>\n",
       "      <td>0.00</td>\n",
       "      <td>0.00</td>\n",
       "      <td>0.00</td>\n",
       "      <td>0.00</td>\n",
       "      <td>...</td>\n",
       "      <td>0.000</td>\n",
       "      <td>0.000</td>\n",
       "      <td>0.0</td>\n",
       "      <td>0.125</td>\n",
       "      <td>0.000</td>\n",
       "      <td>0.000</td>\n",
       "      <td>1.250</td>\n",
       "      <td>5</td>\n",
       "      <td>40</td>\n",
       "      <td>0</td>\n",
       "    </tr>\n",
       "  </tbody>\n",
       "</table>\n",
       "<p>4601 rows × 58 columns</p>\n",
       "</div>"
      ],
      "text/plain": [
       "        0     1     2    3     4     5     6     7     8     9   ...     48  \\\n",
       "0     0.00  0.64  0.64  0.0  0.32  0.00  0.00  0.00  0.00  0.00  ...  0.000   \n",
       "1     0.21  0.28  0.50  0.0  0.14  0.28  0.21  0.07  0.00  0.94  ...  0.000   \n",
       "2     0.06  0.00  0.71  0.0  1.23  0.19  0.19  0.12  0.64  0.25  ...  0.010   \n",
       "3     0.00  0.00  0.00  0.0  0.63  0.00  0.31  0.63  0.31  0.63  ...  0.000   \n",
       "4     0.00  0.00  0.00  0.0  0.63  0.00  0.31  0.63  0.31  0.63  ...  0.000   \n",
       "...    ...   ...   ...  ...   ...   ...   ...   ...   ...   ...  ...    ...   \n",
       "4596  0.31  0.00  0.62  0.0  0.00  0.31  0.00  0.00  0.00  0.00  ...  0.000   \n",
       "4597  0.00  0.00  0.00  0.0  0.00  0.00  0.00  0.00  0.00  0.00  ...  0.000   \n",
       "4598  0.30  0.00  0.30  0.0  0.00  0.00  0.00  0.00  0.00  0.00  ...  0.102   \n",
       "4599  0.96  0.00  0.00  0.0  0.32  0.00  0.00  0.00  0.00  0.00  ...  0.000   \n",
       "4600  0.00  0.00  0.65  0.0  0.00  0.00  0.00  0.00  0.00  0.00  ...  0.000   \n",
       "\n",
       "         49   50     51     52     53     54   55    56  57  \n",
       "0     0.000  0.0  0.778  0.000  0.000  3.756   61   278   1  \n",
       "1     0.132  0.0  0.372  0.180  0.048  5.114  101  1028   1  \n",
       "2     0.143  0.0  0.276  0.184  0.010  9.821  485  2259   1  \n",
       "3     0.137  0.0  0.137  0.000  0.000  3.537   40   191   1  \n",
       "4     0.135  0.0  0.135  0.000  0.000  3.537   40   191   1  \n",
       "...     ...  ...    ...    ...    ...    ...  ...   ...  ..  \n",
       "4596  0.232  0.0  0.000  0.000  0.000  1.142    3    88   0  \n",
       "4597  0.000  0.0  0.353  0.000  0.000  1.555    4    14   0  \n",
       "4598  0.718  0.0  0.000  0.000  0.000  1.404    6   118   0  \n",
       "4599  0.057  0.0  0.000  0.000  0.000  1.147    5    78   0  \n",
       "4600  0.000  0.0  0.125  0.000  0.000  1.250    5    40   0  \n",
       "\n",
       "[4601 rows x 58 columns]"
      ]
     },
     "execution_count": 15,
     "metadata": {},
     "output_type": "execute_result"
    }
   ],
   "source": [
    "df = pd.read_table(\"spambase.data\",sep=',',na_values=missing_values,header=None)\n",
    "df"
   ]
  },
  {
   "cell_type": "code",
   "execution_count": 16,
   "metadata": {
    "scrolled": true
   },
   "outputs": [
    {
     "data": {
      "text/plain": [
       "0     False\n",
       "1     False\n",
       "2     False\n",
       "3     False\n",
       "4     False\n",
       "5     False\n",
       "6     False\n",
       "7     False\n",
       "8     False\n",
       "9     False\n",
       "10    False\n",
       "11    False\n",
       "12    False\n",
       "13    False\n",
       "14    False\n",
       "15    False\n",
       "16    False\n",
       "17    False\n",
       "18    False\n",
       "19    False\n",
       "20    False\n",
       "21    False\n",
       "22    False\n",
       "23    False\n",
       "24    False\n",
       "25    False\n",
       "26    False\n",
       "27    False\n",
       "28    False\n",
       "29    False\n",
       "30    False\n",
       "31    False\n",
       "32    False\n",
       "33    False\n",
       "34    False\n",
       "35    False\n",
       "36    False\n",
       "37    False\n",
       "38    False\n",
       "39    False\n",
       "40    False\n",
       "41    False\n",
       "42    False\n",
       "43    False\n",
       "44    False\n",
       "45    False\n",
       "46    False\n",
       "47    False\n",
       "48    False\n",
       "49    False\n",
       "50    False\n",
       "51    False\n",
       "52    False\n",
       "53    False\n",
       "54    False\n",
       "55    False\n",
       "56    False\n",
       "57    False\n",
       "dtype: bool"
      ]
     },
     "execution_count": 16,
     "metadata": {},
     "output_type": "execute_result"
    }
   ],
   "source": [
    "# Check for missing values with the additional possibilities.\n",
    "df.isnull().any()"
   ]
  },
  {
   "cell_type": "code",
   "execution_count": 17,
   "metadata": {},
   "outputs": [
    {
     "data": {
      "text/plain": [
       "0"
      ]
     },
     "execution_count": 17,
     "metadata": {},
     "output_type": "execute_result"
    }
   ],
   "source": [
    "# Check for missing values in a visually simpler way\n",
    "df.isnull().any().sum()"
   ]
  },
  {
   "cell_type": "code",
   "execution_count": null,
   "metadata": {},
   "outputs": [],
   "source": []
  },
  {
   "cell_type": "markdown",
   "metadata": {},
   "source": [
    "### Data exploration and analysis\n",
    "We want to understand our dataset and look for a connection between the predictors and the target. Are some features more important than others in predicting the nature of the emails?"
   ]
  },
  {
   "cell_type": "code",
   "execution_count": 18,
   "metadata": {},
   "outputs": [
    {
     "data": {
      "text/html": [
       "<div>\n",
       "<style scoped>\n",
       "    .dataframe tbody tr th:only-of-type {\n",
       "        vertical-align: middle;\n",
       "    }\n",
       "\n",
       "    .dataframe tbody tr th {\n",
       "        vertical-align: top;\n",
       "    }\n",
       "\n",
       "    .dataframe thead th {\n",
       "        text-align: right;\n",
       "    }\n",
       "</style>\n",
       "<table border=\"1\" class=\"dataframe\">\n",
       "  <thead>\n",
       "    <tr style=\"text-align: right;\">\n",
       "      <th></th>\n",
       "      <th>count</th>\n",
       "      <th>mean</th>\n",
       "      <th>std</th>\n",
       "      <th>min</th>\n",
       "      <th>25%</th>\n",
       "      <th>50%</th>\n",
       "      <th>75%</th>\n",
       "      <th>max</th>\n",
       "    </tr>\n",
       "  </thead>\n",
       "  <tbody>\n",
       "    <tr>\n",
       "      <th>word_freq_make</th>\n",
       "      <td>4601.0</td>\n",
       "      <td>0.104553</td>\n",
       "      <td>0.305358</td>\n",
       "      <td>0.0</td>\n",
       "      <td>0.000</td>\n",
       "      <td>0.000</td>\n",
       "      <td>0.000</td>\n",
       "      <td>4.540</td>\n",
       "    </tr>\n",
       "    <tr>\n",
       "      <th>word_freq_address</th>\n",
       "      <td>4601.0</td>\n",
       "      <td>0.213015</td>\n",
       "      <td>1.290575</td>\n",
       "      <td>0.0</td>\n",
       "      <td>0.000</td>\n",
       "      <td>0.000</td>\n",
       "      <td>0.000</td>\n",
       "      <td>14.280</td>\n",
       "    </tr>\n",
       "    <tr>\n",
       "      <th>word_freq_all</th>\n",
       "      <td>4601.0</td>\n",
       "      <td>0.280656</td>\n",
       "      <td>0.504143</td>\n",
       "      <td>0.0</td>\n",
       "      <td>0.000</td>\n",
       "      <td>0.000</td>\n",
       "      <td>0.420</td>\n",
       "      <td>5.100</td>\n",
       "    </tr>\n",
       "    <tr>\n",
       "      <th>word_freq_3d</th>\n",
       "      <td>4601.0</td>\n",
       "      <td>0.065425</td>\n",
       "      <td>1.395151</td>\n",
       "      <td>0.0</td>\n",
       "      <td>0.000</td>\n",
       "      <td>0.000</td>\n",
       "      <td>0.000</td>\n",
       "      <td>42.810</td>\n",
       "    </tr>\n",
       "    <tr>\n",
       "      <th>word_freq_our</th>\n",
       "      <td>4601.0</td>\n",
       "      <td>0.312223</td>\n",
       "      <td>0.672513</td>\n",
       "      <td>0.0</td>\n",
       "      <td>0.000</td>\n",
       "      <td>0.000</td>\n",
       "      <td>0.380</td>\n",
       "      <td>10.000</td>\n",
       "    </tr>\n",
       "    <tr>\n",
       "      <th>word_freq_over</th>\n",
       "      <td>4601.0</td>\n",
       "      <td>0.095901</td>\n",
       "      <td>0.273824</td>\n",
       "      <td>0.0</td>\n",
       "      <td>0.000</td>\n",
       "      <td>0.000</td>\n",
       "      <td>0.000</td>\n",
       "      <td>5.880</td>\n",
       "    </tr>\n",
       "    <tr>\n",
       "      <th>word_freq_remove</th>\n",
       "      <td>4601.0</td>\n",
       "      <td>0.114208</td>\n",
       "      <td>0.391441</td>\n",
       "      <td>0.0</td>\n",
       "      <td>0.000</td>\n",
       "      <td>0.000</td>\n",
       "      <td>0.000</td>\n",
       "      <td>7.270</td>\n",
       "    </tr>\n",
       "    <tr>\n",
       "      <th>word_freq_internet</th>\n",
       "      <td>4601.0</td>\n",
       "      <td>0.105295</td>\n",
       "      <td>0.401071</td>\n",
       "      <td>0.0</td>\n",
       "      <td>0.000</td>\n",
       "      <td>0.000</td>\n",
       "      <td>0.000</td>\n",
       "      <td>11.110</td>\n",
       "    </tr>\n",
       "    <tr>\n",
       "      <th>word_freq_order</th>\n",
       "      <td>4601.0</td>\n",
       "      <td>0.090067</td>\n",
       "      <td>0.278616</td>\n",
       "      <td>0.0</td>\n",
       "      <td>0.000</td>\n",
       "      <td>0.000</td>\n",
       "      <td>0.000</td>\n",
       "      <td>5.260</td>\n",
       "    </tr>\n",
       "    <tr>\n",
       "      <th>word_freq_mail</th>\n",
       "      <td>4601.0</td>\n",
       "      <td>0.239413</td>\n",
       "      <td>0.644755</td>\n",
       "      <td>0.0</td>\n",
       "      <td>0.000</td>\n",
       "      <td>0.000</td>\n",
       "      <td>0.160</td>\n",
       "      <td>18.180</td>\n",
       "    </tr>\n",
       "    <tr>\n",
       "      <th>word_freq_receive</th>\n",
       "      <td>4601.0</td>\n",
       "      <td>0.059824</td>\n",
       "      <td>0.201545</td>\n",
       "      <td>0.0</td>\n",
       "      <td>0.000</td>\n",
       "      <td>0.000</td>\n",
       "      <td>0.000</td>\n",
       "      <td>2.610</td>\n",
       "    </tr>\n",
       "    <tr>\n",
       "      <th>word_freq_will</th>\n",
       "      <td>4601.0</td>\n",
       "      <td>0.541702</td>\n",
       "      <td>0.861698</td>\n",
       "      <td>0.0</td>\n",
       "      <td>0.000</td>\n",
       "      <td>0.100</td>\n",
       "      <td>0.800</td>\n",
       "      <td>9.670</td>\n",
       "    </tr>\n",
       "    <tr>\n",
       "      <th>word_freq_people</th>\n",
       "      <td>4601.0</td>\n",
       "      <td>0.093930</td>\n",
       "      <td>0.301036</td>\n",
       "      <td>0.0</td>\n",
       "      <td>0.000</td>\n",
       "      <td>0.000</td>\n",
       "      <td>0.000</td>\n",
       "      <td>5.550</td>\n",
       "    </tr>\n",
       "    <tr>\n",
       "      <th>word_freq_report</th>\n",
       "      <td>4601.0</td>\n",
       "      <td>0.058626</td>\n",
       "      <td>0.335184</td>\n",
       "      <td>0.0</td>\n",
       "      <td>0.000</td>\n",
       "      <td>0.000</td>\n",
       "      <td>0.000</td>\n",
       "      <td>10.000</td>\n",
       "    </tr>\n",
       "    <tr>\n",
       "      <th>word_freq_addresses</th>\n",
       "      <td>4601.0</td>\n",
       "      <td>0.049205</td>\n",
       "      <td>0.258843</td>\n",
       "      <td>0.0</td>\n",
       "      <td>0.000</td>\n",
       "      <td>0.000</td>\n",
       "      <td>0.000</td>\n",
       "      <td>4.410</td>\n",
       "    </tr>\n",
       "    <tr>\n",
       "      <th>word_freq_free</th>\n",
       "      <td>4601.0</td>\n",
       "      <td>0.248848</td>\n",
       "      <td>0.825792</td>\n",
       "      <td>0.0</td>\n",
       "      <td>0.000</td>\n",
       "      <td>0.000</td>\n",
       "      <td>0.100</td>\n",
       "      <td>20.000</td>\n",
       "    </tr>\n",
       "    <tr>\n",
       "      <th>word_freq_business</th>\n",
       "      <td>4601.0</td>\n",
       "      <td>0.142586</td>\n",
       "      <td>0.444055</td>\n",
       "      <td>0.0</td>\n",
       "      <td>0.000</td>\n",
       "      <td>0.000</td>\n",
       "      <td>0.000</td>\n",
       "      <td>7.140</td>\n",
       "    </tr>\n",
       "    <tr>\n",
       "      <th>word_freq_email</th>\n",
       "      <td>4601.0</td>\n",
       "      <td>0.184745</td>\n",
       "      <td>0.531122</td>\n",
       "      <td>0.0</td>\n",
       "      <td>0.000</td>\n",
       "      <td>0.000</td>\n",
       "      <td>0.000</td>\n",
       "      <td>9.090</td>\n",
       "    </tr>\n",
       "    <tr>\n",
       "      <th>word_freq_you</th>\n",
       "      <td>4601.0</td>\n",
       "      <td>1.662100</td>\n",
       "      <td>1.775481</td>\n",
       "      <td>0.0</td>\n",
       "      <td>0.000</td>\n",
       "      <td>1.310</td>\n",
       "      <td>2.640</td>\n",
       "      <td>18.750</td>\n",
       "    </tr>\n",
       "    <tr>\n",
       "      <th>word_freq_credit</th>\n",
       "      <td>4601.0</td>\n",
       "      <td>0.085577</td>\n",
       "      <td>0.509767</td>\n",
       "      <td>0.0</td>\n",
       "      <td>0.000</td>\n",
       "      <td>0.000</td>\n",
       "      <td>0.000</td>\n",
       "      <td>18.180</td>\n",
       "    </tr>\n",
       "    <tr>\n",
       "      <th>word_freq_your</th>\n",
       "      <td>4601.0</td>\n",
       "      <td>0.809761</td>\n",
       "      <td>1.200810</td>\n",
       "      <td>0.0</td>\n",
       "      <td>0.000</td>\n",
       "      <td>0.220</td>\n",
       "      <td>1.270</td>\n",
       "      <td>11.110</td>\n",
       "    </tr>\n",
       "    <tr>\n",
       "      <th>word_freq_font</th>\n",
       "      <td>4601.0</td>\n",
       "      <td>0.121202</td>\n",
       "      <td>1.025756</td>\n",
       "      <td>0.0</td>\n",
       "      <td>0.000</td>\n",
       "      <td>0.000</td>\n",
       "      <td>0.000</td>\n",
       "      <td>17.100</td>\n",
       "    </tr>\n",
       "    <tr>\n",
       "      <th>word_freq_000</th>\n",
       "      <td>4601.0</td>\n",
       "      <td>0.101645</td>\n",
       "      <td>0.350286</td>\n",
       "      <td>0.0</td>\n",
       "      <td>0.000</td>\n",
       "      <td>0.000</td>\n",
       "      <td>0.000</td>\n",
       "      <td>5.450</td>\n",
       "    </tr>\n",
       "    <tr>\n",
       "      <th>word_freq_money</th>\n",
       "      <td>4601.0</td>\n",
       "      <td>0.094269</td>\n",
       "      <td>0.442636</td>\n",
       "      <td>0.0</td>\n",
       "      <td>0.000</td>\n",
       "      <td>0.000</td>\n",
       "      <td>0.000</td>\n",
       "      <td>12.500</td>\n",
       "    </tr>\n",
       "    <tr>\n",
       "      <th>word_freq_hp</th>\n",
       "      <td>4601.0</td>\n",
       "      <td>0.549504</td>\n",
       "      <td>1.671349</td>\n",
       "      <td>0.0</td>\n",
       "      <td>0.000</td>\n",
       "      <td>0.000</td>\n",
       "      <td>0.000</td>\n",
       "      <td>20.830</td>\n",
       "    </tr>\n",
       "    <tr>\n",
       "      <th>word_freq_hpl</th>\n",
       "      <td>4601.0</td>\n",
       "      <td>0.265384</td>\n",
       "      <td>0.886955</td>\n",
       "      <td>0.0</td>\n",
       "      <td>0.000</td>\n",
       "      <td>0.000</td>\n",
       "      <td>0.000</td>\n",
       "      <td>16.660</td>\n",
       "    </tr>\n",
       "    <tr>\n",
       "      <th>word_freq_george</th>\n",
       "      <td>4601.0</td>\n",
       "      <td>0.767305</td>\n",
       "      <td>3.367292</td>\n",
       "      <td>0.0</td>\n",
       "      <td>0.000</td>\n",
       "      <td>0.000</td>\n",
       "      <td>0.000</td>\n",
       "      <td>33.330</td>\n",
       "    </tr>\n",
       "    <tr>\n",
       "      <th>word_freq_650</th>\n",
       "      <td>4601.0</td>\n",
       "      <td>0.124845</td>\n",
       "      <td>0.538576</td>\n",
       "      <td>0.0</td>\n",
       "      <td>0.000</td>\n",
       "      <td>0.000</td>\n",
       "      <td>0.000</td>\n",
       "      <td>9.090</td>\n",
       "    </tr>\n",
       "    <tr>\n",
       "      <th>word_freq_lab</th>\n",
       "      <td>4601.0</td>\n",
       "      <td>0.098915</td>\n",
       "      <td>0.593327</td>\n",
       "      <td>0.0</td>\n",
       "      <td>0.000</td>\n",
       "      <td>0.000</td>\n",
       "      <td>0.000</td>\n",
       "      <td>14.280</td>\n",
       "    </tr>\n",
       "    <tr>\n",
       "      <th>word_freq_labs</th>\n",
       "      <td>4601.0</td>\n",
       "      <td>0.102852</td>\n",
       "      <td>0.456682</td>\n",
       "      <td>0.0</td>\n",
       "      <td>0.000</td>\n",
       "      <td>0.000</td>\n",
       "      <td>0.000</td>\n",
       "      <td>5.880</td>\n",
       "    </tr>\n",
       "    <tr>\n",
       "      <th>word_freq_telnet</th>\n",
       "      <td>4601.0</td>\n",
       "      <td>0.064753</td>\n",
       "      <td>0.403393</td>\n",
       "      <td>0.0</td>\n",
       "      <td>0.000</td>\n",
       "      <td>0.000</td>\n",
       "      <td>0.000</td>\n",
       "      <td>12.500</td>\n",
       "    </tr>\n",
       "    <tr>\n",
       "      <th>word_freq_857</th>\n",
       "      <td>4601.0</td>\n",
       "      <td>0.047048</td>\n",
       "      <td>0.328559</td>\n",
       "      <td>0.0</td>\n",
       "      <td>0.000</td>\n",
       "      <td>0.000</td>\n",
       "      <td>0.000</td>\n",
       "      <td>4.760</td>\n",
       "    </tr>\n",
       "    <tr>\n",
       "      <th>word_freq_data</th>\n",
       "      <td>4601.0</td>\n",
       "      <td>0.097229</td>\n",
       "      <td>0.555907</td>\n",
       "      <td>0.0</td>\n",
       "      <td>0.000</td>\n",
       "      <td>0.000</td>\n",
       "      <td>0.000</td>\n",
       "      <td>18.180</td>\n",
       "    </tr>\n",
       "    <tr>\n",
       "      <th>word_freq_415</th>\n",
       "      <td>4601.0</td>\n",
       "      <td>0.047835</td>\n",
       "      <td>0.329445</td>\n",
       "      <td>0.0</td>\n",
       "      <td>0.000</td>\n",
       "      <td>0.000</td>\n",
       "      <td>0.000</td>\n",
       "      <td>4.760</td>\n",
       "    </tr>\n",
       "    <tr>\n",
       "      <th>word_freq_85</th>\n",
       "      <td>4601.0</td>\n",
       "      <td>0.105412</td>\n",
       "      <td>0.532260</td>\n",
       "      <td>0.0</td>\n",
       "      <td>0.000</td>\n",
       "      <td>0.000</td>\n",
       "      <td>0.000</td>\n",
       "      <td>20.000</td>\n",
       "    </tr>\n",
       "    <tr>\n",
       "      <th>word_freq_technology</th>\n",
       "      <td>4601.0</td>\n",
       "      <td>0.097477</td>\n",
       "      <td>0.402623</td>\n",
       "      <td>0.0</td>\n",
       "      <td>0.000</td>\n",
       "      <td>0.000</td>\n",
       "      <td>0.000</td>\n",
       "      <td>7.690</td>\n",
       "    </tr>\n",
       "    <tr>\n",
       "      <th>word_freq_1999</th>\n",
       "      <td>4601.0</td>\n",
       "      <td>0.136953</td>\n",
       "      <td>0.423451</td>\n",
       "      <td>0.0</td>\n",
       "      <td>0.000</td>\n",
       "      <td>0.000</td>\n",
       "      <td>0.000</td>\n",
       "      <td>6.890</td>\n",
       "    </tr>\n",
       "    <tr>\n",
       "      <th>word_freq_parts</th>\n",
       "      <td>4601.0</td>\n",
       "      <td>0.013201</td>\n",
       "      <td>0.220651</td>\n",
       "      <td>0.0</td>\n",
       "      <td>0.000</td>\n",
       "      <td>0.000</td>\n",
       "      <td>0.000</td>\n",
       "      <td>8.330</td>\n",
       "    </tr>\n",
       "    <tr>\n",
       "      <th>word_freq_pm</th>\n",
       "      <td>4601.0</td>\n",
       "      <td>0.078629</td>\n",
       "      <td>0.434672</td>\n",
       "      <td>0.0</td>\n",
       "      <td>0.000</td>\n",
       "      <td>0.000</td>\n",
       "      <td>0.000</td>\n",
       "      <td>11.110</td>\n",
       "    </tr>\n",
       "    <tr>\n",
       "      <th>word_freq_direct</th>\n",
       "      <td>4601.0</td>\n",
       "      <td>0.064834</td>\n",
       "      <td>0.349916</td>\n",
       "      <td>0.0</td>\n",
       "      <td>0.000</td>\n",
       "      <td>0.000</td>\n",
       "      <td>0.000</td>\n",
       "      <td>4.760</td>\n",
       "    </tr>\n",
       "    <tr>\n",
       "      <th>word_freq_cs</th>\n",
       "      <td>4601.0</td>\n",
       "      <td>0.043667</td>\n",
       "      <td>0.361205</td>\n",
       "      <td>0.0</td>\n",
       "      <td>0.000</td>\n",
       "      <td>0.000</td>\n",
       "      <td>0.000</td>\n",
       "      <td>7.140</td>\n",
       "    </tr>\n",
       "    <tr>\n",
       "      <th>word_freq_meeting</th>\n",
       "      <td>4601.0</td>\n",
       "      <td>0.132339</td>\n",
       "      <td>0.766819</td>\n",
       "      <td>0.0</td>\n",
       "      <td>0.000</td>\n",
       "      <td>0.000</td>\n",
       "      <td>0.000</td>\n",
       "      <td>14.280</td>\n",
       "    </tr>\n",
       "    <tr>\n",
       "      <th>word_freq_original</th>\n",
       "      <td>4601.0</td>\n",
       "      <td>0.046099</td>\n",
       "      <td>0.223812</td>\n",
       "      <td>0.0</td>\n",
       "      <td>0.000</td>\n",
       "      <td>0.000</td>\n",
       "      <td>0.000</td>\n",
       "      <td>3.570</td>\n",
       "    </tr>\n",
       "    <tr>\n",
       "      <th>word_freq_project</th>\n",
       "      <td>4601.0</td>\n",
       "      <td>0.079196</td>\n",
       "      <td>0.621976</td>\n",
       "      <td>0.0</td>\n",
       "      <td>0.000</td>\n",
       "      <td>0.000</td>\n",
       "      <td>0.000</td>\n",
       "      <td>20.000</td>\n",
       "    </tr>\n",
       "    <tr>\n",
       "      <th>word_freq_re</th>\n",
       "      <td>4601.0</td>\n",
       "      <td>0.301224</td>\n",
       "      <td>1.011687</td>\n",
       "      <td>0.0</td>\n",
       "      <td>0.000</td>\n",
       "      <td>0.000</td>\n",
       "      <td>0.110</td>\n",
       "      <td>21.420</td>\n",
       "    </tr>\n",
       "    <tr>\n",
       "      <th>word_freq_edu</th>\n",
       "      <td>4601.0</td>\n",
       "      <td>0.179824</td>\n",
       "      <td>0.911119</td>\n",
       "      <td>0.0</td>\n",
       "      <td>0.000</td>\n",
       "      <td>0.000</td>\n",
       "      <td>0.000</td>\n",
       "      <td>22.050</td>\n",
       "    </tr>\n",
       "    <tr>\n",
       "      <th>word_freq_table</th>\n",
       "      <td>4601.0</td>\n",
       "      <td>0.005444</td>\n",
       "      <td>0.076274</td>\n",
       "      <td>0.0</td>\n",
       "      <td>0.000</td>\n",
       "      <td>0.000</td>\n",
       "      <td>0.000</td>\n",
       "      <td>2.170</td>\n",
       "    </tr>\n",
       "    <tr>\n",
       "      <th>word_freq_conference</th>\n",
       "      <td>4601.0</td>\n",
       "      <td>0.031869</td>\n",
       "      <td>0.285735</td>\n",
       "      <td>0.0</td>\n",
       "      <td>0.000</td>\n",
       "      <td>0.000</td>\n",
       "      <td>0.000</td>\n",
       "      <td>10.000</td>\n",
       "    </tr>\n",
       "    <tr>\n",
       "      <th>char_freq_;</th>\n",
       "      <td>4601.0</td>\n",
       "      <td>0.038575</td>\n",
       "      <td>0.243471</td>\n",
       "      <td>0.0</td>\n",
       "      <td>0.000</td>\n",
       "      <td>0.000</td>\n",
       "      <td>0.000</td>\n",
       "      <td>4.385</td>\n",
       "    </tr>\n",
       "    <tr>\n",
       "      <th>char_freq_(</th>\n",
       "      <td>4601.0</td>\n",
       "      <td>0.139030</td>\n",
       "      <td>0.270355</td>\n",
       "      <td>0.0</td>\n",
       "      <td>0.000</td>\n",
       "      <td>0.065</td>\n",
       "      <td>0.188</td>\n",
       "      <td>9.752</td>\n",
       "    </tr>\n",
       "    <tr>\n",
       "      <th>char_freq_[</th>\n",
       "      <td>4601.0</td>\n",
       "      <td>0.016976</td>\n",
       "      <td>0.109394</td>\n",
       "      <td>0.0</td>\n",
       "      <td>0.000</td>\n",
       "      <td>0.000</td>\n",
       "      <td>0.000</td>\n",
       "      <td>4.081</td>\n",
       "    </tr>\n",
       "    <tr>\n",
       "      <th>char_freq_!</th>\n",
       "      <td>4601.0</td>\n",
       "      <td>0.269071</td>\n",
       "      <td>0.815672</td>\n",
       "      <td>0.0</td>\n",
       "      <td>0.000</td>\n",
       "      <td>0.000</td>\n",
       "      <td>0.315</td>\n",
       "      <td>32.478</td>\n",
       "    </tr>\n",
       "    <tr>\n",
       "      <th>char_freq_$</th>\n",
       "      <td>4601.0</td>\n",
       "      <td>0.075811</td>\n",
       "      <td>0.245882</td>\n",
       "      <td>0.0</td>\n",
       "      <td>0.000</td>\n",
       "      <td>0.000</td>\n",
       "      <td>0.052</td>\n",
       "      <td>6.003</td>\n",
       "    </tr>\n",
       "    <tr>\n",
       "      <th>char_freq_#</th>\n",
       "      <td>4601.0</td>\n",
       "      <td>0.044238</td>\n",
       "      <td>0.429342</td>\n",
       "      <td>0.0</td>\n",
       "      <td>0.000</td>\n",
       "      <td>0.000</td>\n",
       "      <td>0.000</td>\n",
       "      <td>19.829</td>\n",
       "    </tr>\n",
       "    <tr>\n",
       "      <th>capital_run_length_average</th>\n",
       "      <td>4601.0</td>\n",
       "      <td>5.191515</td>\n",
       "      <td>31.729449</td>\n",
       "      <td>1.0</td>\n",
       "      <td>1.588</td>\n",
       "      <td>2.276</td>\n",
       "      <td>3.706</td>\n",
       "      <td>1102.500</td>\n",
       "    </tr>\n",
       "    <tr>\n",
       "      <th>capital_run_length_longest</th>\n",
       "      <td>4601.0</td>\n",
       "      <td>52.172789</td>\n",
       "      <td>194.891310</td>\n",
       "      <td>1.0</td>\n",
       "      <td>6.000</td>\n",
       "      <td>15.000</td>\n",
       "      <td>43.000</td>\n",
       "      <td>9989.000</td>\n",
       "    </tr>\n",
       "    <tr>\n",
       "      <th>capital_run_length_total</th>\n",
       "      <td>4601.0</td>\n",
       "      <td>283.289285</td>\n",
       "      <td>606.347851</td>\n",
       "      <td>1.0</td>\n",
       "      <td>35.000</td>\n",
       "      <td>95.000</td>\n",
       "      <td>266.000</td>\n",
       "      <td>15841.000</td>\n",
       "    </tr>\n",
       "    <tr>\n",
       "      <th>spam</th>\n",
       "      <td>4601.0</td>\n",
       "      <td>0.394045</td>\n",
       "      <td>0.488698</td>\n",
       "      <td>0.0</td>\n",
       "      <td>0.000</td>\n",
       "      <td>0.000</td>\n",
       "      <td>1.000</td>\n",
       "      <td>1.000</td>\n",
       "    </tr>\n",
       "  </tbody>\n",
       "</table>\n",
       "</div>"
      ],
      "text/plain": [
       "                             count        mean         std  min     25%  \\\n",
       "word_freq_make              4601.0    0.104553    0.305358  0.0   0.000   \n",
       "word_freq_address           4601.0    0.213015    1.290575  0.0   0.000   \n",
       "word_freq_all               4601.0    0.280656    0.504143  0.0   0.000   \n",
       "word_freq_3d                4601.0    0.065425    1.395151  0.0   0.000   \n",
       "word_freq_our               4601.0    0.312223    0.672513  0.0   0.000   \n",
       "word_freq_over              4601.0    0.095901    0.273824  0.0   0.000   \n",
       "word_freq_remove            4601.0    0.114208    0.391441  0.0   0.000   \n",
       "word_freq_internet          4601.0    0.105295    0.401071  0.0   0.000   \n",
       "word_freq_order             4601.0    0.090067    0.278616  0.0   0.000   \n",
       "word_freq_mail              4601.0    0.239413    0.644755  0.0   0.000   \n",
       "word_freq_receive           4601.0    0.059824    0.201545  0.0   0.000   \n",
       "word_freq_will              4601.0    0.541702    0.861698  0.0   0.000   \n",
       "word_freq_people            4601.0    0.093930    0.301036  0.0   0.000   \n",
       "word_freq_report            4601.0    0.058626    0.335184  0.0   0.000   \n",
       "word_freq_addresses         4601.0    0.049205    0.258843  0.0   0.000   \n",
       "word_freq_free              4601.0    0.248848    0.825792  0.0   0.000   \n",
       "word_freq_business          4601.0    0.142586    0.444055  0.0   0.000   \n",
       "word_freq_email             4601.0    0.184745    0.531122  0.0   0.000   \n",
       "word_freq_you               4601.0    1.662100    1.775481  0.0   0.000   \n",
       "word_freq_credit            4601.0    0.085577    0.509767  0.0   0.000   \n",
       "word_freq_your              4601.0    0.809761    1.200810  0.0   0.000   \n",
       "word_freq_font              4601.0    0.121202    1.025756  0.0   0.000   \n",
       "word_freq_000               4601.0    0.101645    0.350286  0.0   0.000   \n",
       "word_freq_money             4601.0    0.094269    0.442636  0.0   0.000   \n",
       "word_freq_hp                4601.0    0.549504    1.671349  0.0   0.000   \n",
       "word_freq_hpl               4601.0    0.265384    0.886955  0.0   0.000   \n",
       "word_freq_george            4601.0    0.767305    3.367292  0.0   0.000   \n",
       "word_freq_650               4601.0    0.124845    0.538576  0.0   0.000   \n",
       "word_freq_lab               4601.0    0.098915    0.593327  0.0   0.000   \n",
       "word_freq_labs              4601.0    0.102852    0.456682  0.0   0.000   \n",
       "word_freq_telnet            4601.0    0.064753    0.403393  0.0   0.000   \n",
       "word_freq_857               4601.0    0.047048    0.328559  0.0   0.000   \n",
       "word_freq_data              4601.0    0.097229    0.555907  0.0   0.000   \n",
       "word_freq_415               4601.0    0.047835    0.329445  0.0   0.000   \n",
       "word_freq_85                4601.0    0.105412    0.532260  0.0   0.000   \n",
       "word_freq_technology        4601.0    0.097477    0.402623  0.0   0.000   \n",
       "word_freq_1999              4601.0    0.136953    0.423451  0.0   0.000   \n",
       "word_freq_parts             4601.0    0.013201    0.220651  0.0   0.000   \n",
       "word_freq_pm                4601.0    0.078629    0.434672  0.0   0.000   \n",
       "word_freq_direct            4601.0    0.064834    0.349916  0.0   0.000   \n",
       "word_freq_cs                4601.0    0.043667    0.361205  0.0   0.000   \n",
       "word_freq_meeting           4601.0    0.132339    0.766819  0.0   0.000   \n",
       "word_freq_original          4601.0    0.046099    0.223812  0.0   0.000   \n",
       "word_freq_project           4601.0    0.079196    0.621976  0.0   0.000   \n",
       "word_freq_re                4601.0    0.301224    1.011687  0.0   0.000   \n",
       "word_freq_edu               4601.0    0.179824    0.911119  0.0   0.000   \n",
       "word_freq_table             4601.0    0.005444    0.076274  0.0   0.000   \n",
       "word_freq_conference        4601.0    0.031869    0.285735  0.0   0.000   \n",
       "char_freq_;                 4601.0    0.038575    0.243471  0.0   0.000   \n",
       "char_freq_(                 4601.0    0.139030    0.270355  0.0   0.000   \n",
       "char_freq_[                 4601.0    0.016976    0.109394  0.0   0.000   \n",
       "char_freq_!                 4601.0    0.269071    0.815672  0.0   0.000   \n",
       "char_freq_$                 4601.0    0.075811    0.245882  0.0   0.000   \n",
       "char_freq_#                 4601.0    0.044238    0.429342  0.0   0.000   \n",
       "capital_run_length_average  4601.0    5.191515   31.729449  1.0   1.588   \n",
       "capital_run_length_longest  4601.0   52.172789  194.891310  1.0   6.000   \n",
       "capital_run_length_total    4601.0  283.289285  606.347851  1.0  35.000   \n",
       "spam                        4601.0    0.394045    0.488698  0.0   0.000   \n",
       "\n",
       "                               50%      75%        max  \n",
       "word_freq_make               0.000    0.000      4.540  \n",
       "word_freq_address            0.000    0.000     14.280  \n",
       "word_freq_all                0.000    0.420      5.100  \n",
       "word_freq_3d                 0.000    0.000     42.810  \n",
       "word_freq_our                0.000    0.380     10.000  \n",
       "word_freq_over               0.000    0.000      5.880  \n",
       "word_freq_remove             0.000    0.000      7.270  \n",
       "word_freq_internet           0.000    0.000     11.110  \n",
       "word_freq_order              0.000    0.000      5.260  \n",
       "word_freq_mail               0.000    0.160     18.180  \n",
       "word_freq_receive            0.000    0.000      2.610  \n",
       "word_freq_will               0.100    0.800      9.670  \n",
       "word_freq_people             0.000    0.000      5.550  \n",
       "word_freq_report             0.000    0.000     10.000  \n",
       "word_freq_addresses          0.000    0.000      4.410  \n",
       "word_freq_free               0.000    0.100     20.000  \n",
       "word_freq_business           0.000    0.000      7.140  \n",
       "word_freq_email              0.000    0.000      9.090  \n",
       "word_freq_you                1.310    2.640     18.750  \n",
       "word_freq_credit             0.000    0.000     18.180  \n",
       "word_freq_your               0.220    1.270     11.110  \n",
       "word_freq_font               0.000    0.000     17.100  \n",
       "word_freq_000                0.000    0.000      5.450  \n",
       "word_freq_money              0.000    0.000     12.500  \n",
       "word_freq_hp                 0.000    0.000     20.830  \n",
       "word_freq_hpl                0.000    0.000     16.660  \n",
       "word_freq_george             0.000    0.000     33.330  \n",
       "word_freq_650                0.000    0.000      9.090  \n",
       "word_freq_lab                0.000    0.000     14.280  \n",
       "word_freq_labs               0.000    0.000      5.880  \n",
       "word_freq_telnet             0.000    0.000     12.500  \n",
       "word_freq_857                0.000    0.000      4.760  \n",
       "word_freq_data               0.000    0.000     18.180  \n",
       "word_freq_415                0.000    0.000      4.760  \n",
       "word_freq_85                 0.000    0.000     20.000  \n",
       "word_freq_technology         0.000    0.000      7.690  \n",
       "word_freq_1999               0.000    0.000      6.890  \n",
       "word_freq_parts              0.000    0.000      8.330  \n",
       "word_freq_pm                 0.000    0.000     11.110  \n",
       "word_freq_direct             0.000    0.000      4.760  \n",
       "word_freq_cs                 0.000    0.000      7.140  \n",
       "word_freq_meeting            0.000    0.000     14.280  \n",
       "word_freq_original           0.000    0.000      3.570  \n",
       "word_freq_project            0.000    0.000     20.000  \n",
       "word_freq_re                 0.000    0.110     21.420  \n",
       "word_freq_edu                0.000    0.000     22.050  \n",
       "word_freq_table              0.000    0.000      2.170  \n",
       "word_freq_conference         0.000    0.000     10.000  \n",
       "char_freq_;                  0.000    0.000      4.385  \n",
       "char_freq_(                  0.065    0.188      9.752  \n",
       "char_freq_[                  0.000    0.000      4.081  \n",
       "char_freq_!                  0.000    0.315     32.478  \n",
       "char_freq_$                  0.000    0.052      6.003  \n",
       "char_freq_#                  0.000    0.000     19.829  \n",
       "capital_run_length_average   2.276    3.706   1102.500  \n",
       "capital_run_length_longest  15.000   43.000   9989.000  \n",
       "capital_run_length_total    95.000  266.000  15841.000  \n",
       "spam                         0.000    1.000      1.000  "
      ]
     },
     "execution_count": 18,
     "metadata": {},
     "output_type": "execute_result"
    }
   ],
   "source": [
    "spambase.describe().T"
   ]
  },
  {
   "cell_type": "markdown",
   "metadata": {},
   "source": [
    "#### Looking at the range and mean of each variable, we wonder whether we should normalize or standardize the data."
   ]
  },
  {
   "cell_type": "markdown",
   "metadata": {},
   "source": [
    "#### How is our data distributed between each class?"
   ]
  },
  {
   "cell_type": "code",
   "execution_count": 19,
   "metadata": {},
   "outputs": [
    {
     "data": {
      "text/plain": [
       "1813"
      ]
     },
     "execution_count": 19,
     "metadata": {},
     "output_type": "execute_result"
    }
   ],
   "source": [
    "spam_qty = spambase[spambase.spam==1].spam.size\n",
    "spam_qty"
   ]
  },
  {
   "cell_type": "code",
   "execution_count": 20,
   "metadata": {},
   "outputs": [
    {
     "data": {
      "text/plain": [
       "2788"
      ]
     },
     "execution_count": 20,
     "metadata": {},
     "output_type": "execute_result"
    }
   ],
   "source": [
    "non_spam_qty = spambase[spambase.spam==0].spam.size\n",
    "non_spam_qty"
   ]
  },
  {
   "cell_type": "code",
   "execution_count": 21,
   "metadata": {},
   "outputs": [
    {
     "data": {
      "text/plain": [
       "0.39404477287546186"
      ]
     },
     "execution_count": 21,
     "metadata": {},
     "output_type": "execute_result"
    }
   ],
   "source": [
    "spam_prop = spam_qty/(spam_qty + non_spam_qty)\n",
    "spam_prop"
   ]
  },
  {
   "cell_type": "markdown",
   "metadata": {},
   "source": [
    "We have about 39.40% of our data categorized as spam, and therefore about 60.60% of non-spam individuals. "
   ]
  },
  {
   "cell_type": "code",
   "execution_count": 22,
   "metadata": {},
   "outputs": [
    {
     "data": {
      "image/png": "[encoded data removed]",
      "text/plain": [
       "<Figure size 504x504 with 1 Axes>"
      ]
     },
     "metadata": {},
     "output_type": "display_data"
    }
   ],
   "source": [
    "# let's visualise those proportions \n",
    "portions = [spam_qty, non_spam_qty]  # the proportions of spam and non-spam to display\n",
    "labels = [\"spam\", \"non-spam\"]\n",
    "plt.figure(figsize=(7,7))\n",
    "plt.pie(portions, startangle=90, labels=labels, autopct='%1.2f%%', shadow=True, explode=[0.1,0])\n",
    "plt.title(\"Proportion of spam and non-spam emails\")\n",
    "\n",
    "# Just for to get white labels for the slides\n",
    "#_, texts, autotexts = plt.pie(portions, startangle=90, labels=labels, autopct='%1.2f%%', shadow=True, explode=[0.1,0])\n",
    "#for text in texts:\n",
    "#    text.set_color('white')\n",
    "#for autotext in autotexts:\n",
    "#    autotext.set_color('white')\n",
    "\n",
    "plt.show()"
   ]
  },
  {
   "cell_type": "markdown",
   "metadata": {},
   "source": [
    "#### How does the imbalance of our dataset might impact our analysis and use of the dataset? We will see later that we can use specific tools when building models of prediction to ensure that these models are not overtrained on one class and undertrained on the other, and that their performance is correctly measured in a way that takes that imbalance into account. "
   ]
  },
  {
   "cell_type": "code",
   "execution_count": null,
   "metadata": {},
   "outputs": [],
   "source": []
  },
  {
   "cell_type": "markdown",
   "metadata": {},
   "source": [
    "#### We now want to know the most frequent words and characters for spam and non-spam emails to start looking for a connection between features and target. \n",
    "In the following section, when I refer to frequencies, I mean frequency for all 'word_freq_' and 'char_freq_' features and count for the three 'capital_run_length_' features. "
   ]
  },
  {
   "cell_type": "code",
   "execution_count": 23,
   "metadata": {
    "scrolled": true
   },
   "outputs": [
    {
     "data": {
      "text/html": [
       "<div>\n",
       "<style scoped>\n",
       "    .dataframe tbody tr th:only-of-type {\n",
       "        vertical-align: middle;\n",
       "    }\n",
       "\n",
       "    .dataframe tbody tr th {\n",
       "        vertical-align: top;\n",
       "    }\n",
       "\n",
       "    .dataframe thead th {\n",
       "        text-align: right;\n",
       "    }\n",
       "</style>\n",
       "<table border=\"1\" class=\"dataframe\">\n",
       "  <thead>\n",
       "    <tr style=\"text-align: right;\">\n",
       "      <th>spam</th>\n",
       "      <th>0</th>\n",
       "      <th>1</th>\n",
       "    </tr>\n",
       "  </thead>\n",
       "  <tbody>\n",
       "    <tr>\n",
       "      <th>capital_run_length_average</th>\n",
       "      <td>2.377301</td>\n",
       "      <td>9.519165</td>\n",
       "    </tr>\n",
       "    <tr>\n",
       "      <th>capital_run_length_longest</th>\n",
       "      <td>18.214491</td>\n",
       "      <td>104.393271</td>\n",
       "    </tr>\n",
       "    <tr>\n",
       "      <th>capital_run_length_total</th>\n",
       "      <td>161.470947</td>\n",
       "      <td>470.619415</td>\n",
       "    </tr>\n",
       "    <tr>\n",
       "      <th>char_freq_!</th>\n",
       "      <td>0.109984</td>\n",
       "      <td>0.513713</td>\n",
       "    </tr>\n",
       "    <tr>\n",
       "      <th>char_freq_#</th>\n",
       "      <td>0.021713</td>\n",
       "      <td>0.078877</td>\n",
       "    </tr>\n",
       "    <tr>\n",
       "      <th>char_freq_$</th>\n",
       "      <td>0.011648</td>\n",
       "      <td>0.174478</td>\n",
       "    </tr>\n",
       "    <tr>\n",
       "      <th>char_freq_(</th>\n",
       "      <td>0.158578</td>\n",
       "      <td>0.108970</td>\n",
       "    </tr>\n",
       "    <tr>\n",
       "      <th>char_freq_;</th>\n",
       "      <td>0.050281</td>\n",
       "      <td>0.020573</td>\n",
       "    </tr>\n",
       "    <tr>\n",
       "      <th>char_freq_[</th>\n",
       "      <td>0.022684</td>\n",
       "      <td>0.008199</td>\n",
       "    </tr>\n",
       "    <tr>\n",
       "      <th>word_freq_000</th>\n",
       "      <td>0.007088</td>\n",
       "      <td>0.247055</td>\n",
       "    </tr>\n",
       "    <tr>\n",
       "      <th>word_freq_1999</th>\n",
       "      <td>0.197744</td>\n",
       "      <td>0.043469</td>\n",
       "    </tr>\n",
       "    <tr>\n",
       "      <th>word_freq_3d</th>\n",
       "      <td>0.000886</td>\n",
       "      <td>0.164672</td>\n",
       "    </tr>\n",
       "    <tr>\n",
       "      <th>word_freq_415</th>\n",
       "      <td>0.077787</td>\n",
       "      <td>0.001776</td>\n",
       "    </tr>\n",
       "    <tr>\n",
       "      <th>word_freq_650</th>\n",
       "      <td>0.193806</td>\n",
       "      <td>0.018798</td>\n",
       "    </tr>\n",
       "    <tr>\n",
       "      <th>word_freq_85</th>\n",
       "      <td>0.169455</td>\n",
       "      <td>0.006928</td>\n",
       "    </tr>\n",
       "    <tr>\n",
       "      <th>word_freq_857</th>\n",
       "      <td>0.077306</td>\n",
       "      <td>0.000518</td>\n",
       "    </tr>\n",
       "    <tr>\n",
       "      <th>word_freq_address</th>\n",
       "      <td>0.244466</td>\n",
       "      <td>0.164650</td>\n",
       "    </tr>\n",
       "    <tr>\n",
       "      <th>word_freq_addresses</th>\n",
       "      <td>0.008318</td>\n",
       "      <td>0.112079</td>\n",
       "    </tr>\n",
       "    <tr>\n",
       "      <th>word_freq_all</th>\n",
       "      <td>0.200581</td>\n",
       "      <td>0.403795</td>\n",
       "    </tr>\n",
       "    <tr>\n",
       "      <th>word_freq_business</th>\n",
       "      <td>0.048346</td>\n",
       "      <td>0.287507</td>\n",
       "    </tr>\n",
       "    <tr>\n",
       "      <th>word_freq_conference</th>\n",
       "      <td>0.051227</td>\n",
       "      <td>0.002101</td>\n",
       "    </tr>\n",
       "    <tr>\n",
       "      <th>word_freq_credit</th>\n",
       "      <td>0.007579</td>\n",
       "      <td>0.205521</td>\n",
       "    </tr>\n",
       "    <tr>\n",
       "      <th>word_freq_cs</th>\n",
       "      <td>0.072027</td>\n",
       "      <td>0.000055</td>\n",
       "    </tr>\n",
       "    <tr>\n",
       "      <th>word_freq_data</th>\n",
       "      <td>0.150986</td>\n",
       "      <td>0.014562</td>\n",
       "    </tr>\n",
       "    <tr>\n",
       "      <th>word_freq_direct</th>\n",
       "      <td>0.083117</td>\n",
       "      <td>0.036718</td>\n",
       "    </tr>\n",
       "    <tr>\n",
       "      <th>word_freq_edu</th>\n",
       "      <td>0.287184</td>\n",
       "      <td>0.014727</td>\n",
       "    </tr>\n",
       "    <tr>\n",
       "      <th>word_freq_email</th>\n",
       "      <td>0.097292</td>\n",
       "      <td>0.319228</td>\n",
       "    </tr>\n",
       "    <tr>\n",
       "      <th>word_freq_font</th>\n",
       "      <td>0.045226</td>\n",
       "      <td>0.238036</td>\n",
       "    </tr>\n",
       "    <tr>\n",
       "      <th>word_freq_free</th>\n",
       "      <td>0.073587</td>\n",
       "      <td>0.518362</td>\n",
       "    </tr>\n",
       "    <tr>\n",
       "      <th>word_freq_george</th>\n",
       "      <td>1.265265</td>\n",
       "      <td>0.001550</td>\n",
       "    </tr>\n",
       "    <tr>\n",
       "      <th>word_freq_hp</th>\n",
       "      <td>0.895473</td>\n",
       "      <td>0.017479</td>\n",
       "    </tr>\n",
       "    <tr>\n",
       "      <th>word_freq_hpl</th>\n",
       "      <td>0.431994</td>\n",
       "      <td>0.009173</td>\n",
       "    </tr>\n",
       "    <tr>\n",
       "      <th>word_freq_internet</th>\n",
       "      <td>0.038415</td>\n",
       "      <td>0.208141</td>\n",
       "    </tr>\n",
       "    <tr>\n",
       "      <th>word_freq_lab</th>\n",
       "      <td>0.162794</td>\n",
       "      <td>0.000684</td>\n",
       "    </tr>\n",
       "    <tr>\n",
       "      <th>word_freq_labs</th>\n",
       "      <td>0.165854</td>\n",
       "      <td>0.005968</td>\n",
       "    </tr>\n",
       "    <tr>\n",
       "      <th>word_freq_mail</th>\n",
       "      <td>0.167170</td>\n",
       "      <td>0.350507</td>\n",
       "    </tr>\n",
       "    <tr>\n",
       "      <th>word_freq_make</th>\n",
       "      <td>0.073479</td>\n",
       "      <td>0.152339</td>\n",
       "    </tr>\n",
       "    <tr>\n",
       "      <th>word_freq_meeting</th>\n",
       "      <td>0.216808</td>\n",
       "      <td>0.002443</td>\n",
       "    </tr>\n",
       "    <tr>\n",
       "      <th>word_freq_money</th>\n",
       "      <td>0.017138</td>\n",
       "      <td>0.212879</td>\n",
       "    </tr>\n",
       "    <tr>\n",
       "      <th>word_freq_order</th>\n",
       "      <td>0.038049</td>\n",
       "      <td>0.170061</td>\n",
       "    </tr>\n",
       "    <tr>\n",
       "      <th>word_freq_original</th>\n",
       "      <td>0.070581</td>\n",
       "      <td>0.008450</td>\n",
       "    </tr>\n",
       "    <tr>\n",
       "      <th>word_freq_our</th>\n",
       "      <td>0.181040</td>\n",
       "      <td>0.513955</td>\n",
       "    </tr>\n",
       "    <tr>\n",
       "      <th>word_freq_over</th>\n",
       "      <td>0.044544</td>\n",
       "      <td>0.174876</td>\n",
       "    </tr>\n",
       "    <tr>\n",
       "      <th>word_freq_parts</th>\n",
       "      <td>0.018723</td>\n",
       "      <td>0.004710</td>\n",
       "    </tr>\n",
       "    <tr>\n",
       "      <th>word_freq_people</th>\n",
       "      <td>0.061664</td>\n",
       "      <td>0.143547</td>\n",
       "    </tr>\n",
       "    <tr>\n",
       "      <th>word_freq_pm</th>\n",
       "      <td>0.121679</td>\n",
       "      <td>0.012427</td>\n",
       "    </tr>\n",
       "    <tr>\n",
       "      <th>word_freq_project</th>\n",
       "      <td>0.126636</td>\n",
       "      <td>0.006244</td>\n",
       "    </tr>\n",
       "    <tr>\n",
       "      <th>word_freq_re</th>\n",
       "      <td>0.415760</td>\n",
       "      <td>0.125091</td>\n",
       "    </tr>\n",
       "    <tr>\n",
       "      <th>word_freq_receive</th>\n",
       "      <td>0.021711</td>\n",
       "      <td>0.118434</td>\n",
       "    </tr>\n",
       "    <tr>\n",
       "      <th>word_freq_remove</th>\n",
       "      <td>0.009383</td>\n",
       "      <td>0.275405</td>\n",
       "    </tr>\n",
       "    <tr>\n",
       "      <th>word_freq_report</th>\n",
       "      <td>0.042403</td>\n",
       "      <td>0.083574</td>\n",
       "    </tr>\n",
       "    <tr>\n",
       "      <th>word_freq_table</th>\n",
       "      <td>0.008192</td>\n",
       "      <td>0.001219</td>\n",
       "    </tr>\n",
       "    <tr>\n",
       "      <th>word_freq_technology</th>\n",
       "      <td>0.141671</td>\n",
       "      <td>0.029515</td>\n",
       "    </tr>\n",
       "    <tr>\n",
       "      <th>word_freq_telnet</th>\n",
       "      <td>0.106033</td>\n",
       "      <td>0.001274</td>\n",
       "    </tr>\n",
       "    <tr>\n",
       "      <th>word_freq_will</th>\n",
       "      <td>0.536324</td>\n",
       "      <td>0.549972</td>\n",
       "    </tr>\n",
       "    <tr>\n",
       "      <th>word_freq_you</th>\n",
       "      <td>1.270341</td>\n",
       "      <td>2.264539</td>\n",
       "    </tr>\n",
       "    <tr>\n",
       "      <th>word_freq_your</th>\n",
       "      <td>0.438702</td>\n",
       "      <td>1.380370</td>\n",
       "    </tr>\n",
       "  </tbody>\n",
       "</table>\n",
       "</div>"
      ],
      "text/plain": [
       "spam                                 0           1\n",
       "capital_run_length_average    2.377301    9.519165\n",
       "capital_run_length_longest   18.214491  104.393271\n",
       "capital_run_length_total    161.470947  470.619415\n",
       "char_freq_!                   0.109984    0.513713\n",
       "char_freq_#                   0.021713    0.078877\n",
       "char_freq_$                   0.011648    0.174478\n",
       "char_freq_(                   0.158578    0.108970\n",
       "char_freq_;                   0.050281    0.020573\n",
       "char_freq_[                   0.022684    0.008199\n",
       "word_freq_000                 0.007088    0.247055\n",
       "word_freq_1999                0.197744    0.043469\n",
       "word_freq_3d                  0.000886    0.164672\n",
       "word_freq_415                 0.077787    0.001776\n",
       "word_freq_650                 0.193806    0.018798\n",
       "word_freq_85                  0.169455    0.006928\n",
       "word_freq_857                 0.077306    0.000518\n",
       "word_freq_address             0.244466    0.164650\n",
       "word_freq_addresses           0.008318    0.112079\n",
       "word_freq_all                 0.200581    0.403795\n",
       "word_freq_business            0.048346    0.287507\n",
       "word_freq_conference          0.051227    0.002101\n",
       "word_freq_credit              0.007579    0.205521\n",
       "word_freq_cs                  0.072027    0.000055\n",
       "word_freq_data                0.150986    0.014562\n",
       "word_freq_direct              0.083117    0.036718\n",
       "word_freq_edu                 0.287184    0.014727\n",
       "word_freq_email               0.097292    0.319228\n",
       "word_freq_font                0.045226    0.238036\n",
       "word_freq_free                0.073587    0.518362\n",
       "word_freq_george              1.265265    0.001550\n",
       "word_freq_hp                  0.895473    0.017479\n",
       "word_freq_hpl                 0.431994    0.009173\n",
       "word_freq_internet            0.038415    0.208141\n",
       "word_freq_lab                 0.162794    0.000684\n",
       "word_freq_labs                0.165854    0.005968\n",
       "word_freq_mail                0.167170    0.350507\n",
       "word_freq_make                0.073479    0.152339\n",
       "word_freq_meeting             0.216808    0.002443\n",
       "word_freq_money               0.017138    0.212879\n",
       "word_freq_order               0.038049    0.170061\n",
       "word_freq_original            0.070581    0.008450\n",
       "word_freq_our                 0.181040    0.513955\n",
       "word_freq_over                0.044544    0.174876\n",
       "word_freq_parts               0.018723    0.004710\n",
       "word_freq_people              0.061664    0.143547\n",
       "word_freq_pm                  0.121679    0.012427\n",
       "word_freq_project             0.126636    0.006244\n",
       "word_freq_re                  0.415760    0.125091\n",
       "word_freq_receive             0.021711    0.118434\n",
       "word_freq_remove              0.009383    0.275405\n",
       "word_freq_report              0.042403    0.083574\n",
       "word_freq_table               0.008192    0.001219\n",
       "word_freq_technology          0.141671    0.029515\n",
       "word_freq_telnet              0.106033    0.001274\n",
       "word_freq_will                0.536324    0.549972\n",
       "word_freq_you                 1.270341    2.264539\n",
       "word_freq_your                0.438702    1.380370"
      ]
     },
     "execution_count": 23,
     "metadata": {},
     "output_type": "execute_result"
    }
   ],
   "source": [
    "# The average frequencies of the variables for each target class. \n",
    "table_spam = pd.pivot_table(spambase, columns='spam',aggfunc='mean')\n",
    "table_spam"
   ]
  },
  {
   "cell_type": "code",
   "execution_count": 24,
   "metadata": {
    "scrolled": true
   },
   "outputs": [
    {
     "data": {
      "text/plain": [
       "capital_run_length_total      283.289285\n",
       "capital_run_length_longest     52.172789\n",
       "capital_run_length_average      5.191515\n",
       "word_freq_you                   1.662100\n",
       "word_freq_your                  0.809761\n",
       "word_freq_george                0.767305\n",
       "word_freq_hp                    0.549504\n",
       "word_freq_will                  0.541702\n",
       "spam                            0.394045\n",
       "word_freq_our                   0.312223\n",
       "word_freq_re                    0.301224\n",
       "word_freq_all                   0.280656\n",
       "char_freq_!                     0.269071\n",
       "word_freq_hpl                   0.265384\n",
       "word_freq_free                  0.248848\n",
       "word_freq_mail                  0.239413\n",
       "word_freq_address               0.213015\n",
       "word_freq_email                 0.184745\n",
       "word_freq_edu                   0.179824\n",
       "word_freq_business              0.142586\n",
       "char_freq_(                     0.139030\n",
       "word_freq_1999                  0.136953\n",
       "word_freq_meeting               0.132339\n",
       "word_freq_650                   0.124845\n",
       "word_freq_font                  0.121202\n",
       "word_freq_remove                0.114208\n",
       "word_freq_85                    0.105412\n",
       "word_freq_internet              0.105295\n",
       "word_freq_make                  0.104553\n",
       "word_freq_labs                  0.102852\n",
       "word_freq_000                   0.101645\n",
       "word_freq_lab                   0.098915\n",
       "word_freq_technology            0.097477\n",
       "word_freq_data                  0.097229\n",
       "word_freq_over                  0.095901\n",
       "word_freq_money                 0.094269\n",
       "word_freq_people                0.093930\n",
       "word_freq_order                 0.090067\n",
       "word_freq_credit                0.085577\n",
       "word_freq_project               0.079196\n",
       "word_freq_pm                    0.078629\n",
       "char_freq_$                     0.075811\n",
       "word_freq_3d                    0.065425\n",
       "word_freq_direct                0.064834\n",
       "word_freq_telnet                0.064753\n",
       "word_freq_receive               0.059824\n",
       "word_freq_report                0.058626\n",
       "word_freq_addresses             0.049205\n",
       "word_freq_415                   0.047835\n",
       "word_freq_857                   0.047048\n",
       "word_freq_original              0.046099\n",
       "char_freq_#                     0.044238\n",
       "word_freq_cs                    0.043667\n",
       "char_freq_;                     0.038575\n",
       "word_freq_conference            0.031869\n",
       "char_freq_[                     0.016976\n",
       "word_freq_parts                 0.013201\n",
       "word_freq_table                 0.005444\n",
       "dtype: float64"
      ]
     },
     "execution_count": 24,
     "metadata": {},
     "output_type": "execute_result"
    }
   ],
   "source": [
    "# The most frequent words and characters on average \n",
    "spambase.mean().sort_values(ascending=False)"
   ]
  },
  {
   "cell_type": "code",
   "execution_count": 25,
   "metadata": {
    "scrolled": true
   },
   "outputs": [
    {
     "data": {
      "text/plain": [
       "capital_run_length_total      470.619415\n",
       "capital_run_length_longest    104.393271\n",
       "capital_run_length_average      9.519165\n",
       "word_freq_you                   2.264539\n",
       "word_freq_your                  1.380370\n",
       "spam                            1.000000\n",
       "word_freq_will                  0.549972\n",
       "word_freq_free                  0.518362\n",
       "word_freq_our                   0.513955\n",
       "char_freq_!                     0.513713\n",
       "word_freq_all                   0.403795\n",
       "word_freq_mail                  0.350507\n",
       "word_freq_email                 0.319228\n",
       "word_freq_business              0.287507\n",
       "word_freq_remove                0.275405\n",
       "word_freq_000                   0.247055\n",
       "word_freq_font                  0.238036\n",
       "word_freq_money                 0.212879\n",
       "word_freq_internet              0.208141\n",
       "word_freq_credit                0.205521\n",
       "word_freq_over                  0.174876\n",
       "char_freq_$                     0.174478\n",
       "word_freq_order                 0.170061\n",
       "word_freq_3d                    0.164672\n",
       "word_freq_address               0.164650\n",
       "word_freq_make                  0.152339\n",
       "word_freq_people                0.143547\n",
       "word_freq_re                    0.125091\n",
       "word_freq_receive               0.118434\n",
       "word_freq_addresses             0.112079\n",
       "char_freq_(                     0.108970\n",
       "word_freq_report                0.083574\n",
       "char_freq_#                     0.078877\n",
       "word_freq_1999                  0.043469\n",
       "word_freq_direct                0.036718\n",
       "word_freq_technology            0.029515\n",
       "char_freq_;                     0.020573\n",
       "word_freq_650                   0.018798\n",
       "word_freq_hp                    0.017479\n",
       "word_freq_edu                   0.014727\n",
       "word_freq_data                  0.014562\n",
       "word_freq_pm                    0.012427\n",
       "word_freq_hpl                   0.009173\n",
       "word_freq_original              0.008450\n",
       "char_freq_[                     0.008199\n",
       "word_freq_85                    0.006928\n",
       "word_freq_project               0.006244\n",
       "word_freq_labs                  0.005968\n",
       "word_freq_parts                 0.004710\n",
       "word_freq_meeting               0.002443\n",
       "word_freq_conference            0.002101\n",
       "word_freq_415                   0.001776\n",
       "word_freq_george                0.001550\n",
       "word_freq_telnet                0.001274\n",
       "word_freq_table                 0.001219\n",
       "word_freq_lab                   0.000684\n",
       "word_freq_857                   0.000518\n",
       "word_freq_cs                    0.000055\n",
       "dtype: float64"
      ]
     },
     "execution_count": 25,
     "metadata": {},
     "output_type": "execute_result"
    }
   ],
   "source": [
    "# The most frequent words and characters on average in the spam category\n",
    "spambase[spambase.spam==1].mean().sort_values(ascending=False)"
   ]
  },
  {
   "cell_type": "code",
   "execution_count": 26,
   "metadata": {
    "scrolled": true
   },
   "outputs": [
    {
     "data": {
      "text/plain": [
       "capital_run_length_total      161.470947\n",
       "capital_run_length_longest     18.214491\n",
       "capital_run_length_average      2.377301\n",
       "word_freq_you                   1.270341\n",
       "word_freq_george                1.265265\n",
       "word_freq_hp                    0.895473\n",
       "word_freq_will                  0.536324\n",
       "word_freq_your                  0.438702\n",
       "word_freq_hpl                   0.431994\n",
       "word_freq_re                    0.415760\n",
       "word_freq_edu                   0.287184\n",
       "word_freq_address               0.244466\n",
       "word_freq_meeting               0.216808\n",
       "word_freq_all                   0.200581\n",
       "word_freq_1999                  0.197744\n",
       "word_freq_650                   0.193806\n",
       "word_freq_our                   0.181040\n",
       "word_freq_85                    0.169455\n",
       "word_freq_mail                  0.167170\n",
       "word_freq_labs                  0.165854\n",
       "word_freq_lab                   0.162794\n",
       "char_freq_(                     0.158578\n",
       "word_freq_data                  0.150986\n",
       "word_freq_technology            0.141671\n",
       "word_freq_project               0.126636\n",
       "word_freq_pm                    0.121679\n",
       "char_freq_!                     0.109984\n",
       "word_freq_telnet                0.106033\n",
       "word_freq_email                 0.097292\n",
       "word_freq_direct                0.083117\n",
       "word_freq_415                   0.077787\n",
       "word_freq_857                   0.077306\n",
       "word_freq_free                  0.073587\n",
       "word_freq_make                  0.073479\n",
       "word_freq_cs                    0.072027\n",
       "word_freq_original              0.070581\n",
       "word_freq_people                0.061664\n",
       "word_freq_conference            0.051227\n",
       "char_freq_;                     0.050281\n",
       "word_freq_business              0.048346\n",
       "word_freq_font                  0.045226\n",
       "word_freq_over                  0.044544\n",
       "word_freq_report                0.042403\n",
       "word_freq_internet              0.038415\n",
       "word_freq_order                 0.038049\n",
       "char_freq_[                     0.022684\n",
       "char_freq_#                     0.021713\n",
       "word_freq_receive               0.021711\n",
       "word_freq_parts                 0.018723\n",
       "word_freq_money                 0.017138\n",
       "char_freq_$                     0.011648\n",
       "word_freq_remove                0.009383\n",
       "word_freq_addresses             0.008318\n",
       "word_freq_table                 0.008192\n",
       "word_freq_credit                0.007579\n",
       "word_freq_000                   0.007088\n",
       "word_freq_3d                    0.000886\n",
       "spam                            0.000000\n",
       "dtype: float64"
      ]
     },
     "execution_count": 26,
     "metadata": {},
     "output_type": "execute_result"
    }
   ],
   "source": [
    "# Most frequent words and characters on average for the non-spam category\n",
    "spambase[spambase.spam==0].mean().sort_values(ascending=False)"
   ]
  },
  {
   "cell_type": "code",
   "execution_count": 27,
   "metadata": {
    "scrolled": true
   },
   "outputs": [
    {
     "data": {
      "text/plain": [
       "capital_run_length_total      15841.000\n",
       "capital_run_length_longest     9989.000\n",
       "capital_run_length_average     1102.500\n",
       "word_freq_3d                     42.810\n",
       "char_freq_#                      19.829\n",
       "word_freq_credit                 18.180\n",
       "word_freq_font                   17.100\n",
       "word_freq_free                   16.660\n",
       "word_freq_money                  12.500\n",
       "word_freq_you                    12.500\n",
       "word_freq_internet               11.110\n",
       "word_freq_your                   11.110\n",
       "char_freq_(                       9.752\n",
       "word_freq_650                     9.090\n",
       "word_freq_email                   9.090\n",
       "char_freq_!                       7.843\n",
       "word_freq_our                     7.690\n",
       "word_freq_mail                    7.550\n",
       "word_freq_remove                  7.270\n",
       "word_freq_business                7.140\n",
       "word_freq_will                    6.250\n",
       "char_freq_$                       6.003\n",
       "word_freq_re                      5.550\n",
       "word_freq_people                  5.550\n",
       "word_freq_000                     5.450\n",
       "word_freq_1999                    5.050\n",
       "word_freq_report                  4.760\n",
       "word_freq_address                 4.760\n",
       "word_freq_make                    4.540\n",
       "word_freq_addresses               4.410\n",
       "word_freq_all                     3.700\n",
       "word_freq_hp                      3.580\n",
       "word_freq_labs                    3.380\n",
       "word_freq_order                   3.330\n",
       "word_freq_edu                     2.730\n",
       "word_freq_receive                 2.610\n",
       "word_freq_over                    2.540\n",
       "word_freq_direct                  2.220\n",
       "word_freq_data                    2.120\n",
       "word_freq_85                      1.910\n",
       "word_freq_pm                      1.880\n",
       "word_freq_hpl                     1.770\n",
       "word_freq_technology              1.620\n",
       "word_freq_parts                   1.560\n",
       "word_freq_telnet                  1.360\n",
       "word_freq_415                     1.350\n",
       "word_freq_george                  1.280\n",
       "char_freq_[                       1.171\n",
       "word_freq_project                 1.160\n",
       "char_freq_;                       1.117\n",
       "spam                              1.000\n",
       "word_freq_original                0.890\n",
       "word_freq_conference              0.770\n",
       "word_freq_857                     0.470\n",
       "word_freq_lab                     0.470\n",
       "word_freq_table                   0.460\n",
       "word_freq_meeting                 0.450\n",
       "word_freq_cs                      0.100\n",
       "dtype: float64"
      ]
     },
     "execution_count": 27,
     "metadata": {},
     "output_type": "execute_result"
    }
   ],
   "source": [
    "# Max frequencies for the spam emails \n",
    "spambase[spambase.spam==1].max().sort_values(ascending=False)"
   ]
  },
  {
   "cell_type": "code",
   "execution_count": 28,
   "metadata": {
    "scrolled": true
   },
   "outputs": [
    {
     "data": {
      "text/plain": [
       "capital_run_length_total      5902.000\n",
       "capital_run_length_longest    1488.000\n",
       "capital_run_length_average     251.000\n",
       "word_freq_george                33.330\n",
       "char_freq_!                     32.478\n",
       "word_freq_edu                   22.050\n",
       "word_freq_re                    21.420\n",
       "word_freq_hp                    20.830\n",
       "word_freq_free                  20.000\n",
       "word_freq_project               20.000\n",
       "word_freq_85                    20.000\n",
       "word_freq_you                   18.750\n",
       "word_freq_data                  18.180\n",
       "word_freq_mail                  18.180\n",
       "word_freq_hpl                   16.660\n",
       "word_freq_meeting               14.280\n",
       "word_freq_address               14.280\n",
       "word_freq_lab                   14.280\n",
       "word_freq_telnet                12.500\n",
       "word_freq_font                  11.420\n",
       "word_freq_pm                    11.110\n",
       "word_freq_your                  10.710\n",
       "word_freq_report                10.000\n",
       "word_freq_our                   10.000\n",
       "word_freq_conference            10.000\n",
       "word_freq_money                  9.750\n",
       "word_freq_will                   9.670\n",
       "word_freq_parts                  8.330\n",
       "word_freq_email                  7.690\n",
       "word_freq_technology             7.690\n",
       "char_freq_#                      7.407\n",
       "word_freq_cs                     7.140\n",
       "word_freq_1999                   6.890\n",
       "word_freq_650                    5.880\n",
       "word_freq_over                   5.880\n",
       "word_freq_internet               5.880\n",
       "word_freq_labs                   5.880\n",
       "word_freq_people                 5.550\n",
       "char_freq_(                      5.277\n",
       "word_freq_order                  5.260\n",
       "word_freq_all                    5.100\n",
       "word_freq_direct                 4.760\n",
       "word_freq_415                    4.760\n",
       "word_freq_857                    4.760\n",
       "char_freq_;                      4.385\n",
       "word_freq_make                   4.340\n",
       "char_freq_[                      4.081\n",
       "word_freq_business               3.570\n",
       "word_freq_original               3.570\n",
       "word_freq_remove                 3.070\n",
       "word_freq_credit                 2.700\n",
       "word_freq_addresses              2.240\n",
       "word_freq_table                  2.170\n",
       "word_freq_000                    2.120\n",
       "char_freq_$                      2.038\n",
       "word_freq_receive                2.000\n",
       "word_freq_3d                     0.870\n",
       "spam                             0.000\n",
       "dtype: float64"
      ]
     },
     "execution_count": 28,
     "metadata": {},
     "output_type": "execute_result"
    }
   ],
   "source": [
    "# Max frequencies for the non-spam emails\n",
    "spambase[spambase.spam==0].max().sort_values(ascending=False)"
   ]
  },
  {
   "cell_type": "markdown",
   "metadata": {},
   "source": [
    "#### The results above inform us on some words and characters more frequent than others in each class. It would be interesting to know how much more present each of those words and characters is in one class compared to the other. Let's find out. "
   ]
  },
  {
   "cell_type": "code",
   "execution_count": 29,
   "metadata": {},
   "outputs": [],
   "source": [
    "# We separate the original dataset into spam and non-spam data\n",
    "spambase_0 = spambase[spambase.spam==0]  \n",
    "spambase_1 = spambase[spambase.spam==1]"
   ]
  },
  {
   "cell_type": "markdown",
   "metadata": {},
   "source": [
    "Each class sorted by most frequent features"
   ]
  },
  {
   "cell_type": "code",
   "execution_count": 30,
   "metadata": {
    "scrolled": true
   },
   "outputs": [
    {
     "data": {
      "text/plain": [
       "capital_run_length_total      161.470947\n",
       "capital_run_length_longest     18.214491\n",
       "capital_run_length_average      2.377301\n",
       "word_freq_you                   1.270341\n",
       "word_freq_george                1.265265\n",
       "word_freq_hp                    0.895473\n",
       "word_freq_will                  0.536324\n",
       "word_freq_your                  0.438702\n",
       "word_freq_hpl                   0.431994\n",
       "word_freq_re                    0.415760\n",
       "word_freq_edu                   0.287184\n",
       "word_freq_address               0.244466\n",
       "word_freq_meeting               0.216808\n",
       "word_freq_all                   0.200581\n",
       "word_freq_1999                  0.197744\n",
       "word_freq_650                   0.193806\n",
       "word_freq_our                   0.181040\n",
       "word_freq_85                    0.169455\n",
       "word_freq_mail                  0.167170\n",
       "word_freq_labs                  0.165854\n",
       "word_freq_lab                   0.162794\n",
       "char_freq_(                     0.158578\n",
       "word_freq_data                  0.150986\n",
       "word_freq_technology            0.141671\n",
       "word_freq_project               0.126636\n",
       "word_freq_pm                    0.121679\n",
       "char_freq_!                     0.109984\n",
       "word_freq_telnet                0.106033\n",
       "word_freq_email                 0.097292\n",
       "word_freq_direct                0.083117\n",
       "word_freq_415                   0.077787\n",
       "word_freq_857                   0.077306\n",
       "word_freq_free                  0.073587\n",
       "word_freq_make                  0.073479\n",
       "word_freq_cs                    0.072027\n",
       "word_freq_original              0.070581\n",
       "word_freq_people                0.061664\n",
       "word_freq_conference            0.051227\n",
       "char_freq_;                     0.050281\n",
       "word_freq_business              0.048346\n",
       "word_freq_font                  0.045226\n",
       "word_freq_over                  0.044544\n",
       "word_freq_report                0.042403\n",
       "word_freq_internet              0.038415\n",
       "word_freq_order                 0.038049\n",
       "char_freq_[                     0.022684\n",
       "char_freq_#                     0.021713\n",
       "word_freq_receive               0.021711\n",
       "word_freq_parts                 0.018723\n",
       "word_freq_money                 0.017138\n",
       "char_freq_$                     0.011648\n",
       "word_freq_remove                0.009383\n",
       "word_freq_addresses             0.008318\n",
       "word_freq_table                 0.008192\n",
       "word_freq_credit                0.007579\n",
       "word_freq_000                   0.007088\n",
       "word_freq_3d                    0.000886\n",
       "spam                            0.000000\n",
       "dtype: float64"
      ]
     },
     "execution_count": 30,
     "metadata": {},
     "output_type": "execute_result"
    }
   ],
   "source": [
    "spambase_0.mean().sort_values(ascending=False)"
   ]
  },
  {
   "cell_type": "code",
   "execution_count": 31,
   "metadata": {
    "scrolled": true
   },
   "outputs": [
    {
     "data": {
      "text/plain": [
       "capital_run_length_total      470.619415\n",
       "capital_run_length_longest    104.393271\n",
       "capital_run_length_average      9.519165\n",
       "word_freq_you                   2.264539\n",
       "word_freq_your                  1.380370\n",
       "spam                            1.000000\n",
       "word_freq_will                  0.549972\n",
       "word_freq_free                  0.518362\n",
       "word_freq_our                   0.513955\n",
       "char_freq_!                     0.513713\n",
       "word_freq_all                   0.403795\n",
       "word_freq_mail                  0.350507\n",
       "word_freq_email                 0.319228\n",
       "word_freq_business              0.287507\n",
       "word_freq_remove                0.275405\n",
       "word_freq_000                   0.247055\n",
       "word_freq_font                  0.238036\n",
       "word_freq_money                 0.212879\n",
       "word_freq_internet              0.208141\n",
       "word_freq_credit                0.205521\n",
       "word_freq_over                  0.174876\n",
       "char_freq_$                     0.174478\n",
       "word_freq_order                 0.170061\n",
       "word_freq_3d                    0.164672\n",
       "word_freq_address               0.164650\n",
       "word_freq_make                  0.152339\n",
       "word_freq_people                0.143547\n",
       "word_freq_re                    0.125091\n",
       "word_freq_receive               0.118434\n",
       "word_freq_addresses             0.112079\n",
       "char_freq_(                     0.108970\n",
       "word_freq_report                0.083574\n",
       "char_freq_#                     0.078877\n",
       "word_freq_1999                  0.043469\n",
       "word_freq_direct                0.036718\n",
       "word_freq_technology            0.029515\n",
       "char_freq_;                     0.020573\n",
       "word_freq_650                   0.018798\n",
       "word_freq_hp                    0.017479\n",
       "word_freq_edu                   0.014727\n",
       "word_freq_data                  0.014562\n",
       "word_freq_pm                    0.012427\n",
       "word_freq_hpl                   0.009173\n",
       "word_freq_original              0.008450\n",
       "char_freq_[                     0.008199\n",
       "word_freq_85                    0.006928\n",
       "word_freq_project               0.006244\n",
       "word_freq_labs                  0.005968\n",
       "word_freq_parts                 0.004710\n",
       "word_freq_meeting               0.002443\n",
       "word_freq_conference            0.002101\n",
       "word_freq_415                   0.001776\n",
       "word_freq_george                0.001550\n",
       "word_freq_telnet                0.001274\n",
       "word_freq_table                 0.001219\n",
       "word_freq_lab                   0.000684\n",
       "word_freq_857                   0.000518\n",
       "word_freq_cs                    0.000055\n",
       "dtype: float64"
      ]
     },
     "execution_count": 31,
     "metadata": {},
     "output_type": "execute_result"
    }
   ],
   "source": [
    "spambase_1.mean().sort_values(ascending=False)"
   ]
  },
  {
   "cell_type": "markdown",
   "metadata": {},
   "source": [
    "###### In spam data, how much more frequent are the most frequent words and characters compared to non-spam data?"
   ]
  },
  {
   "cell_type": "code",
   "execution_count": 32,
   "metadata": {
    "scrolled": true
   },
   "outputs": [
    {
     "data": {
      "text/plain": [
       "word_freq_3d                  185.872477\n",
       "word_freq_000                  34.857704\n",
       "word_freq_remove               29.351310\n",
       "word_freq_credit               27.117520\n",
       "char_freq_$                    14.978608\n",
       "word_freq_addresses            13.474663\n",
       "word_freq_money                12.421667\n",
       "word_freq_free                  7.044223\n",
       "word_freq_business              5.946800\n",
       "capital_run_length_longest      5.731331\n",
       "word_freq_receive               5.455026\n",
       "word_freq_internet              5.418279\n",
       "word_freq_font                  5.263268\n",
       "char_freq_!                     4.670815\n",
       "word_freq_order                 4.469543\n",
       "capital_run_length_average      4.004190\n",
       "word_freq_over                  3.925872\n",
       "char_freq_#                     3.632699\n",
       "word_freq_email                 3.281132\n",
       "word_freq_your                  3.146489\n",
       "capital_run_length_total        2.914576\n",
       "word_freq_our                   2.838899\n",
       "word_freq_people                2.327873\n",
       "word_freq_mail                  2.096712\n",
       "word_freq_make                  2.073222\n",
       "word_freq_all                   2.013125\n",
       "word_freq_report                1.970943\n",
       "word_freq_you                   1.782624\n",
       "word_freq_will                  1.025449\n",
       "char_freq_(                     0.687170\n",
       "word_freq_address               0.673509\n",
       "word_freq_direct                0.441765\n",
       "char_freq_;                     0.409163\n",
       "char_freq_[                     0.361431\n",
       "word_freq_re                    0.300873\n",
       "word_freq_parts                 0.251584\n",
       "word_freq_1999                  0.219827\n",
       "word_freq_technology            0.208331\n",
       "word_freq_table                 0.148796\n",
       "word_freq_original              0.119722\n",
       "word_freq_pm                    0.102129\n",
       "word_freq_650                   0.096992\n",
       "word_freq_data                  0.096442\n",
       "word_freq_edu                   0.051281\n",
       "word_freq_project               0.049305\n",
       "word_freq_conference            0.041023\n",
       "word_freq_85                    0.040883\n",
       "word_freq_labs                  0.035984\n",
       "word_freq_415                   0.022832\n",
       "word_freq_hpl                   0.021233\n",
       "word_freq_hp                    0.019520\n",
       "word_freq_telnet                0.012016\n",
       "word_freq_meeting               0.011270\n",
       "word_freq_857                   0.006707\n",
       "word_freq_lab                   0.004201\n",
       "word_freq_george                0.001225\n",
       "word_freq_cs                    0.000766\n",
       "dtype: float64"
      ]
     },
     "execution_count": 32,
     "metadata": {},
     "output_type": "execute_result"
    }
   ],
   "source": [
    "spambase_prop_1 = spambase_1.mean()/spambase_0.mean()\n",
    "spambase_prop_1.drop(index='spam',inplace=True)  # we don't need the target\n",
    "spambase_prop_1.sort_values(ascending=False)"
   ]
  },
  {
   "cell_type": "code",
   "execution_count": 33,
   "metadata": {
    "scrolled": true
   },
   "outputs": [
    {
     "data": {
      "text/plain": [
       "spam                                inf\n",
       "word_freq_3d                  49.206897\n",
       "word_freq_credit               6.733333\n",
       "capital_run_length_longest     6.713038\n",
       "capital_run_length_average     4.392430\n",
       "char_freq_$                    2.945535\n",
       "capital_run_length_total       2.684005\n",
       "char_freq_#                    2.677062\n",
       "word_freq_000                  2.570755\n",
       "word_freq_remove               2.368078\n",
       "word_freq_business             2.000000\n",
       "word_freq_addresses            1.968750\n",
       "word_freq_internet             1.889456\n",
       "char_freq_(                    1.848020\n",
       "word_freq_650                  1.545918\n",
       "word_freq_font                 1.497373\n",
       "word_freq_receive              1.305000\n",
       "word_freq_money                1.282051\n",
       "word_freq_email                1.182055\n",
       "word_freq_make                 1.046083\n",
       "word_freq_your                 1.037348\n",
       "word_freq_people               1.000000\n",
       "word_freq_free                 0.833000\n",
       "word_freq_our                  0.769000\n",
       "word_freq_1999                 0.732946\n",
       "word_freq_all                  0.725490\n",
       "word_freq_you                  0.666667\n",
       "word_freq_will                 0.646329\n",
       "word_freq_order                0.633080\n",
       "word_freq_labs                 0.574830\n",
       "word_freq_report               0.476000\n",
       "word_freq_direct               0.466387\n",
       "word_freq_over                 0.431973\n",
       "word_freq_mail                 0.415292\n",
       "word_freq_address              0.333333\n",
       "char_freq_[                    0.286939\n",
       "word_freq_415                  0.283613\n",
       "word_freq_re                   0.259104\n",
       "char_freq_;                    0.254732\n",
       "word_freq_original             0.249300\n",
       "char_freq_!                    0.241487\n",
       "word_freq_table                0.211982\n",
       "word_freq_technology           0.210663\n",
       "word_freq_parts                0.187275\n",
       "word_freq_hp                   0.171867\n",
       "word_freq_pm                   0.169217\n",
       "word_freq_edu                  0.123810\n",
       "word_freq_data                 0.116612\n",
       "word_freq_telnet               0.108800\n",
       "word_freq_hpl                  0.106242\n",
       "word_freq_857                  0.098739\n",
       "word_freq_85                   0.095500\n",
       "word_freq_conference           0.077000\n",
       "word_freq_project              0.058000\n",
       "word_freq_george               0.038404\n",
       "word_freq_lab                  0.032913\n",
       "word_freq_meeting              0.031513\n",
       "word_freq_cs                   0.014006\n",
       "dtype: float64"
      ]
     },
     "execution_count": 33,
     "metadata": {},
     "output_type": "execute_result"
    }
   ],
   "source": [
    "spambase_maxprop_1 = spambase_1.max()/spambase_0.max()\n",
    "spambase_maxprop_1.sort_values(ascending=False)"
   ]
  },
  {
   "cell_type": "markdown",
   "metadata": {},
   "source": [
    "###### In non-spam data, how much more frequent are the most frequent words and characters compared to spam data?"
   ]
  },
  {
   "cell_type": "code",
   "execution_count": 34,
   "metadata": {
    "scrolled": true
   },
   "outputs": [
    {
     "data": {
      "text/plain": [
       "word_freq_cs                  1305.841212\n",
       "word_freq_george               816.343848\n",
       "word_freq_lab                  238.020754\n",
       "word_freq_857                  149.102495\n",
       "word_freq_meeting               88.729672\n",
       "word_freq_telnet                83.219838\n",
       "word_freq_hp                    51.230463\n",
       "word_freq_hpl                   47.095947\n",
       "word_freq_415                   43.797432\n",
       "word_freq_labs                  27.790451\n",
       "word_freq_85                    24.460316\n",
       "word_freq_conference            24.376373\n",
       "word_freq_project               20.281829\n",
       "word_freq_edu                   19.500571\n",
       "word_freq_data                  10.368875\n",
       "word_freq_650                   10.310139\n",
       "word_freq_pm                     9.791538\n",
       "word_freq_original               8.352707\n",
       "word_freq_table                  6.720613\n",
       "word_freq_technology             4.800044\n",
       "word_freq_1999                   4.549038\n",
       "word_freq_parts                  3.974822\n",
       "word_freq_re                     3.323663\n",
       "char_freq_[                      2.766782\n",
       "char_freq_;                      2.444011\n",
       "word_freq_direct                 2.263647\n",
       "word_freq_address                1.484761\n",
       "char_freq_(                      1.455243\n",
       "word_freq_will                   0.975183\n",
       "word_freq_you                    0.560971\n",
       "word_freq_report                 0.507371\n",
       "word_freq_all                    0.496740\n",
       "word_freq_make                   0.482341\n",
       "word_freq_mail                   0.476937\n",
       "word_freq_people                 0.429577\n",
       "word_freq_our                    0.352249\n",
       "capital_run_length_total         0.343103\n",
       "word_freq_your                   0.317815\n",
       "word_freq_email                  0.304773\n",
       "char_freq_#                      0.275277\n",
       "word_freq_over                   0.254721\n",
       "capital_run_length_average       0.249738\n",
       "word_freq_order                  0.223737\n",
       "char_freq_!                      0.214095\n",
       "word_freq_font                   0.189996\n",
       "word_freq_internet               0.184560\n",
       "word_freq_receive                0.183317\n",
       "capital_run_length_longest       0.174480\n",
       "word_freq_business               0.168158\n",
       "word_freq_free                   0.141960\n",
       "word_freq_money                  0.080504\n",
       "word_freq_addresses              0.074213\n",
       "char_freq_$                      0.066762\n",
       "word_freq_credit                 0.036877\n",
       "word_freq_remove                 0.034070\n",
       "word_freq_000                    0.028688\n",
       "word_freq_3d                     0.005380\n",
       "dtype: float64"
      ]
     },
     "execution_count": 34,
     "metadata": {},
     "output_type": "execute_result"
    }
   ],
   "source": [
    "spambase_prop_0 = spambase_0.mean()/spambase_1.mean()\n",
    "spambase_prop_0.drop(index='spam',inplace=True)  # we don't need the target \n",
    "spambase_prop_0.sort_values(ascending=False)"
   ]
  },
  {
   "cell_type": "code",
   "execution_count": 35,
   "metadata": {
    "scrolled": true
   },
   "outputs": [
    {
     "data": {
      "text/plain": [
       "word_freq_cs                  71.400000\n",
       "word_freq_meeting             31.733333\n",
       "word_freq_lab                 30.382979\n",
       "word_freq_george              26.039062\n",
       "word_freq_project             17.241379\n",
       "word_freq_conference          12.987013\n",
       "word_freq_85                  10.471204\n",
       "word_freq_857                 10.127660\n",
       "word_freq_hpl                  9.412429\n",
       "word_freq_telnet               9.191176\n",
       "word_freq_data                 8.575472\n",
       "word_freq_edu                  8.076923\n",
       "word_freq_pm                   5.909574\n",
       "word_freq_hp                   5.818436\n",
       "word_freq_parts                5.339744\n",
       "word_freq_technology           4.746914\n",
       "word_freq_table                4.717391\n",
       "char_freq_!                    4.141017\n",
       "word_freq_original             4.011236\n",
       "char_freq_;                    3.925694\n",
       "word_freq_re                   3.859459\n",
       "word_freq_415                  3.525926\n",
       "char_freq_[                    3.485056\n",
       "word_freq_address              3.000000\n",
       "word_freq_mail                 2.407947\n",
       "word_freq_over                 2.314961\n",
       "word_freq_direct               2.144144\n",
       "word_freq_report               2.100840\n",
       "word_freq_labs                 1.739645\n",
       "word_freq_order                1.579580\n",
       "word_freq_will                 1.547200\n",
       "word_freq_you                  1.500000\n",
       "word_freq_all                  1.378378\n",
       "word_freq_1999                 1.364356\n",
       "word_freq_our                  1.300390\n",
       "word_freq_free                 1.200480\n",
       "word_freq_people               1.000000\n",
       "word_freq_your                 0.963996\n",
       "word_freq_make                 0.955947\n",
       "word_freq_email                0.845985\n",
       "word_freq_money                0.780000\n",
       "word_freq_receive              0.766284\n",
       "word_freq_font                 0.667836\n",
       "word_freq_650                  0.646865\n",
       "char_freq_(                    0.541120\n",
       "word_freq_internet             0.529253\n",
       "word_freq_addresses            0.507937\n",
       "word_freq_business             0.500000\n",
       "word_freq_remove               0.422283\n",
       "word_freq_000                  0.388991\n",
       "char_freq_#                    0.373544\n",
       "capital_run_length_total       0.372577\n",
       "char_freq_$                    0.339497\n",
       "capital_run_length_average     0.227664\n",
       "capital_run_length_longest     0.148964\n",
       "word_freq_credit               0.148515\n",
       "word_freq_3d                   0.020322\n",
       "spam                           0.000000\n",
       "dtype: float64"
      ]
     },
     "execution_count": 35,
     "metadata": {},
     "output_type": "execute_result"
    }
   ],
   "source": [
    "spambase_maxprop_0 = spambase_0.max()/spambase_1.max()\n",
    "spambase_maxprop_0.sort_values(ascending=False)"
   ]
  },
  {
   "cell_type": "code",
   "execution_count": null,
   "metadata": {},
   "outputs": [],
   "source": []
  },
  {
   "cell_type": "markdown",
   "metadata": {},
   "source": [
    "    What the previous outputs show is that the emails identified as spam contain certain words and characters more often than in the other emalls. Like '3d' which is 185 times more frequent in spam emails than in non-spam (on average). We wanted to identify those to get a glimpse of a relationship between some words/features and the nature of the emails. \n",
    "    \n",
    "    Now let's show this with some graphs. "
   ]
  },
  {
   "cell_type": "code",
   "execution_count": 36,
   "metadata": {},
   "outputs": [
    {
     "data": {
      "image/png": "[encoded data removed]",
      "text/plain": [
       "<Figure size 1080x864 with 1 Axes>"
      ]
     },
     "metadata": {
      "needs_background": "light"
     },
     "output_type": "display_data"
    }
   ],
   "source": [
    "spambase_prop_1.sort_values(ascending=True).plot(kind='barh',figsize=(15,12))\n",
    "plt.grid(axis='x')\n",
    "plt.xlabel(\"X times more frequent in spam\", fontsize=14)\n",
    "plt.xticks(np.arange(min(spambase_prop_0), 200,10))\n",
    "plt.title('Most frequent words and characters on average in spam emails vs non-spam emails',fontsize=17)\n",
    "plt.show()"
   ]
  },
  {
   "cell_type": "code",
   "execution_count": 37,
   "metadata": {},
   "outputs": [
    {
     "data": {
      "image/png": "[encoded data removed]",
      "text/plain": [
       "<Figure size 1080x864 with 1 Axes>"
      ]
     },
     "metadata": {
      "needs_background": "light"
     },
     "output_type": "display_data"
    }
   ],
   "source": [
    "# same graph as above for the non-spam emails. Looks similar but for different words. \n",
    "\n",
    "spambase_prop_0.sort_values(ascending=True).plot(kind='barh',figsize=(15,12))\n",
    "plt.xlabel(\"X times more frequent in non-spam\", fontsize=14)\n",
    "plt.title('Most frequent words and characters on average in non-spam emails vs spam emails',fontsize=17)\n",
    "plt.xticks(np.arange(min(spambase_prop_0),max(spambase_prop_0),50))\n",
    "plt.grid(axis='x')\n",
    "plt.show()"
   ]
  },
  {
   "cell_type": "code",
   "execution_count": null,
   "metadata": {},
   "outputs": [],
   "source": []
  },
  {
   "cell_type": "markdown",
   "metadata": {},
   "source": [
    "#### Just for the most frequent word in each class, can we see how present they are?"
   ]
  },
  {
   "cell_type": "code",
   "execution_count": 38,
   "metadata": {},
   "outputs": [
    {
     "data": {
      "image/png": "[encoded data removed]",
      "text/plain": [
       "<Figure size 1080x504 with 1 Axes>"
      ]
     },
     "metadata": {
      "needs_background": "light"
     },
     "output_type": "display_data"
    }
   ],
   "source": [
    "# '3d' is the most frequent word in spam emails\n",
    "# Here we see its repartition in each class. It is barely present in non-spam emails. \n",
    "spambase.groupby('spam').word_freq_3d.plot(figsize=(15,7))\n",
    "labels = ['not spam','spam']\n",
    "plt.legend(labels)\n",
    "plt.xlabel('Emails (by their id number)', fontsize=14)\n",
    "plt.ylabel('Frequency', fontsize=14)\n",
    "plt.title(\"Presence of '3d' in each class\", fontsize=17)\n",
    "plt.show()"
   ]
  },
  {
   "cell_type": "code",
   "execution_count": 39,
   "metadata": {},
   "outputs": [
    {
     "data": {
      "image/png": "[encoded data removed]",
      "text/plain": [
       "<Figure size 1080x504 with 1 Axes>"
      ]
     },
     "metadata": {
      "needs_background": "light"
     },
     "output_type": "display_data"
    }
   ],
   "source": [
    "# 'cs' is the most frequent word in non-spam emails\n",
    "# This is its repartition in each class. It's almost absent from spam emails. \n",
    "spambase.groupby('spam').word_freq_cs.plot(figsize=(15,7))\n",
    "labels = ['not spam','spam']\n",
    "plt.legend(labels)\n",
    "plt.xlabel('Emails (by their id number)', fontsize=14)\n",
    "plt.ylabel('Frequency', fontsize=14)\n",
    "plt.title(\"Presence of 'cs' in each class\", fontsize=17)\n",
    "plt.show()"
   ]
  },
  {
   "cell_type": "code",
   "execution_count": null,
   "metadata": {},
   "outputs": [],
   "source": []
  },
  {
   "cell_type": "markdown",
   "metadata": {},
   "source": [
    "### Now we have a clearer sense of which features have a bigger impact on the nature of the emails. We will use that information later to simplify our models. But for now, let's focus on building prediction models for our data using all the features. "
   ]
  },
  {
   "cell_type": "code",
   "execution_count": null,
   "metadata": {},
   "outputs": [],
   "source": []
  },
  {
   "cell_type": "markdown",
   "metadata": {},
   "source": [
    "## Models for spam prediction"
   ]
  },
  {
   "cell_type": "markdown",
   "metadata": {},
   "source": [
    "#### We first create a dataframe that we'll use to record the balanced accuracy of our models both after the cross-validation and with the test data. We chose balanced accuracy as a metric because it takes into account the imbalance of the dataset.\n",
    "\n",
    "#### We chose four models to work with: Random Forest, K-Nearest Neighbors, Gaussain Naive Bayes and K-Means. "
   ]
  },
  {
   "cell_type": "code",
   "execution_count": 40,
   "metadata": {},
   "outputs": [],
   "source": [
    "models_dict = {'RandomForest':[0.0,0.0],'KNeighbors':[0.0,0.0],'GaussianNB':[0.0,0.0], 'KMeans':[0.0,0.0]}\n",
    "models_accs = ['CV_Bal_Accuracy','Test_Bal_Accuracy']"
   ]
  },
  {
   "cell_type": "code",
   "execution_count": 41,
   "metadata": {},
   "outputs": [
    {
     "data": {
      "text/html": [
       "<div>\n",
       "<style scoped>\n",
       "    .dataframe tbody tr th:only-of-type {\n",
       "        vertical-align: middle;\n",
       "    }\n",
       "\n",
       "    .dataframe tbody tr th {\n",
       "        vertical-align: top;\n",
       "    }\n",
       "\n",
       "    .dataframe thead th {\n",
       "        text-align: right;\n",
       "    }\n",
       "</style>\n",
       "<table border=\"1\" class=\"dataframe\">\n",
       "  <thead>\n",
       "    <tr style=\"text-align: right;\">\n",
       "      <th></th>\n",
       "      <th>RandomForest</th>\n",
       "      <th>KNeighbors</th>\n",
       "      <th>GaussianNB</th>\n",
       "      <th>KMeans</th>\n",
       "    </tr>\n",
       "  </thead>\n",
       "  <tbody>\n",
       "    <tr>\n",
       "      <th>CV_Bal_Accuracy</th>\n",
       "      <td>0.0</td>\n",
       "      <td>0.0</td>\n",
       "      <td>0.0</td>\n",
       "      <td>0.0</td>\n",
       "    </tr>\n",
       "    <tr>\n",
       "      <th>Test_Bal_Accuracy</th>\n",
       "      <td>0.0</td>\n",
       "      <td>0.0</td>\n",
       "      <td>0.0</td>\n",
       "      <td>0.0</td>\n",
       "    </tr>\n",
       "  </tbody>\n",
       "</table>\n",
       "</div>"
      ],
      "text/plain": [
       "                   RandomForest  KNeighbors  GaussianNB  KMeans\n",
       "CV_Bal_Accuracy             0.0         0.0         0.0     0.0\n",
       "Test_Bal_Accuracy           0.0         0.0         0.0     0.0"
      ]
     },
     "execution_count": 41,
     "metadata": {},
     "output_type": "execute_result"
    }
   ],
   "source": [
    "models_df = pd.DataFrame(data=models_dict, index=models_accs)\n",
    "models_df"
   ]
  },
  {
   "cell_type": "code",
   "execution_count": null,
   "metadata": {},
   "outputs": [],
   "source": []
  },
  {
   "cell_type": "code",
   "execution_count": 42,
   "metadata": {},
   "outputs": [],
   "source": [
    "# Let's import all we need for our models (Random Forest, Naive Bayes, K-Nearest Neighbors, K-means): \n",
    "# the classifiers and the tools to split the data, use cross-validation, and evaluate the final performance \n",
    "from sklearn.ensemble import RandomForestClassifier\n",
    "from sklearn.naive_bayes import GaussianNB\n",
    "from sklearn.neighbors import KNeighborsClassifier\n",
    "from sklearn.cluster import KMeans\n",
    "from sklearn.model_selection import train_test_split\n",
    "from sklearn.model_selection import cross_val_score\n",
    "from sklearn.metrics import balanced_accuracy_score"
   ]
  },
  {
   "cell_type": "markdown",
   "metadata": {},
   "source": [
    "#### Split the data for training and testing "
   ]
  },
  {
   "cell_type": "code",
   "execution_count": 43,
   "metadata": {},
   "outputs": [],
   "source": [
    "# Define the target and the features separately\n",
    "y = spambase.spam\n",
    "X = spambase[spambase.columns.difference(['spam'])]  # excludes the column target 'spam'"
   ]
  },
  {
   "cell_type": "markdown",
   "metadata": {},
   "source": [
    "###### We use 'stratify' to make  sure we maintain the relative proportions of our classes in the training and test sets, as our data is imbalanced. \n",
    "###### For the same reason, we use the balanced accuracy as a scoring method instead of the accuracy. "
   ]
  },
  {
   "cell_type": "code",
   "execution_count": 44,
   "metadata": {
    "scrolled": true
   },
   "outputs": [
    {
     "name": "stdout",
     "output_type": "stream",
     "text": [
      "(3680, 57) (921, 57) (3680,) (921,)\n"
     ]
    }
   ],
   "source": [
    "Xtrain, Xtest, ytrain, ytest = train_test_split(X,y,random_state=1, test_size=0.2, stratify=y)\n",
    "print(Xtrain.shape, Xtest.shape, ytrain.shape, ytest.shape)"
   ]
  },
  {
   "cell_type": "markdown",
   "metadata": {},
   "source": [
    "### Random Forest "
   ]
  },
  {
   "cell_type": "code",
   "execution_count": 45,
   "metadata": {},
   "outputs": [],
   "source": [
    "def bal_acc_RF(n_estimators):\n",
    "    \"\"\"Returns the average balanced accuracy over 5 folds of a random forest model. \n",
    "    n_estimators: number of trees used in the forest \n",
    "    \"\"\"\n",
    "    model = RandomForestClassifier(n_estimators=n_estimators)  # nb of trees as argument \n",
    "    b_acc = cross_val_score(model, Xtrain, ytrain, scoring='balanced_accuracy').mean()\n",
    "    return b_acc"
   ]
  },
  {
   "cell_type": "code",
   "execution_count": 46,
   "metadata": {},
   "outputs": [
    {
     "name": "stdout",
     "output_type": "stream",
     "text": [
      "{50: 0.9474779650533478, 150: 0.9463738982526675, 250: 0.9461326735735269, 350: 0.9472877686717179, 450: 0.9486670790165457, 550: 0.9491155095098189, 650: 0.948529457244472, 750: 0.9464945105922375, 850: 0.9479604144116284, 950: 0.9471671563321479}\n"
     ]
    }
   ],
   "source": [
    "# Let's determine the balanced accuracy for several values of n_estimators to find the best\n",
    "keys_RF = [i for i in range(50,1000,100)]     # values for n_estimators (nb of tress)\n",
    "values_RF = [bal_acc_RF(x) for x in keys_RF]  # values of balanced accuracy for each n_estimators\n",
    "baccs_RF = dict(zip(keys_RF, values_RF))\n",
    "print(baccs_RF)"
   ]
  },
  {
   "cell_type": "code",
   "execution_count": 47,
   "metadata": {},
   "outputs": [
    {
     "name": "stdout",
     "output_type": "stream",
     "text": [
      "550 0.9491155095098189\n"
     ]
    },
    {
     "data": {
      "text/html": [
       "<div>\n",
       "<style scoped>\n",
       "    .dataframe tbody tr th:only-of-type {\n",
       "        vertical-align: middle;\n",
       "    }\n",
       "\n",
       "    .dataframe tbody tr th {\n",
       "        vertical-align: top;\n",
       "    }\n",
       "\n",
       "    .dataframe thead th {\n",
       "        text-align: right;\n",
       "    }\n",
       "</style>\n",
       "<table border=\"1\" class=\"dataframe\">\n",
       "  <thead>\n",
       "    <tr style=\"text-align: right;\">\n",
       "      <th></th>\n",
       "      <th>RandomForest</th>\n",
       "      <th>KNeighbors</th>\n",
       "      <th>GaussianNB</th>\n",
       "      <th>KMeans</th>\n",
       "    </tr>\n",
       "  </thead>\n",
       "  <tbody>\n",
       "    <tr>\n",
       "      <th>CV_Bal_Accuracy</th>\n",
       "      <td>0.949116</td>\n",
       "      <td>0.0</td>\n",
       "      <td>0.0</td>\n",
       "      <td>0.0</td>\n",
       "    </tr>\n",
       "    <tr>\n",
       "      <th>Test_Bal_Accuracy</th>\n",
       "      <td>0.000000</td>\n",
       "      <td>0.0</td>\n",
       "      <td>0.0</td>\n",
       "      <td>0.0</td>\n",
       "    </tr>\n",
       "  </tbody>\n",
       "</table>\n",
       "</div>"
      ],
      "text/plain": [
       "                   RandomForest  KNeighbors  GaussianNB  KMeans\n",
       "CV_Bal_Accuracy        0.949116         0.0         0.0     0.0\n",
       "Test_Bal_Accuracy      0.000000         0.0         0.0     0.0"
      ]
     },
     "execution_count": 47,
     "metadata": {},
     "output_type": "execute_result"
    }
   ],
   "source": [
    "# let's store the best balanced accuracy in our dataframe\n",
    "best_acc_RF = max(values_RF)\n",
    "best_acc_RF_tree_nb = max(baccs_RF, key=baccs_RF.get)  # the nb of trees giving the best performance\n",
    "models_df.at['CV_Bal_Accuracy','RandomForest'] = best_acc_RF\n",
    "print(best_acc_RF_tree_nb, best_acc_RF)\n",
    "models_df"
   ]
  },
  {
   "cell_type": "code",
   "execution_count": 48,
   "metadata": {
    "scrolled": false
   },
   "outputs": [
    {
     "data": {
      "image/png": "[encoded data removed]",
      "text/plain": [
       "<Figure size 1080x720 with 1 Axes>"
      ]
     },
     "metadata": {
      "needs_background": "light"
     },
     "output_type": "display_data"
    }
   ],
   "source": [
    "# let's plot the balanced accuracy for different numbers of trees in our random forest model\n",
    "plt.figure(figsize=(15,10))\n",
    "plt.plot(list(keys_RF), list(values_RF))\n",
    "plt.xlabel(\"Number of trees\",fontsize=14)\n",
    "plt.ylabel(\"Balanced accuracy at training\",fontsize=14)\n",
    "plt.title(\"Balanced accuracy depending on the number of trees\",fontsize=17)\n",
    "plt.xticks(keys_RF) \n",
    "    # xticks allows us to see ticks for all the values of our independant variable\n",
    "    # it is used by grid to diplay the grid lines\n",
    "plt.grid(axis='x')"
   ]
  },
  {
   "cell_type": "markdown",
   "metadata": {},
   "source": [
    "#### The graph allows us to clearly see where we have the best (highest) balanced accuracy. Let's now use the best hyperparameter n_estimators in our random forest model.\n",
    "Also, notice that the actual performance (y-axis) varies little between all the values of n_estimators, even though the graph seems to show big variations. "
   ]
  },
  {
   "cell_type": "code",
   "execution_count": 49,
   "metadata": {},
   "outputs": [
    {
     "data": {
      "text/plain": [
       "RandomForestClassifier(n_estimators=550, random_state=1)"
      ]
     },
     "execution_count": 49,
     "metadata": {},
     "output_type": "execute_result"
    }
   ],
   "source": [
    "model_RF = RandomForestClassifier(n_estimators=best_acc_RF_tree_nb, random_state=1) \n",
    "    # we just define the number of trees used and use random_state for reproducibility \n",
    "model_RF.fit(Xtrain,ytrain)"
   ]
  },
  {
   "cell_type": "code",
   "execution_count": 50,
   "metadata": {
    "scrolled": false
   },
   "outputs": [
    {
     "data": {
      "text/plain": [
       "0.9463738982526675"
      ]
     },
     "execution_count": 50,
     "metadata": {},
     "output_type": "execute_result"
    }
   ],
   "source": [
    "cross_val_score(model_RF, Xtrain, ytrain, cv=5, scoring='balanced_accuracy').mean()"
   ]
  },
  {
   "cell_type": "code",
   "execution_count": 51,
   "metadata": {},
   "outputs": [
    {
     "data": {
      "text/plain": [
       "0.9461328830830298"
      ]
     },
     "execution_count": 51,
     "metadata": {},
     "output_type": "execute_result"
    }
   ],
   "source": [
    "acc_test_rf = balanced_accuracy_score(ytest, model_RF.predict(Xtest))\n",
    "acc_test_rf"
   ]
  },
  {
   "cell_type": "code",
   "execution_count": 52,
   "metadata": {},
   "outputs": [
    {
     "data": {
      "text/html": [
       "<div>\n",
       "<style scoped>\n",
       "    .dataframe tbody tr th:only-of-type {\n",
       "        vertical-align: middle;\n",
       "    }\n",
       "\n",
       "    .dataframe tbody tr th {\n",
       "        vertical-align: top;\n",
       "    }\n",
       "\n",
       "    .dataframe thead th {\n",
       "        text-align: right;\n",
       "    }\n",
       "</style>\n",
       "<table border=\"1\" class=\"dataframe\">\n",
       "  <thead>\n",
       "    <tr style=\"text-align: right;\">\n",
       "      <th></th>\n",
       "      <th>RandomForest</th>\n",
       "      <th>KNeighbors</th>\n",
       "      <th>GaussianNB</th>\n",
       "      <th>KMeans</th>\n",
       "    </tr>\n",
       "  </thead>\n",
       "  <tbody>\n",
       "    <tr>\n",
       "      <th>CV_Bal_Accuracy</th>\n",
       "      <td>0.949116</td>\n",
       "      <td>0.0</td>\n",
       "      <td>0.0</td>\n",
       "      <td>0.0</td>\n",
       "    </tr>\n",
       "    <tr>\n",
       "      <th>Test_Bal_Accuracy</th>\n",
       "      <td>0.946133</td>\n",
       "      <td>0.0</td>\n",
       "      <td>0.0</td>\n",
       "      <td>0.0</td>\n",
       "    </tr>\n",
       "  </tbody>\n",
       "</table>\n",
       "</div>"
      ],
      "text/plain": [
       "                   RandomForest  KNeighbors  GaussianNB  KMeans\n",
       "CV_Bal_Accuracy        0.949116         0.0         0.0     0.0\n",
       "Test_Bal_Accuracy      0.946133         0.0         0.0     0.0"
      ]
     },
     "execution_count": 52,
     "metadata": {},
     "output_type": "execute_result"
    }
   ],
   "source": [
    "# store final accuracy in dataframe \n",
    "models_df.at['Test_Bal_Accuracy','RandomForest'] = acc_test_rf\n",
    "models_df"
   ]
  },
  {
   "cell_type": "markdown",
   "metadata": {},
   "source": [
    "### K-Nearest Neighbors"
   ]
  },
  {
   "cell_type": "code",
   "execution_count": 53,
   "metadata": {},
   "outputs": [],
   "source": [
    "def bal_acc_knn(k_neighbors):\n",
    "    \"\"\"Returns average balanced accuracy over 5 folds of a k-nearest neighbors model.\n",
    "    k_neighbors: number of neighbors to find to choose a point\n",
    "    \"\"\"\n",
    "    model = KNeighborsClassifier(n_neighbors=k_neighbors)\n",
    "    b_acc = cross_val_score(model, Xtrain, ytrain, scoring='balanced_accuracy').mean()\n",
    "    return b_acc"
   ]
  },
  {
   "cell_type": "code",
   "execution_count": 54,
   "metadata": {},
   "outputs": [
    {
     "name": "stdout",
     "output_type": "stream",
     "text": [
      "{1: 0.7946791402505026, 2: 0.7526581104066801, 3: 0.7863182310190197, 4: 0.7584304932735426, 5: 0.780714396165146, 6: 0.7620488634606463, 7: 0.7782140095871346, 8: 0.7582372042678213, 9: 0.7718169166537807, 10: 0.7597881552497293}\n"
     ]
    }
   ],
   "source": [
    "# Determine balanced accuracy for several values of k\n",
    "keys_knn = [i for i in range(1,11)]               # k values \n",
    "values_knn = [bal_acc_knn(x) for x in keys_knn]   # balanced accuracy  \n",
    "baccs_knn = dict(zip(keys_knn,values_knn))\n",
    "print(baccs_knn)"
   ]
  },
  {
   "cell_type": "code",
   "execution_count": 55,
   "metadata": {},
   "outputs": [
    {
     "name": "stdout",
     "output_type": "stream",
     "text": [
      "1 0.7946791402505026\n"
     ]
    },
    {
     "data": {
      "text/html": [
       "<div>\n",
       "<style scoped>\n",
       "    .dataframe tbody tr th:only-of-type {\n",
       "        vertical-align: middle;\n",
       "    }\n",
       "\n",
       "    .dataframe tbody tr th {\n",
       "        vertical-align: top;\n",
       "    }\n",
       "\n",
       "    .dataframe thead th {\n",
       "        text-align: right;\n",
       "    }\n",
       "</style>\n",
       "<table border=\"1\" class=\"dataframe\">\n",
       "  <thead>\n",
       "    <tr style=\"text-align: right;\">\n",
       "      <th></th>\n",
       "      <th>RandomForest</th>\n",
       "      <th>KNeighbors</th>\n",
       "      <th>GaussianNB</th>\n",
       "      <th>KMeans</th>\n",
       "    </tr>\n",
       "  </thead>\n",
       "  <tbody>\n",
       "    <tr>\n",
       "      <th>CV_Bal_Accuracy</th>\n",
       "      <td>0.949116</td>\n",
       "      <td>0.794679</td>\n",
       "      <td>0.0</td>\n",
       "      <td>0.0</td>\n",
       "    </tr>\n",
       "    <tr>\n",
       "      <th>Test_Bal_Accuracy</th>\n",
       "      <td>0.946133</td>\n",
       "      <td>0.000000</td>\n",
       "      <td>0.0</td>\n",
       "      <td>0.0</td>\n",
       "    </tr>\n",
       "  </tbody>\n",
       "</table>\n",
       "</div>"
      ],
      "text/plain": [
       "                   RandomForest  KNeighbors  GaussianNB  KMeans\n",
       "CV_Bal_Accuracy        0.949116    0.794679         0.0     0.0\n",
       "Test_Bal_Accuracy      0.946133    0.000000         0.0     0.0"
      ]
     },
     "execution_count": 55,
     "metadata": {},
     "output_type": "execute_result"
    }
   ],
   "source": [
    "# store best accuracy in dataframe\n",
    "models_df.at['CV_Bal_Accuracy','KNeighbors'] = max(values_knn)\n",
    "best_acc_kneighbors = max(baccs_knn, key=baccs_knn.get)\n",
    "print(best_acc_kneighbors, max(values_knn))\n",
    "models_df"
   ]
  },
  {
   "cell_type": "code",
   "execution_count": 56,
   "metadata": {},
   "outputs": [
    {
     "data": {
      "image/png": "[encoded data removed]",
      "text/plain": [
       "<Figure size 1080x720 with 1 Axes>"
      ]
     },
     "metadata": {
      "needs_background": "light"
     },
     "output_type": "display_data"
    }
   ],
   "source": [
    "# let's visualise the balanced accuracy of our knn model on the training data depending on the value of n_neighbors\n",
    "plt.figure(figsize=(15,10))\n",
    "plt.plot(list(keys_knn), list(values_knn))\n",
    "plt.xlabel(\"Number of neighbors\",fontsize=14)\n",
    "plt.ylabel(\"Balanced accuracy at training\",fontsize=14)\n",
    "plt.title(\"Balanced accuracy depending on the number of neighbors\",fontsize=17)\n",
    "plt.xticks(keys_knn)\n",
    "plt.grid(axis='x')\n",
    "plt.show()"
   ]
  },
  {
   "cell_type": "markdown",
   "metadata": {},
   "source": [
    "#### The graphs show us that using 1 neighbor in the KNN algorithm gives the best balanced accuracy. Let's use this value in our KNN model. "
   ]
  },
  {
   "cell_type": "code",
   "execution_count": 57,
   "metadata": {},
   "outputs": [
    {
     "data": {
      "text/plain": [
       "KNeighborsClassifier(n_neighbors=1)"
      ]
     },
     "execution_count": 57,
     "metadata": {},
     "output_type": "execute_result"
    }
   ],
   "source": [
    "model_KNN = KNeighborsClassifier(n_neighbors=best_acc_kneighbors)  # we just define the number of neighbors to use\n",
    "model_KNN.fit(Xtrain,ytrain)"
   ]
  },
  {
   "cell_type": "code",
   "execution_count": 58,
   "metadata": {},
   "outputs": [
    {
     "data": {
      "text/plain": [
       "0.7946791402505026"
      ]
     },
     "execution_count": 58,
     "metadata": {},
     "output_type": "execute_result"
    }
   ],
   "source": [
    "cross_val_score(model_KNN, Xtrain, ytrain, scoring='balanced_accuracy').mean() # we keep the default cv=5"
   ]
  },
  {
   "cell_type": "code",
   "execution_count": 59,
   "metadata": {},
   "outputs": [
    {
     "data": {
      "text/plain": [
       "0.8068218845344945"
      ]
     },
     "execution_count": 59,
     "metadata": {},
     "output_type": "execute_result"
    }
   ],
   "source": [
    "balanced_accuracy_score(ytest, model_KNN.predict(Xtest))"
   ]
  },
  {
   "cell_type": "code",
   "execution_count": 60,
   "metadata": {},
   "outputs": [
    {
     "data": {
      "text/html": [
       "<div>\n",
       "<style scoped>\n",
       "    .dataframe tbody tr th:only-of-type {\n",
       "        vertical-align: middle;\n",
       "    }\n",
       "\n",
       "    .dataframe tbody tr th {\n",
       "        vertical-align: top;\n",
       "    }\n",
       "\n",
       "    .dataframe thead th {\n",
       "        text-align: right;\n",
       "    }\n",
       "</style>\n",
       "<table border=\"1\" class=\"dataframe\">\n",
       "  <thead>\n",
       "    <tr style=\"text-align: right;\">\n",
       "      <th></th>\n",
       "      <th>RandomForest</th>\n",
       "      <th>KNeighbors</th>\n",
       "      <th>GaussianNB</th>\n",
       "      <th>KMeans</th>\n",
       "    </tr>\n",
       "  </thead>\n",
       "  <tbody>\n",
       "    <tr>\n",
       "      <th>CV_Bal_Accuracy</th>\n",
       "      <td>0.949116</td>\n",
       "      <td>0.794679</td>\n",
       "      <td>0.0</td>\n",
       "      <td>0.0</td>\n",
       "    </tr>\n",
       "    <tr>\n",
       "      <th>Test_Bal_Accuracy</th>\n",
       "      <td>0.946133</td>\n",
       "      <td>0.806822</td>\n",
       "      <td>0.0</td>\n",
       "      <td>0.0</td>\n",
       "    </tr>\n",
       "  </tbody>\n",
       "</table>\n",
       "</div>"
      ],
      "text/plain": [
       "                   RandomForest  KNeighbors  GaussianNB  KMeans\n",
       "CV_Bal_Accuracy        0.949116    0.794679         0.0     0.0\n",
       "Test_Bal_Accuracy      0.946133    0.806822         0.0     0.0"
      ]
     },
     "execution_count": 60,
     "metadata": {},
     "output_type": "execute_result"
    }
   ],
   "source": [
    "models_df.at['Test_Bal_Accuracy','KNeighbors'] = balanced_accuracy_score(ytest, model_KNN.predict(Xtest))\n",
    "models_df"
   ]
  },
  {
   "cell_type": "markdown",
   "metadata": {},
   "source": [
    "### Gaussian Naive Bayes"
   ]
  },
  {
   "cell_type": "code",
   "execution_count": 61,
   "metadata": {},
   "outputs": [
    {
     "data": {
      "text/plain": [
       "GaussianNB()"
      ]
     },
     "execution_count": 61,
     "metadata": {},
     "output_type": "execute_result"
    }
   ],
   "source": [
    "model_GNB = GaussianNB()\n",
    "model_GNB.fit(Xtrain, ytrain)"
   ]
  },
  {
   "cell_type": "code",
   "execution_count": 62,
   "metadata": {},
   "outputs": [
    {
     "data": {
      "text/plain": [
       "0.8437467140869028"
      ]
     },
     "execution_count": 62,
     "metadata": {},
     "output_type": "execute_result"
    }
   ],
   "source": [
    "acc_cv_gnn = cross_val_score(model_GNB, Xtrain, ytrain, scoring='balanced_accuracy').mean()\n",
    "acc_cv_gnn"
   ]
  },
  {
   "cell_type": "code",
   "execution_count": 63,
   "metadata": {},
   "outputs": [
    {
     "data": {
      "text/plain": [
       "0.8429381794484434"
      ]
     },
     "execution_count": 63,
     "metadata": {},
     "output_type": "execute_result"
    }
   ],
   "source": [
    "acc_test_gnn = balanced_accuracy_score(ytest, model_GNB.predict(Xtest))\n",
    "acc_test_gnn"
   ]
  },
  {
   "cell_type": "code",
   "execution_count": 64,
   "metadata": {},
   "outputs": [
    {
     "data": {
      "text/html": [
       "<div>\n",
       "<style scoped>\n",
       "    .dataframe tbody tr th:only-of-type {\n",
       "        vertical-align: middle;\n",
       "    }\n",
       "\n",
       "    .dataframe tbody tr th {\n",
       "        vertical-align: top;\n",
       "    }\n",
       "\n",
       "    .dataframe thead th {\n",
       "        text-align: right;\n",
       "    }\n",
       "</style>\n",
       "<table border=\"1\" class=\"dataframe\">\n",
       "  <thead>\n",
       "    <tr style=\"text-align: right;\">\n",
       "      <th></th>\n",
       "      <th>RandomForest</th>\n",
       "      <th>KNeighbors</th>\n",
       "      <th>GaussianNB</th>\n",
       "      <th>KMeans</th>\n",
       "    </tr>\n",
       "  </thead>\n",
       "  <tbody>\n",
       "    <tr>\n",
       "      <th>CV_Bal_Accuracy</th>\n",
       "      <td>0.949116</td>\n",
       "      <td>0.794679</td>\n",
       "      <td>0.843747</td>\n",
       "      <td>0.0</td>\n",
       "    </tr>\n",
       "    <tr>\n",
       "      <th>Test_Bal_Accuracy</th>\n",
       "      <td>0.946133</td>\n",
       "      <td>0.806822</td>\n",
       "      <td>0.842938</td>\n",
       "      <td>0.0</td>\n",
       "    </tr>\n",
       "  </tbody>\n",
       "</table>\n",
       "</div>"
      ],
      "text/plain": [
       "                   RandomForest  KNeighbors  GaussianNB  KMeans\n",
       "CV_Bal_Accuracy        0.949116    0.794679    0.843747     0.0\n",
       "Test_Bal_Accuracy      0.946133    0.806822    0.842938     0.0"
      ]
     },
     "execution_count": 64,
     "metadata": {},
     "output_type": "execute_result"
    }
   ],
   "source": [
    "models_df['GaussianNB'] = [acc_cv_gnn,acc_test_gnn]\n",
    "models_df"
   ]
  },
  {
   "cell_type": "markdown",
   "metadata": {},
   "source": [
    "#### The input data for our Naive Bayes model is expected to have a Gaussian distribution. Let's standardize the input data and see how the model performs."
   ]
  },
  {
   "cell_type": "code",
   "execution_count": 65,
   "metadata": {},
   "outputs": [],
   "source": [
    "from sklearn.preprocessing import StandardScaler\n",
    "scaler = StandardScaler()"
   ]
  },
  {
   "cell_type": "code",
   "execution_count": 66,
   "metadata": {},
   "outputs": [
    {
     "data": {
      "text/plain": [
       "GaussianNB()"
      ]
     },
     "execution_count": 66,
     "metadata": {},
     "output_type": "execute_result"
    }
   ],
   "source": [
    "model_GNB_St = GaussianNB()\n",
    "model_GNB_St.fit(scaler.fit_transform(Xtrain), ytrain)"
   ]
  },
  {
   "cell_type": "code",
   "execution_count": 67,
   "metadata": {},
   "outputs": [
    {
     "data": {
      "text/plain": [
       "0.8406942941085511"
      ]
     },
     "execution_count": 67,
     "metadata": {},
     "output_type": "execute_result"
    }
   ],
   "source": [
    "acc_cv_gnnst = cross_val_score(model_GNB_St, scaler.fit_transform(Xtrain), ytrain, scoring='balanced_accuracy').mean()\n",
    "acc_cv_gnnst"
   ]
  },
  {
   "cell_type": "code",
   "execution_count": 68,
   "metadata": {},
   "outputs": [
    {
     "data": {
      "text/plain": [
       "0.8383245949228354"
      ]
     },
     "execution_count": 68,
     "metadata": {},
     "output_type": "execute_result"
    }
   ],
   "source": [
    "acc_test_gnnst = balanced_accuracy_score(ytest, model_GNB_St.predict(scaler.fit_transform(Xtest)))\n",
    "acc_test_gnnst"
   ]
  },
  {
   "cell_type": "code",
   "execution_count": 69,
   "metadata": {},
   "outputs": [
    {
     "data": {
      "text/html": [
       "<div>\n",
       "<style scoped>\n",
       "    .dataframe tbody tr th:only-of-type {\n",
       "        vertical-align: middle;\n",
       "    }\n",
       "\n",
       "    .dataframe tbody tr th {\n",
       "        vertical-align: top;\n",
       "    }\n",
       "\n",
       "    .dataframe thead th {\n",
       "        text-align: right;\n",
       "    }\n",
       "</style>\n",
       "<table border=\"1\" class=\"dataframe\">\n",
       "  <thead>\n",
       "    <tr style=\"text-align: right;\">\n",
       "      <th></th>\n",
       "      <th>RandomForest</th>\n",
       "      <th>KNeighbors</th>\n",
       "      <th>GaussianNB</th>\n",
       "      <th>KMeans</th>\n",
       "      <th>GaussianNB_St</th>\n",
       "    </tr>\n",
       "  </thead>\n",
       "  <tbody>\n",
       "    <tr>\n",
       "      <th>CV_Bal_Accuracy</th>\n",
       "      <td>0.949116</td>\n",
       "      <td>0.794679</td>\n",
       "      <td>0.843747</td>\n",
       "      <td>0.0</td>\n",
       "      <td>0.840694</td>\n",
       "    </tr>\n",
       "    <tr>\n",
       "      <th>Test_Bal_Accuracy</th>\n",
       "      <td>0.946133</td>\n",
       "      <td>0.806822</td>\n",
       "      <td>0.842938</td>\n",
       "      <td>0.0</td>\n",
       "      <td>0.838325</td>\n",
       "    </tr>\n",
       "  </tbody>\n",
       "</table>\n",
       "</div>"
      ],
      "text/plain": [
       "                   RandomForest  KNeighbors  GaussianNB  KMeans  GaussianNB_St\n",
       "CV_Bal_Accuracy        0.949116    0.794679    0.843747     0.0       0.840694\n",
       "Test_Bal_Accuracy      0.946133    0.806822    0.842938     0.0       0.838325"
      ]
     },
     "execution_count": 69,
     "metadata": {},
     "output_type": "execute_result"
    }
   ],
   "source": [
    "models_df['GaussianNB_St'] = [acc_cv_gnnst,acc_test_gnnst]\n",
    "models_df"
   ]
  },
  {
   "cell_type": "markdown",
   "metadata": {},
   "source": [
    "#### It appears that standardizing the input for our Gaussian Naive Bayes model doesn't change much the quality of the predictions. Let's just keep the first model using the original data."
   ]
  },
  {
   "cell_type": "markdown",
   "metadata": {},
   "source": [
    "### K-means clustering\n",
    "This model uses an algorithm of unsupervised learning. How well does it perform compared to the other models trained on data beforehand? "
   ]
  },
  {
   "cell_type": "code",
   "execution_count": 70,
   "metadata": {},
   "outputs": [
    {
     "data": {
      "text/plain": [
       "KMeans(n_clusters=2)"
      ]
     },
     "execution_count": 70,
     "metadata": {},
     "output_type": "execute_result"
    }
   ],
   "source": [
    "model_KM = KMeans(n_clusters=2)  # we just define the number of classes (spam, not spam)\n",
    "model_KM.fit(Xtrain)\n",
    "# As it is an unsupervised learning algorithm, we don't need the label (scikit-learn would actually ignore it anyway)"
   ]
  },
  {
   "cell_type": "code",
   "execution_count": 71,
   "metadata": {},
   "outputs": [
    {
     "data": {
      "text/plain": [
       "0.5433347298601608"
      ]
     },
     "execution_count": 71,
     "metadata": {},
     "output_type": "execute_result"
    }
   ],
   "source": [
    "# First evaluation of the performance. \n",
    "acc_cv_km = cross_val_score(model_KM, Xtrain, ytrain, scoring='balanced_accuracy').mean()\n",
    "acc_cv_km"
   ]
  },
  {
   "cell_type": "code",
   "execution_count": 72,
   "metadata": {},
   "outputs": [
    {
     "data": {
      "text/plain": [
       "0.5411075565034509"
      ]
     },
     "execution_count": 72,
     "metadata": {},
     "output_type": "execute_result"
    }
   ],
   "source": [
    "acc_test_km = balanced_accuracy_score(ytest, model_KM.predict(Xtest))\n",
    "acc_test_km"
   ]
  },
  {
   "cell_type": "code",
   "execution_count": 73,
   "metadata": {},
   "outputs": [
    {
     "data": {
      "text/html": [
       "<div>\n",
       "<style scoped>\n",
       "    .dataframe tbody tr th:only-of-type {\n",
       "        vertical-align: middle;\n",
       "    }\n",
       "\n",
       "    .dataframe tbody tr th {\n",
       "        vertical-align: top;\n",
       "    }\n",
       "\n",
       "    .dataframe thead th {\n",
       "        text-align: right;\n",
       "    }\n",
       "</style>\n",
       "<table border=\"1\" class=\"dataframe\">\n",
       "  <thead>\n",
       "    <tr style=\"text-align: right;\">\n",
       "      <th></th>\n",
       "      <th>RandomForest</th>\n",
       "      <th>KNeighbors</th>\n",
       "      <th>GaussianNB</th>\n",
       "      <th>KMeans</th>\n",
       "      <th>GaussianNB_St</th>\n",
       "    </tr>\n",
       "  </thead>\n",
       "  <tbody>\n",
       "    <tr>\n",
       "      <th>CV_Bal_Accuracy</th>\n",
       "      <td>0.949116</td>\n",
       "      <td>0.794679</td>\n",
       "      <td>0.843747</td>\n",
       "      <td>0.543335</td>\n",
       "      <td>0.840694</td>\n",
       "    </tr>\n",
       "    <tr>\n",
       "      <th>Test_Bal_Accuracy</th>\n",
       "      <td>0.946133</td>\n",
       "      <td>0.806822</td>\n",
       "      <td>0.842938</td>\n",
       "      <td>0.541108</td>\n",
       "      <td>0.838325</td>\n",
       "    </tr>\n",
       "  </tbody>\n",
       "</table>\n",
       "</div>"
      ],
      "text/plain": [
       "                   RandomForest  KNeighbors  GaussianNB    KMeans  \\\n",
       "CV_Bal_Accuracy        0.949116    0.794679    0.843747  0.543335   \n",
       "Test_Bal_Accuracy      0.946133    0.806822    0.842938  0.541108   \n",
       "\n",
       "                   GaussianNB_St  \n",
       "CV_Bal_Accuracy         0.840694  \n",
       "Test_Bal_Accuracy       0.838325  "
      ]
     },
     "execution_count": 73,
     "metadata": {},
     "output_type": "execute_result"
    }
   ],
   "source": [
    "models_df['KMeans'] = [acc_cv_km,acc_test_km]\n",
    "models_df"
   ]
  },
  {
   "cell_type": "code",
   "execution_count": 74,
   "metadata": {},
   "outputs": [
    {
     "data": {
      "image/png": "[encoded data removed]",
      "text/plain": [
       "<Figure size 864x576 with 1 Axes>"
      ]
     },
     "metadata": {
      "needs_background": "light"
     },
     "output_type": "display_data"
    }
   ],
   "source": [
    "# Visualize the performance of our models after cross-validation and after comparison with test data\n",
    "models_df.T.plot(kind='bar',figsize=(12,8), rot=20)\n",
    "plt.show()"
   ]
  },
  {
   "cell_type": "code",
   "execution_count": 75,
   "metadata": {},
   "outputs": [
    {
     "data": {
      "text/html": [
       "<div>\n",
       "<style scoped>\n",
       "    .dataframe tbody tr th:only-of-type {\n",
       "        vertical-align: middle;\n",
       "    }\n",
       "\n",
       "    .dataframe tbody tr th {\n",
       "        vertical-align: top;\n",
       "    }\n",
       "\n",
       "    .dataframe thead th {\n",
       "        text-align: right;\n",
       "    }\n",
       "</style>\n",
       "<table border=\"1\" class=\"dataframe\">\n",
       "  <thead>\n",
       "    <tr style=\"text-align: right;\">\n",
       "      <th></th>\n",
       "      <th>RandomForest</th>\n",
       "      <th>KNeighbors</th>\n",
       "      <th>GaussianNB</th>\n",
       "      <th>KMeans</th>\n",
       "      <th>GaussianNB_St</th>\n",
       "    </tr>\n",
       "  </thead>\n",
       "  <tbody>\n",
       "    <tr>\n",
       "      <th>CV_Bal_Accuracy</th>\n",
       "      <td>0.949116</td>\n",
       "      <td>0.794679</td>\n",
       "      <td>0.843747</td>\n",
       "      <td>0.543335</td>\n",
       "      <td>0.840694</td>\n",
       "    </tr>\n",
       "    <tr>\n",
       "      <th>Test_Bal_Accuracy</th>\n",
       "      <td>0.946133</td>\n",
       "      <td>0.806822</td>\n",
       "      <td>0.842938</td>\n",
       "      <td>0.541108</td>\n",
       "      <td>0.838325</td>\n",
       "    </tr>\n",
       "  </tbody>\n",
       "</table>\n",
       "</div>"
      ],
      "text/plain": [
       "                   RandomForest  KNeighbors  GaussianNB    KMeans  \\\n",
       "CV_Bal_Accuracy        0.949116    0.794679    0.843747  0.543335   \n",
       "Test_Bal_Accuracy      0.946133    0.806822    0.842938  0.541108   \n",
       "\n",
       "                   GaussianNB_St  \n",
       "CV_Bal_Accuracy         0.840694  \n",
       "Test_Bal_Accuracy       0.838325  "
      ]
     },
     "execution_count": 75,
     "metadata": {},
     "output_type": "execute_result"
    }
   ],
   "source": [
    "models_df"
   ]
  },
  {
   "cell_type": "markdown",
   "metadata": {},
   "source": [
    "### Visually comparing our models, we can see that the most accurate model on our data is the random forest model. Looking at the numerical data from the dataframe, we see indeed a balanced accuracy of nearly 95% on our spam data, a very good score. \n",
    "\n",
    "### The K-means model is the least performant, which may not be too surprising as it is a model of unsupervised learning. Therefore, it didn't use the knowledge of the class in the training data, it simplfy tried to group data points together based solely on their numerical attributes. At least on this dataset, it underperformed compared our other models. \n",
    "\n",
    "### Meanwhile, the Naive Bayes and k-nearest neighbors models achieved a rather good outcome, respectively 84% and 80% on the balanced accuracy. "
   ]
  },
  {
   "cell_type": "markdown",
   "metadata": {},
   "source": [
    "#### Now we can fit the models to the entire dataset to potentially use them on new data. Indeed, the purpose of the cross-validation step we used was to allow us to fine-tune the hyperparameters with the goal to improve the model's performance. Once we have the best model, we can feed it the entire dataset as more data often leads to better results. And the test data would just be wasted if we didn't use it. "
   ]
  },
  {
   "cell_type": "code",
   "execution_count": 76,
   "metadata": {},
   "outputs": [
    {
     "data": {
      "text/plain": [
       "KMeans(n_clusters=2)"
      ]
     },
     "execution_count": 76,
     "metadata": {},
     "output_type": "execute_result"
    }
   ],
   "source": [
    "model_GNB.fit(X,y)\n",
    "model_KNN.fit(X,y)\n",
    "model_RF.fit(X,y)\n",
    "model_KM.fit(X,y)"
   ]
  },
  {
   "cell_type": "code",
   "execution_count": null,
   "metadata": {},
   "outputs": [],
   "source": []
  },
  {
   "cell_type": "markdown",
   "metadata": {},
   "source": [
    "### Remember that we found earlier what features had the biggest impact on the target class. Let's pick a few of the most frequent features in each class and use them with a random forest model to see the difference in performance. \n",
    "As a reminder, here are the graphs showing the most frequent words and charactes for each class: "
   ]
  },
  {
   "cell_type": "code",
   "execution_count": 77,
   "metadata": {},
   "outputs": [
    {
     "data": {
      "image/png": "[encoded data removed]",
      "text/plain": [
       "<Figure size 1080x864 with 1 Axes>"
      ]
     },
     "metadata": {
      "needs_background": "light"
     },
     "output_type": "display_data"
    }
   ],
   "source": [
    "spambase_prop_1.sort_values(ascending=True).plot(kind='barh',figsize=(15,12))\n",
    "plt.grid(axis='x')\n",
    "plt.xlabel(\"X times more frequent in spam\", fontsize=12)\n",
    "plt.title('Most frequent words and characters on average in spam emails vs non-spam emails',fontsize=15)\n",
    "plt.show()"
   ]
  },
  {
   "cell_type": "code",
   "execution_count": 78,
   "metadata": {},
   "outputs": [
    {
     "data": {
      "image/png": "[encoded data removed]",
      "text/plain": [
       "<Figure size 1080x864 with 1 Axes>"
      ]
     },
     "metadata": {
      "needs_background": "light"
     },
     "output_type": "display_data"
    }
   ],
   "source": [
    "# same graph as above for the non-spam emails. Looks similar but for different words. \n",
    "\n",
    "spambase_prop_0.sort_values(ascending=True).plot(kind='barh',figsize=(15,12))\n",
    "plt.xlabel(\"X times more frequent in non-spam\", fontsize=12)\n",
    "plt.title('Most frequent words and characters on average in non-spam emails vs spam emails',fontsize=15)\n",
    "plt.xticks(np.arange(min(spambase_prop_0),max(spambase_prop_0),50))\n",
    "plt.grid(axis='x')\n",
    "plt.show()"
   ]
  },
  {
   "cell_type": "markdown",
   "metadata": {},
   "source": [
    "#### The words and characters (~features) we choose are 3d, 000, remove, credit, $, addresses, money for spam emails ; cs, george, lab, 857, meeting, telnet, hp, hpl, 415 for non-spam emails and the three features about uppercase letters in emails as they provide different information. "
   ]
  },
  {
   "cell_type": "code",
   "execution_count": 79,
   "metadata": {
    "scrolled": true
   },
   "outputs": [
    {
     "data": {
      "text/plain": [
       "['word_freq_3d',\n",
       " 'word_freq_000',\n",
       " 'word_freq_remove',\n",
       " 'word_freq_credit',\n",
       " 'char_freq_$',\n",
       " 'word_freq_addresses',\n",
       " 'word_freq_money',\n",
       " 'word_freq_cs',\n",
       " 'word_freq_george',\n",
       " 'word_freq_lab',\n",
       " 'word_freq_857',\n",
       " 'word_freq_meeting',\n",
       " 'word_freq_telnet',\n",
       " 'word_freq_hp',\n",
       " 'word_freq_hpl',\n",
       " 'word_freq_415',\n",
       " 'capital_run_length_average',\n",
       " 'capital_run_length_longest',\n",
       " 'capital_run_length_total']"
      ]
     },
     "execution_count": 79,
     "metadata": {},
     "output_type": "execute_result"
    }
   ],
   "source": [
    "cut_features = ['word_freq_3d','word_freq_000','word_freq_remove','word_freq_credit','char_freq_$','word_freq_addresses','word_freq_money','word_freq_cs','word_freq_george','word_freq_lab','word_freq_857','word_freq_meeting','word_freq_telnet','word_freq_hp','word_freq_hpl','word_freq_415','capital_run_length_average','capital_run_length_longest','capital_run_length_total']\n",
    "cut_features"
   ]
  },
  {
   "cell_type": "code",
   "execution_count": 80,
   "metadata": {},
   "outputs": [
    {
     "data": {
      "text/plain": [
       "19"
      ]
     },
     "execution_count": 80,
     "metadata": {},
     "output_type": "execute_result"
    }
   ],
   "source": [
    "len(cut_features)"
   ]
  },
  {
   "cell_type": "code",
   "execution_count": 81,
   "metadata": {},
   "outputs": [
    {
     "data": {
      "text/plain": [
       "(4601, 19)"
      ]
     },
     "execution_count": 81,
     "metadata": {},
     "output_type": "execute_result"
    }
   ],
   "source": [
    "# Our reduced dataset\n",
    "X_cut = X[cut_features]\n",
    "X_cut.shape"
   ]
  },
  {
   "cell_type": "code",
   "execution_count": null,
   "metadata": {},
   "outputs": [],
   "source": []
  },
  {
   "cell_type": "code",
   "execution_count": 82,
   "metadata": {},
   "outputs": [
    {
     "data": {
      "text/plain": [
       "((3680, 19), (921, 19))"
      ]
     },
     "execution_count": 82,
     "metadata": {},
     "output_type": "execute_result"
    }
   ],
   "source": [
    "# Model training\n",
    "Xtrain_cut, Xtest_cut, ytrain, ytest = train_test_split(X_cut,y,stratify=y, random_state=1, test_size=0.2)\n",
    "Xtrain_cut.shape,Xtest_cut.shape"
   ]
  },
  {
   "cell_type": "code",
   "execution_count": 83,
   "metadata": {},
   "outputs": [],
   "source": [
    "def bal_acc_RF_cut(n_estimators):\n",
    "    \"\"\"Returns the average balanced accuracy over 5 folds of a random forest model. \n",
    "    n_estimators: number of trees used in the forest \n",
    "    \"\"\"\n",
    "    model = RandomForestClassifier(n_estimators=n_estimators)\n",
    "    b_acc = cross_val_score(model, Xtrain_cut, ytrain, scoring='balanced_accuracy').mean()\n",
    "    return b_acc"
   ]
  },
  {
   "cell_type": "code",
   "execution_count": 84,
   "metadata": {},
   "outputs": [
    {
     "name": "stdout",
     "output_type": "stream",
     "text": [
      "{50: 0.9245430647904748, 150: 0.9276295036338332, 250: 0.9283361682387505, 350: 0.9275259007267666, 450: 0.9262672027215093, 550: 0.9271810731405598, 650: 0.9278537188804702, 750: 0.9248878923766816, 850: 0.926956857893923, 950: 0.9267156332147828}\n"
     ]
    }
   ],
   "source": [
    "# Determine the balanced accuracy for different values of the n_estimators model parameter \n",
    "keys_RF_cut = [i for i in range(50,1000,100)]\n",
    "values_RF_cut = [bal_acc_RF_cut(x) for x in keys_RF_cut]\n",
    "baccs_RF_cut = dict(zip(keys_RF_cut, values_RF_cut))\n",
    "print(baccs_RF_cut)"
   ]
  },
  {
   "cell_type": "code",
   "execution_count": 85,
   "metadata": {
    "scrolled": false
   },
   "outputs": [
    {
     "data": {
      "image/png": "[encoded data removed]",
      "text/plain": [
       "<Figure size 1080x720 with 1 Axes>"
      ]
     },
     "metadata": {
      "needs_background": "light"
     },
     "output_type": "display_data"
    }
   ],
   "source": [
    "# let's plot the balanced accuracy for different numbers of trees in our random forest model\n",
    "plt.figure(figsize=(15,10))\n",
    "plt.plot(list(keys_RF_cut), list(values_RF_cut))\n",
    "plt.xlabel(\"Number of trees\",fontsize=14)\n",
    "plt.ylabel(\"Balanced accuracy at training\",fontsize=14)\n",
    "plt.title(\"Balanced accuracy depending on the number of trees with 19 selected features\",fontsize=17)\n",
    "plt.xticks(keys_RF_cut) \n",
    "    # xticks allows us to see ticks for all the values of our independant variable\n",
    "    # it is used by grid to diplay the grid lines\n",
    "plt.grid(axis='x')"
   ]
  },
  {
   "cell_type": "code",
   "execution_count": 86,
   "metadata": {},
   "outputs": [
    {
     "name": "stdout",
     "output_type": "stream",
     "text": [
      "250 0.9283361682387505\n"
     ]
    }
   ],
   "source": [
    "# Find the best best balanced accuracy and the n_estimators parameter associated. \n",
    "best_acc_RF_cut = max(values_RF_cut)\n",
    "best_acc_RF_tree_nb_cut = max(baccs_RF_cut, key=baccs_RF_cut.get)  # the nb of trees giving the best performance\n",
    "print(best_acc_RF_tree_nb_cut, best_acc_RF_cut)"
   ]
  },
  {
   "cell_type": "code",
   "execution_count": 87,
   "metadata": {},
   "outputs": [
    {
     "data": {
      "text/plain": [
       "RandomForestClassifier(n_estimators=250, random_state=1)"
      ]
     },
     "execution_count": 87,
     "metadata": {},
     "output_type": "execute_result"
    }
   ],
   "source": [
    "model_RF_cut = RandomForestClassifier(n_estimators=best_acc_RF_tree_nb_cut, random_state=1) \n",
    "    # we just define the number of trees used and use random_state for reproducibility \n",
    "model_RF_cut.fit(Xtrain_cut,ytrain)"
   ]
  },
  {
   "cell_type": "code",
   "execution_count": 88,
   "metadata": {},
   "outputs": [
    {
     "data": {
      "text/plain": [
       "0.9267156332147828"
      ]
     },
     "execution_count": 88,
     "metadata": {},
     "output_type": "execute_result"
    }
   ],
   "source": [
    "cross_val_score(model_RF_cut, Xtrain_cut, ytrain, scoring='balanced_accuracy').mean()"
   ]
  },
  {
   "cell_type": "code",
   "execution_count": 89,
   "metadata": {},
   "outputs": [
    {
     "data": {
      "text/plain": [
       "0.9103720489350988"
      ]
     },
     "execution_count": 89,
     "metadata": {},
     "output_type": "execute_result"
    }
   ],
   "source": [
    "acc_test_rf_cut = balanced_accuracy_score(ytest, model_RF_cut.predict(Xtest_cut))\n",
    "acc_test_rf_cut"
   ]
  },
  {
   "cell_type": "markdown",
   "metadata": {},
   "source": [
    "### As we can see, with just a third of the features we still get a balanced accuracy of over 90%. This is very good, makes our model lighter and uses less resources. \n",
    " "
   ]
  },
  {
   "cell_type": "code",
   "execution_count": 90,
   "metadata": {},
   "outputs": [
    {
     "data": {
      "text/html": [
       "<div>\n",
       "<style scoped>\n",
       "    .dataframe tbody tr th:only-of-type {\n",
       "        vertical-align: middle;\n",
       "    }\n",
       "\n",
       "    .dataframe tbody tr th {\n",
       "        vertical-align: top;\n",
       "    }\n",
       "\n",
       "    .dataframe thead th {\n",
       "        text-align: right;\n",
       "    }\n",
       "</style>\n",
       "<table border=\"1\" class=\"dataframe\">\n",
       "  <thead>\n",
       "    <tr style=\"text-align: right;\">\n",
       "      <th></th>\n",
       "      <th>RandomForest</th>\n",
       "      <th>KNeighbors</th>\n",
       "      <th>GaussianNB</th>\n",
       "      <th>KMeans</th>\n",
       "      <th>GaussianNB_St</th>\n",
       "      <th>RandomForest19</th>\n",
       "    </tr>\n",
       "  </thead>\n",
       "  <tbody>\n",
       "    <tr>\n",
       "      <th>CV_Bal_Accuracy</th>\n",
       "      <td>0.949116</td>\n",
       "      <td>0.794679</td>\n",
       "      <td>0.843747</td>\n",
       "      <td>0.543335</td>\n",
       "      <td>0.840694</td>\n",
       "      <td>0.928336</td>\n",
       "    </tr>\n",
       "    <tr>\n",
       "      <th>Test_Bal_Accuracy</th>\n",
       "      <td>0.946133</td>\n",
       "      <td>0.806822</td>\n",
       "      <td>0.842938</td>\n",
       "      <td>0.541108</td>\n",
       "      <td>0.838325</td>\n",
       "      <td>0.910372</td>\n",
       "    </tr>\n",
       "  </tbody>\n",
       "</table>\n",
       "</div>"
      ],
      "text/plain": [
       "                   RandomForest  KNeighbors  GaussianNB    KMeans  \\\n",
       "CV_Bal_Accuracy        0.949116    0.794679    0.843747  0.543335   \n",
       "Test_Bal_Accuracy      0.946133    0.806822    0.842938  0.541108   \n",
       "\n",
       "                   GaussianNB_St  RandomForest19  \n",
       "CV_Bal_Accuracy         0.840694        0.928336  \n",
       "Test_Bal_Accuracy       0.838325        0.910372  "
      ]
     },
     "execution_count": 90,
     "metadata": {},
     "output_type": "execute_result"
    }
   ],
   "source": [
    "models_df['RandomForest19'] = [best_acc_RF_cut, acc_test_rf_cut]\n",
    "models_df"
   ]
  },
  {
   "cell_type": "code",
   "execution_count": 91,
   "metadata": {
    "scrolled": false
   },
   "outputs": [
    {
     "data": {
      "image/png": "[encoded data removed]",
      "text/plain": [
       "<Figure size 864x576 with 1 Axes>"
      ]
     },
     "metadata": {
      "needs_background": "light"
     },
     "output_type": "display_data"
    }
   ],
   "source": [
    "# Visualize the performance of our models after cross-validation and after comparison with test data\n",
    "models_df.T.plot(kind='bar',figsize=(12,8), rot=20)\n",
    "plt.show()"
   ]
  },
  {
   "cell_type": "markdown",
   "metadata": {},
   "source": [
    "### As the graph shows, our random forest model with fewer features performs slightly below our full random forest model but outperforms all the other models. "
   ]
  },
  {
   "cell_type": "code",
   "execution_count": 92,
   "metadata": {},
   "outputs": [
    {
     "data": {
      "text/html": [
       "<div>\n",
       "<style scoped>\n",
       "    .dataframe tbody tr th:only-of-type {\n",
       "        vertical-align: middle;\n",
       "    }\n",
       "\n",
       "    .dataframe tbody tr th {\n",
       "        vertical-align: top;\n",
       "    }\n",
       "\n",
       "    .dataframe thead th {\n",
       "        text-align: right;\n",
       "    }\n",
       "</style>\n",
       "<table border=\"1\" class=\"dataframe\">\n",
       "  <thead>\n",
       "    <tr style=\"text-align: right;\">\n",
       "      <th></th>\n",
       "      <th>RandomForest</th>\n",
       "      <th>KNeighbors</th>\n",
       "      <th>GaussianNB</th>\n",
       "      <th>KMeans</th>\n",
       "      <th>GaussianNB_St</th>\n",
       "      <th>RandomForest19</th>\n",
       "    </tr>\n",
       "  </thead>\n",
       "  <tbody>\n",
       "    <tr>\n",
       "      <th>CV_Bal_Accuracy</th>\n",
       "      <td>0.949116</td>\n",
       "      <td>0.794679</td>\n",
       "      <td>0.843747</td>\n",
       "      <td>0.543335</td>\n",
       "      <td>0.840694</td>\n",
       "      <td>0.928336</td>\n",
       "    </tr>\n",
       "    <tr>\n",
       "      <th>Test_Bal_Accuracy</th>\n",
       "      <td>0.946133</td>\n",
       "      <td>0.806822</td>\n",
       "      <td>0.842938</td>\n",
       "      <td>0.541108</td>\n",
       "      <td>0.838325</td>\n",
       "      <td>0.910372</td>\n",
       "    </tr>\n",
       "  </tbody>\n",
       "</table>\n",
       "</div>"
      ],
      "text/plain": [
       "                   RandomForest  KNeighbors  GaussianNB    KMeans  \\\n",
       "CV_Bal_Accuracy        0.949116    0.794679    0.843747  0.543335   \n",
       "Test_Bal_Accuracy      0.946133    0.806822    0.842938  0.541108   \n",
       "\n",
       "                   GaussianNB_St  RandomForest19  \n",
       "CV_Bal_Accuracy         0.840694        0.928336  \n",
       "Test_Bal_Accuracy       0.838325        0.910372  "
      ]
     },
     "execution_count": 92,
     "metadata": {},
     "output_type": "execute_result"
    }
   ],
   "source": [
    "models_df"
   ]
  },
  {
   "cell_type": "code",
   "execution_count": null,
   "metadata": {},
   "outputs": [],
   "source": []
  },
  {
   "cell_type": "markdown",
   "metadata": {},
   "source": [
    "### Efficiency "
   ]
  },
  {
   "cell_type": "markdown",
   "metadata": {},
   "source": [
    "#### Let's use %timeit to compare the time both random forests take at cross-validation (trying several values to find the best), at model building and at prediction. We'll copy and time the snippets of code from earlier for these steps of our random forest models. "
   ]
  },
  {
   "cell_type": "markdown",
   "metadata": {},
   "source": [
    "###### Calculation of balanced accuracy with cross-validation for several values "
   ]
  },
  {
   "cell_type": "code",
   "execution_count": null,
   "metadata": {},
   "outputs": [],
   "source": [
    "%timeit values_RF = [bal_acc_RF(x) for x in keys_RF]  # values of balanced accuracy for each n_estimators"
   ]
  },
  {
   "cell_type": "code",
   "execution_count": null,
   "metadata": {},
   "outputs": [],
   "source": [
    "%timeit values_RF_cut = [bal_acc_RF_cut(x) for x in keys_RF_cut]"
   ]
  },
  {
   "cell_type": "markdown",
   "metadata": {},
   "source": [
    "###### Model building and fitting "
   ]
  },
  {
   "cell_type": "code",
   "execution_count": null,
   "metadata": {},
   "outputs": [],
   "source": [
    "%%timeit \n",
    "\n",
    "model_RF = RandomForestClassifier(n_estimators=best_acc_RF_tree_nb, random_state=1) \n",
    "    # we just define the number of trees used and use random_state for reproducibility \n",
    "model_RF.fit(Xtrain,ytrain)"
   ]
  },
  {
   "cell_type": "code",
   "execution_count": null,
   "metadata": {},
   "outputs": [],
   "source": [
    "%%timeit\n",
    "\n",
    "model_RF_cut = RandomForestClassifier(n_estimators=best_acc_RF_tree_nb_cut, random_state=1) \n",
    "    # we just define the number of trees used and use random_state for reproducibility \n",
    "model_RF_cut.fit(Xtrain_cut,ytrain)"
   ]
  },
  {
   "cell_type": "markdown",
   "metadata": {},
   "source": [
    "###### Final performance estimation "
   ]
  },
  {
   "cell_type": "code",
   "execution_count": null,
   "metadata": {},
   "outputs": [],
   "source": [
    "%timeit balanced_accuracy_score(ytest, model_RF.predict(Xtest))"
   ]
  },
  {
   "cell_type": "code",
   "execution_count": null,
   "metadata": {},
   "outputs": [],
   "source": [
    "%timeit balanced_accuracy_score(ytest, model_RF_cut.predict(Xtest_cut))"
   ]
  },
  {
   "cell_type": "markdown",
   "metadata": {},
   "source": [
    "### With one third of the features, all the operations above end up being faster, taking between 40% and 65% of the time taken by the full model. In a real-world setting where we could have much more data and many more features, this could make enormous difference in efficiency. \n",
    "### Other steps to further improve the efficiency of our code include running code in parallel and using scikit-learn modules that could do some steps of this work more efficiently. "
   ]
  },
  {
   "cell_type": "code",
   "execution_count": null,
   "metadata": {},
   "outputs": [],
   "source": []
  }
 ],
 "metadata": {
  "kernelspec": {
   "display_name": "Python 3",
   "language": "python",
   "name": "python3"
  },
  "language_info": {
   "codemirror_mode": {
    "name": "ipython",
    "version": 3
   },
   "file_extension": ".py",
   "mimetype": "text/x-python",
   "name": "python",
   "nbconvert_exporter": "python",
   "pygments_lexer": "ipython3",
   "version": "3.8.3"
  }
 },
 "nbformat": 4,
 "nbformat_minor": 4
}
